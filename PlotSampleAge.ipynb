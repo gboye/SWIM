{
 "cells": [
  {
   "cell_type": "markdown",
   "metadata": {},
   "source": [
    "# Graphe : nombre de formes en fonction de l'âge"
   ]
  },
  {
   "cell_type": "code",
   "execution_count": 2,
   "metadata": {
    "collapsed": true,
    "jupyter": {
     "outputs_hidden": true
    }
   },
   "outputs": [],
   "source": [
    "import pandas as pd"
   ]
  },
  {
   "cell_type": "code",
   "execution_count": 3,
   "metadata": {
    "collapsed": false,
    "jupyter": {
     "outputs_hidden": false
    }
   },
   "outputs": [],
   "source": [
    "import matplotlib.pyplot as plt\n",
    "%matplotlib inline"
   ]
  },
  {
   "cell_type": "markdown",
   "metadata": {},
   "source": [
    "### Définitions des constantes"
   ]
  },
  {
   "cell_type": "code",
   "execution_count": 4,
   "metadata": {
    "collapsed": true,
    "jupyter": {
     "outputs_hidden": true
    }
   },
   "outputs": [],
   "source": [
    "nbJoursAn=365\n",
    "nbAnnees=8\n",
    "million=1000000"
   ]
  },
  {
   "cell_type": "markdown",
   "metadata": {},
   "source": [
    "### Nombre de milliers de tirages en fonction de l'âge"
   ]
  },
  {
   "cell_type": "code",
   "execution_count": 5,
   "metadata": {
    "collapsed": true,
    "jupyter": {
     "outputs_hidden": true
    }
   },
   "outputs": [],
   "source": [
    "def nbFormesLexique(nbAnnees):\n",
    "    return nbFormesJour*nbJoursAn*nbAnnees//1000"
   ]
  },
  {
   "cell_type": "markdown",
   "metadata": {},
   "source": [
    "### Données Tirages et Nombres de formes"
   ]
  },
  {
   "cell_type": "code",
   "execution_count": 6,
   "metadata": {
    "collapsed": false,
    "jupyter": {
     "outputs_hidden": false
    }
   },
   "outputs": [],
   "source": [
    "lexiqueTaillesBase=[23278,31402,36586,40411,43439,45894,47978,49753,51308,52615,60781,64536,66693,68046,68984,69683,70152,70560,70849,72445,73137,73551,73840,74070,74242,74395,74561,74702]\n",
    "lexiqueTiragesBase=[200,400,600,800,1000,1200,1400,1600,1800,2000,4000,6000,8000,10000,12000,14000,16000,18000,20000,40000,60000,80000,100000,120000,140000,160000,180000,200000]\n",
    "taillesSupplementaires=[76076, 77351, 78517, 79565, 80618, 81578, 82505]\n",
    "tiragesSupplementaires=[200000*(i+2) for i in range(7)]\n",
    "lexiqueTailles=lexiqueTaillesBase+taillesSupplementaires\n",
    "lexiqueTirages=lexiqueTiragesBase+tiragesSupplementaires\n",
    "#print len(lexiqueTailles)\n",
    "#print len(lexiqueTirages)"
   ]
  },
  {
   "cell_type": "code",
   "execution_count": 7,
   "metadata": {
    "collapsed": false,
    "jupyter": {
     "outputs_hidden": false
    }
   },
   "outputs": [
    {
     "data": {
      "image/png": "[encoded data removed]",
      "text/plain": [
       "<matplotlib.figure.Figure at 0x105ef2950>"
      ]
     },
     "metadata": {},
     "output_type": "display_data"
    }
   ],
   "source": [
    "tiragesLexiques=pd.Series(lexiqueTailles,index=lexiqueTirages,name=\"milliers de tirages\")\n",
    "ax=tiragesLexiques.interpolate(method=\"cubic\").plot(\n",
    "    style=[\"b\"],\n",
    "    figsize=(12,6),\n",
    "    title=\"Variation de la taille du lexique en fonction du nombre de tirages\")\n",
    "plt.plot([10000, 10000], [20000, 80000], 'r--', lw=2)\n",
    "plt.plot([20000, 20000], [20000, 80000], 'y--', lw=2)\n",
    "plt.plot([0, 200000], [70000, 70000], 'g--', lw=2)\n",
    "plt.annotate('67000', xy=(10000, 68000), xytext=(5000, 55000),\n",
    "            arrowprops=dict(facecolor='blue', width=1,headwidth=7),\n",
    "            )\n",
    "plt.annotate('71000', xy=(20000, 71000), xytext=(15000, 55000),\n",
    "            arrowprops=dict(facecolor='red', width=1,headwidth=7),\n",
    "            )\n",
    "plt.xlim(0,25000)\n",
    "ax.set(xlabel=\"nombre de milliers de tirages\",ylabel=\"taille du lexique\")\n",
    "#plt.xticks(list(plt.xticks()[0])+[8.])\n",
    "plt.yticks(list(plt.yticks()[0])+[75000.])\n",
    "plt.show()"
   ]
  },
  {
   "cell_type": "markdown",
   "metadata": {},
   "source": [
    "### Liste de nombres de tirages/jour\n",
    "- liste des nombres de tirages/jour à tracer pour le graphe : nombre de formes=f(âge)"
   ]
  },
  {
   "cell_type": "code",
   "execution_count": 8,
   "metadata": {
    "collapsed": false,
    "jupyter": {
     "outputs_hidden": false
    }
   },
   "outputs": [
    {
     "data": {
      "text/plain": [
       "[1000, 2000, 3000, 4000, 5000]"
      ]
     },
     "execution_count": 8,
     "metadata": {},
     "output_type": "execute_result"
    }
   ],
   "source": [
    "ageMax=2500.0\n",
    "nbFormesJour=[1000*(i+1) for i in range(5)]\n",
    "nbFormesJour"
   ]
  },
  {
   "cell_type": "markdown",
   "metadata": {},
   "source": [
    "Calcul de l'âge en fonction du nombre de tirages et du nombre de tirages/jour"
   ]
  },
  {
   "cell_type": "code",
   "execution_count": 9,
   "metadata": {
    "collapsed": false,
    "jupyter": {
     "outputs_hidden": false
    }
   },
   "outputs": [],
   "source": [
    "def ageTirages(nbTirages,nombreFormes=2500):\n",
    "    return float(nbTirages*1000)/(nombreFormes*nbJoursAn)"
   ]
  },
  {
   "cell_type": "markdown",
   "metadata": {},
   "source": [
    "Calcul de la correspondance : (âge, nombre de formes) pour un certain nombre de tirages/jour"
   ]
  },
  {
   "cell_type": "code",
   "execution_count": 10,
   "metadata": {
    "collapsed": false,
    "jupyter": {
     "outputs_hidden": false
    }
   },
   "outputs": [],
   "source": [
    "def agesLexiques(nombreFormes):\n",
    "    ages=[]\n",
    "    nbLexiques=[]\n",
    "    nbTirages=[]\n",
    "    for num,nbTirage in enumerate(lexiqueTirages):\n",
    "        age=ageTirages(nbTirage,nombreFormes)\n",
    "        if age<ageMax:\n",
    "            ages.append(ageTirages(nbTirage,nombreFormes))\n",
    "            nbLexiques.append(lexiqueTailles[num])\n",
    "            nbTirages.append(nbTirage*1000)\n",
    "    result=pd.Series(nbLexiques,index=[(divmod(a,.01)[0])/100 for a in ages],name=\"%d formes/jour\"%nombreFormes)\n",
    "    return result"
   ]
  },
  {
   "cell_type": "markdown",
   "metadata": {},
   "source": [
    "- Accumulation des DataFrame (âge, nombre de formes) dans la liste graphes\n",
    "- création du DataFrame ageLexiques à partir de graphes"
   ]
  },
  {
   "cell_type": "code",
   "execution_count": 11,
   "metadata": {
    "collapsed": false,
    "jupyter": {
     "outputs_hidden": false
    }
   },
   "outputs": [],
   "source": [
    "graphes=[]\n",
    "for nb in nbFormesJour:\n",
    "    graphes.append(agesLexiques(nb))\n",
    "ageLexiques=pd.concat(graphes, axis=1)"
   ]
  },
  {
   "cell_type": "markdown",
   "metadata": {},
   "source": [
    "- interpolation des correspondances (âge, nombre de formes)\n",
    "- création des n graphes correspondant (style => couleurs, figsize => taille)\n",
    "- ajout des barres à x=8, y=75000\n",
    "- ajout des flêches\n",
    "- définition des limites du dessin sur x\n",
    "- affichage du dessin"
   ]
  },
  {
   "cell_type": "code",
   "execution_count": 17,
   "metadata": {
    "collapsed": false,
    "jupyter": {
     "outputs_hidden": false
    }
   },
   "outputs": [
    {
     "data": {
      "image/png": "[encoded data removed]",
      "text/plain": [
       "<matplotlib.figure.Figure at 0x10b7018d0>"
      ]
     },
     "metadata": {},
     "output_type": "display_data"
    }
   ],
   "source": [
    "dfAgeLexiques=ageLexiques.interpolate(method=\"cubic\")\n",
    "ax=dfAgeLexiques.plot(\n",
    "    style=[\"r\",\"g\",\"b\",\"y\",\"c\"],\n",
    "    figsize=(12,6),\n",
    "    title=u\"Variation de la taille du lexique en fonction de l'âge\")\n",
    "plt.plot([8, 8], [20000, 80000], 'k--', lw=2)\n",
    "plt.plot([0, 12], [75000, 75000], 'k--', lw=2)\n",
    "plt.annotate('67000', xy=(8, 67000), xytext=(10, 55000),\n",
    "            arrowprops=dict(facecolor='blue', width=1,headwidth=8),\n",
    "            )\n",
    "plt.annotate('57000', xy=(8, 57000), xytext=(6, 44000),\n",
    "            arrowprops=dict(facecolor='red', width=1,headwidth=8),\n",
    "            )\n",
    "plt.xticks(range(200))\n",
    "plt.xlim(0,12)\n",
    "plt.ylim(30000,80000)\n",
    "ax.set(xlabel=u\"âge en années\",ylabel=\"taille du lexique\")\n",
    "ax.legend(loc='lower right', bbox_to_anchor=(0.975, 0.05),ncol=1, fancybox=True, shadow=True)\n",
    "plt.yticks(list(plt.yticks()[0])+[75000.])\n",
    "plt.show()"
   ]
  },
  {
   "cell_type": "code",
   "execution_count": 83,
   "metadata": {
    "collapsed": false,
    "jupyter": {
     "outputs_hidden": false
    }
   },
   "outputs": [
    {
     "data": {
      "text/html": [
       "<div>\n",
       "<table border=\"1\" class=\"dataframe\">\n",
       "  <thead>\n",
       "    <tr style=\"text-align: right;\">\n",
       "      <th></th>\n",
       "      <th>1000 formes/jour</th>\n",
       "      <th>2000 formes/jour</th>\n",
       "      <th>3000 formes/jour</th>\n",
       "      <th>4000 formes/jour</th>\n",
       "      <th>5000 formes/jour</th>\n",
       "    </tr>\n",
       "  </thead>\n",
       "  <tbody>\n",
       "    <tr>\n",
       "      <th>0.10</th>\n",
       "      <td>NaN</td>\n",
       "      <td>NaN</td>\n",
       "      <td>NaN</td>\n",
       "      <td>NaN</td>\n",
       "      <td>23278.000000</td>\n",
       "    </tr>\n",
       "    <tr>\n",
       "      <th>0.13</th>\n",
       "      <td>NaN</td>\n",
       "      <td>NaN</td>\n",
       "      <td>NaN</td>\n",
       "      <td>23278.000000</td>\n",
       "      <td>25899.852723</td>\n",
       "    </tr>\n",
       "    <tr>\n",
       "      <th>0.18</th>\n",
       "      <td>NaN</td>\n",
       "      <td>NaN</td>\n",
       "      <td>23278.000000</td>\n",
       "      <td>26697.356459</td>\n",
       "      <td>29560.855180</td>\n",
       "    </tr>\n",
       "    <tr>\n",
       "      <th>0.21</th>\n",
       "      <td>NaN</td>\n",
       "      <td>NaN</td>\n",
       "      <td>24897.392695</td>\n",
       "      <td>28445.004348</td>\n",
       "      <td>31402.000000</td>\n",
       "    </tr>\n",
       "    <tr>\n",
       "      <th>0.27</th>\n",
       "      <td>NaN</td>\n",
       "      <td>23278.000000</td>\n",
       "      <td>27797.784634</td>\n",
       "      <td>31402.000000</td>\n",
       "      <td>34474.710560</td>\n",
       "    </tr>\n",
       "    <tr>\n",
       "      <th>0.32</th>\n",
       "      <td>NaN</td>\n",
       "      <td>25133.390869</td>\n",
       "      <td>29901.681926</td>\n",
       "      <td>33458.699622</td>\n",
       "      <td>36586.000000</td>\n",
       "    </tr>\n",
       "    <tr>\n",
       "      <th>0.36</th>\n",
       "      <td>NaN</td>\n",
       "      <td>26487.883808</td>\n",
       "      <td>31402.000000</td>\n",
       "      <td>34915.991627</td>\n",
       "      <td>38088.358836</td>\n",
       "    </tr>\n",
       "    <tr>\n",
       "      <th>0.41</th>\n",
       "      <td>NaN</td>\n",
       "      <td>28033.274167</td>\n",
       "      <td>33074.831811</td>\n",
       "      <td>36586.000000</td>\n",
       "      <td>39783.141957</td>\n",
       "    </tr>\n",
       "    <tr>\n",
       "      <th>0.43</th>\n",
       "      <td>NaN</td>\n",
       "      <td>28609.027561</td>\n",
       "      <td>33687.369274</td>\n",
       "      <td>37225.746706</td>\n",
       "      <td>40411.000000</td>\n",
       "    </tr>\n",
       "    <tr>\n",
       "      <th>0.54</th>\n",
       "      <td>23278.000000</td>\n",
       "      <td>31402.000000</td>\n",
       "      <td>36586.000000</td>\n",
       "      <td>40411.000000</td>\n",
       "      <td>43439.000000</td>\n",
       "    </tr>\n",
       "    <tr>\n",
       "      <th>0.65</th>\n",
       "      <td>25231.297714</td>\n",
       "      <td>33690.315520</td>\n",
       "      <td>38918.138558</td>\n",
       "      <td>42863.533667</td>\n",
       "      <td>45894.000000</td>\n",
       "    </tr>\n",
       "    <tr>\n",
       "      <th>0.68</th>\n",
       "      <td>25732.022204</td>\n",
       "      <td>34247.116039</td>\n",
       "      <td>39491.387850</td>\n",
       "      <td>43439.000000</td>\n",
       "      <td>46495.220194</td>\n",
       "    </tr>\n",
       "    <tr>\n",
       "      <th>0.73</th>\n",
       "      <td>26537.632439</td>\n",
       "      <td>35124.922351</td>\n",
       "      <td>40411.000000</td>\n",
       "      <td>44348.590856</td>\n",
       "      <td>47442.720625</td>\n",
       "    </tr>\n",
       "    <tr>\n",
       "      <th>0.76</th>\n",
       "      <td>27004.174834</td>\n",
       "      <td>35626.313275</td>\n",
       "      <td>40948.454327</td>\n",
       "      <td>44872.809767</td>\n",
       "      <td>47978.000000</td>\n",
       "    </tr>\n",
       "    <tr>\n",
       "      <th>0.82</th>\n",
       "      <td>27900.937104</td>\n",
       "      <td>36586.000000</td>\n",
       "      <td>41989.664091</td>\n",
       "      <td>45894.000000</td>\n",
       "      <td>48977.412652</td>\n",
       "    </tr>\n",
       "    <tr>\n",
       "      <th>0.87</th>\n",
       "      <td>28612.803096</td>\n",
       "      <td>37353.574393</td>\n",
       "      <td>42814.070162</td>\n",
       "      <td>46729.942435</td>\n",
       "      <td>49753.000000</td>\n",
       "    </tr>\n",
       "    <tr>\n",
       "      <th>0.91</th>\n",
       "      <td>29160.194988</td>\n",
       "      <td>37948.541185</td>\n",
       "      <td>43439.000000</td>\n",
       "      <td>47373.943194</td>\n",
       "      <td>50345.105026</td>\n",
       "    </tr>\n",
       "    <tr>\n",
       "      <th>0.95</th>\n",
       "      <td>29688.784038</td>\n",
       "      <td>38526.347119</td>\n",
       "      <td>44029.965190</td>\n",
       "      <td>47978.000000</td>\n",
       "      <td>50908.374178</td>\n",
       "    </tr>\n",
       "    <tr>\n",
       "      <th>0.98</th>\n",
       "      <td>30073.354239</td>\n",
       "      <td>38948.334501</td>\n",
       "      <td>44452.998718</td>\n",
       "      <td>48396.977100</td>\n",
       "      <td>51308.000000</td>\n",
       "    </tr>\n",
       "    <tr>\n",
       "      <th>1.09</th>\n",
       "      <td>31402.000000</td>\n",
       "      <td>40411.000000</td>\n",
       "      <td>45894.000000</td>\n",
       "      <td>49753.000000</td>\n",
       "      <td>52615.000000</td>\n",
       "    </tr>\n",
       "    <tr>\n",
       "      <th>1.23</th>\n",
       "      <td>32926.977048</td>\n",
       "      <td>42078.682120</td>\n",
       "      <td>47550.993233</td>\n",
       "      <td>51308.000000</td>\n",
       "      <td>54088.807389</td>\n",
       "    </tr>\n",
       "    <tr>\n",
       "      <th>1.27</th>\n",
       "      <td>33332.271108</td>\n",
       "      <td>42516.160164</td>\n",
       "      <td>47978.000000</td>\n",
       "      <td>51724.328004</td>\n",
       "      <td>54481.089400</td>\n",
       "    </tr>\n",
       "    <tr>\n",
       "      <th>1.36</th>\n",
       "      <td>34200.271618</td>\n",
       "      <td>43439.000000</td>\n",
       "      <td>48854.121451</td>\n",
       "      <td>52615.000000</td>\n",
       "      <td>55319.551326</td>\n",
       "    </tr>\n",
       "    <tr>\n",
       "      <th>1.46</th>\n",
       "      <td>35101.031723</td>\n",
       "      <td>44371.836655</td>\n",
       "      <td>49753.000000</td>\n",
       "      <td>53536.342342</td>\n",
       "      <td>56183.090090</td>\n",
       "    </tr>\n",
       "    <tr>\n",
       "      <th>1.64</th>\n",
       "      <td>36586.000000</td>\n",
       "      <td>45894.000000</td>\n",
       "      <td>51308.000000</td>\n",
       "      <td>55028.490360</td>\n",
       "      <td>57572.419535</td>\n",
       "    </tr>\n",
       "    <tr>\n",
       "      <th>1.82</th>\n",
       "      <td>37940.336914</td>\n",
       "      <td>47320.367316</td>\n",
       "      <td>52615.000000</td>\n",
       "      <td>56327.038193</td>\n",
       "      <td>58774.435308</td>\n",
       "    </tr>\n",
       "    <tr>\n",
       "      <th>1.91</th>\n",
       "      <td>38576.702302</td>\n",
       "      <td>47978.000000</td>\n",
       "      <td>53208.739378</td>\n",
       "      <td>56911.112540</td>\n",
       "      <td>59314.328122</td>\n",
       "    </tr>\n",
       "    <tr>\n",
       "      <th>2.19</th>\n",
       "      <td>40411.000000</td>\n",
       "      <td>49753.000000</td>\n",
       "      <td>54899.504428</td>\n",
       "      <td>58488.825008</td>\n",
       "      <td>60781.000000</td>\n",
       "    </tr>\n",
       "    <tr>\n",
       "      <th>2.46</th>\n",
       "      <td>42007.568313</td>\n",
       "      <td>51308.000000</td>\n",
       "      <td>56324.088101</td>\n",
       "      <td>59731.344517</td>\n",
       "      <td>61958.611432</td>\n",
       "    </tr>\n",
       "    <tr>\n",
       "      <th>2.73</th>\n",
       "      <td>43439.000000</td>\n",
       "      <td>52615.000000</td>\n",
       "      <td>57569.789491</td>\n",
       "      <td>60781.000000</td>\n",
       "      <td>62949.926241</td>\n",
       "    </tr>\n",
       "    <tr>\n",
       "      <th>3.28</th>\n",
       "      <td>45894.000000</td>\n",
       "      <td>54884.766221</td>\n",
       "      <td>59649.278781</td>\n",
       "      <td>62558.033575</td>\n",
       "      <td>64536.000000</td>\n",
       "    </tr>\n",
       "    <tr>\n",
       "      <th>3.65</th>\n",
       "      <td>47331.393267</td>\n",
       "      <td>56197.990778</td>\n",
       "      <td>60781.000000</td>\n",
       "      <td>63535.927360</td>\n",
       "      <td>65382.954110</td>\n",
       "    </tr>\n",
       "    <tr>\n",
       "      <th>3.83</th>\n",
       "      <td>47978.000000</td>\n",
       "      <td>56780.942222</td>\n",
       "      <td>61274.187560</td>\n",
       "      <td>63958.419731</td>\n",
       "      <td>65746.309875</td>\n",
       "    </tr>\n",
       "    <tr>\n",
       "      <th>4.10</th>\n",
       "      <td>48882.130529</td>\n",
       "      <td>57592.455236</td>\n",
       "      <td>61953.653351</td>\n",
       "      <td>64536.000000</td>\n",
       "      <td>66239.239674</td>\n",
       "    </tr>\n",
       "    <tr>\n",
       "      <th>4.38</th>\n",
       "      <td>49753.000000</td>\n",
       "      <td>58360.722299</td>\n",
       "      <td>62588.709683</td>\n",
       "      <td>65073.195694</td>\n",
       "      <td>66693.000000</td>\n",
       "    </tr>\n",
       "    <tr>\n",
       "      <th>4.93</th>\n",
       "      <td>51308.000000</td>\n",
       "      <td>59681.300744</td>\n",
       "      <td>63660.608454</td>\n",
       "      <td>65972.311759</td>\n",
       "      <td>67446.883342</td>\n",
       "    </tr>\n",
       "    <tr>\n",
       "      <th>5.47</th>\n",
       "      <td>52615.000000</td>\n",
       "      <td>60781.000000</td>\n",
       "      <td>64536.000000</td>\n",
       "      <td>66693.000000</td>\n",
       "      <td>68046.000000</td>\n",
       "    </tr>\n",
       "    <tr>\n",
       "      <th>6.57</th>\n",
       "      <td>54902.586076</td>\n",
       "      <td>62592.912607</td>\n",
       "      <td>65957.511588</td>\n",
       "      <td>67821.260415</td>\n",
       "      <td>68984.000000</td>\n",
       "    </tr>\n",
       "    <tr>\n",
       "      <th>6.84</th>\n",
       "      <td>55402.533300</td>\n",
       "      <td>62965.688139</td>\n",
       "      <td>66246.228171</td>\n",
       "      <td>68046.000000</td>\n",
       "      <td>69176.868717</td>\n",
       "    </tr>\n",
       "    <tr>\n",
       "      <th>7.30</th>\n",
       "      <td>56203.175243</td>\n",
       "      <td>63547.029242</td>\n",
       "      <td>66693.000000</td>\n",
       "      <td>68394.350289</td>\n",
       "      <td>69475.404809</td>\n",
       "    </tr>\n",
       "    <tr>\n",
       "      <th>7.67</th>\n",
       "      <td>56803.033945</td>\n",
       "      <td>63971.828919</td>\n",
       "      <td>67016.111776</td>\n",
       "      <td>68647.796927</td>\n",
       "      <td>69683.000000</td>\n",
       "    </tr>\n",
       "  </tbody>\n",
       "</table>\n",
       "</div>"
      ],
      "text/plain": [
       "      1000 formes/jour  2000 formes/jour  3000 formes/jour  4000 formes/jour  \\\n",
       "0.10               NaN               NaN               NaN               NaN   \n",
       "0.13               NaN               NaN               NaN      23278.000000   \n",
       "0.18               NaN               NaN      23278.000000      26697.356459   \n",
       "0.21               NaN               NaN      24897.392695      28445.004348   \n",
       "0.27               NaN      23278.000000      27797.784634      31402.000000   \n",
       "0.32               NaN      25133.390869      29901.681926      33458.699622   \n",
       "0.36               NaN      26487.883808      31402.000000      34915.991627   \n",
       "0.41               NaN      28033.274167      33074.831811      36586.000000   \n",
       "0.43               NaN      28609.027561      33687.369274      37225.746706   \n",
       "0.54      23278.000000      31402.000000      36586.000000      40411.000000   \n",
       "0.65      25231.297714      33690.315520      38918.138558      42863.533667   \n",
       "0.68      25732.022204      34247.116039      39491.387850      43439.000000   \n",
       "0.73      26537.632439      35124.922351      40411.000000      44348.590856   \n",
       "0.76      27004.174834      35626.313275      40948.454327      44872.809767   \n",
       "0.82      27900.937104      36586.000000      41989.664091      45894.000000   \n",
       "0.87      28612.803096      37353.574393      42814.070162      46729.942435   \n",
       "0.91      29160.194988      37948.541185      43439.000000      47373.943194   \n",
       "0.95      29688.784038      38526.347119      44029.965190      47978.000000   \n",
       "0.98      30073.354239      38948.334501      44452.998718      48396.977100   \n",
       "1.09      31402.000000      40411.000000      45894.000000      49753.000000   \n",
       "1.23      32926.977048      42078.682120      47550.993233      51308.000000   \n",
       "1.27      33332.271108      42516.160164      47978.000000      51724.328004   \n",
       "1.36      34200.271618      43439.000000      48854.121451      52615.000000   \n",
       "1.46      35101.031723      44371.836655      49753.000000      53536.342342   \n",
       "1.64      36586.000000      45894.000000      51308.000000      55028.490360   \n",
       "1.82      37940.336914      47320.367316      52615.000000      56327.038193   \n",
       "1.91      38576.702302      47978.000000      53208.739378      56911.112540   \n",
       "2.19      40411.000000      49753.000000      54899.504428      58488.825008   \n",
       "2.46      42007.568313      51308.000000      56324.088101      59731.344517   \n",
       "2.73      43439.000000      52615.000000      57569.789491      60781.000000   \n",
       "3.28      45894.000000      54884.766221      59649.278781      62558.033575   \n",
       "3.65      47331.393267      56197.990778      60781.000000      63535.927360   \n",
       "3.83      47978.000000      56780.942222      61274.187560      63958.419731   \n",
       "4.10      48882.130529      57592.455236      61953.653351      64536.000000   \n",
       "4.38      49753.000000      58360.722299      62588.709683      65073.195694   \n",
       "4.93      51308.000000      59681.300744      63660.608454      65972.311759   \n",
       "5.47      52615.000000      60781.000000      64536.000000      66693.000000   \n",
       "6.57      54902.586076      62592.912607      65957.511588      67821.260415   \n",
       "6.84      55402.533300      62965.688139      66246.228171      68046.000000   \n",
       "7.30      56203.175243      63547.029242      66693.000000      68394.350289   \n",
       "7.67      56803.033945      63971.828919      67016.111776      68647.796927   \n",
       "\n",
       "      5000 formes/jour  \n",
       "0.10      23278.000000  \n",
       "0.13      25899.852723  \n",
       "0.18      29560.855180  \n",
       "0.21      31402.000000  \n",
       "0.27      34474.710560  \n",
       "0.32      36586.000000  \n",
       "0.36      38088.358836  \n",
       "0.41      39783.141957  \n",
       "0.43      40411.000000  \n",
       "0.54      43439.000000  \n",
       "0.65      45894.000000  \n",
       "0.68      46495.220194  \n",
       "0.73      47442.720625  \n",
       "0.76      47978.000000  \n",
       "0.82      48977.412652  \n",
       "0.87      49753.000000  \n",
       "0.91      50345.105026  \n",
       "0.95      50908.374178  \n",
       "0.98      51308.000000  \n",
       "1.09      52615.000000  \n",
       "1.23      54088.807389  \n",
       "1.27      54481.089400  \n",
       "1.36      55319.551326  \n",
       "1.46      56183.090090  \n",
       "1.64      57572.419535  \n",
       "1.82      58774.435308  \n",
       "1.91      59314.328122  \n",
       "2.19      60781.000000  \n",
       "2.46      61958.611432  \n",
       "2.73      62949.926241  \n",
       "3.28      64536.000000  \n",
       "3.65      65382.954110  \n",
       "3.83      65746.309875  \n",
       "4.10      66239.239674  \n",
       "4.38      66693.000000  \n",
       "4.93      67446.883342  \n",
       "5.47      68046.000000  \n",
       "6.57      68984.000000  \n",
       "6.84      69176.868717  \n",
       "7.30      69475.404809  \n",
       "7.67      69683.000000  "
      ]
     },
     "execution_count": 83,
     "metadata": {},
     "output_type": "execute_result"
    }
   ],
   "source": [
    "dfAgeLexiques[dfAgeLexiques.index<8]"
   ]
  }
 ],
 "metadata": {
  "kernelspec": {
   "display_name": "Py2",
   "language": "python",
   "name": "python2"
  },
  "language_info": {
   "codemirror_mode": {
    "name": "ipython",
    "version": 3
   },
   "file_extension": ".py",
   "mimetype": "text/x-python",
   "name": "python",
   "nbconvert_exporter": "python",
   "pygments_lexer": "ipython3",
   "version": "3.9.15"
  }
 },
 "nbformat": 4,
 "nbformat_minor": 4
}
