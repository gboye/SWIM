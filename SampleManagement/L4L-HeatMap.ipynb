{
 "cells": [
  {
   "cell_type": "markdown",
   "id": "7b3b8bdc-6f9c-4f63-8351-ef5637433287",
   "metadata": {},
   "source": [
    "# Heatmaps pour les données de L4L\n",
    "- Pour les HM normalisées, les colonnes sont classées dans l'ordre des fréquences pour les données complètes, cet ordre est dans *colsCompletL4L*\n",
    "- *colsCompletL4L* doit être stocké lors du calcul pour l'échantillon complet\n",
    "    - colsCompletL4L=hmCols\n",
    "    - %store colsCompletL4L\n",
    "- *colsCompletL4L* doit être récupéré pour les autres calculs\n",
    "    - %store -r colsCompletL4L"
   ]
  },
  {
   "cell_type": "code",
   "execution_count": null,
   "id": "2ef69f6b-97ad-45ba-89fc-c9d43f7e6a7b",
   "metadata": {
    "tags": []
   },
   "outputs": [],
   "source": [
    "import itertools as it\n",
    "import pandas as pd\n",
    "import seaborn as sns"
   ]
  },
  {
   "cell_type": "code",
   "execution_count": null,
   "id": "b2bcadd6-d5d2-430c-8efe-7ac19950cd9b",
   "metadata": {
    "tags": []
   },
   "outputs": [],
   "source": [
    "%matplotlib inline"
   ]
  },
  {
   "cell_type": "code",
   "execution_count": null,
   "id": "4ecad2b1-1fc4-45ad-b70b-7aca9d529968",
   "metadata": {
    "tags": []
   },
   "outputs": [],
   "source": [
    "repL4L=\"/Users/gilles/ownCloud/Recherche/Boye/HDR/Data/L4L/IMM21/\"\n",
    "fName=\"IMM21-01-X-paradigmes.csv\"\n",
    "fSource=repL4L+fName"
   ]
  },
  {
   "cell_type": "code",
   "execution_count": null,
   "id": "4b944450-fc3f-4447-ac17-7e985f4027f1",
   "metadata": {
    "tags": []
   },
   "outputs": [],
   "source": [
    "dfSource=pd.read_csv(fSource,sep=\";\",encoding=\"utf8\")\n",
    "cols=dfSource.columns.tolist()[2:]"
   ]
  },
  {
   "cell_type": "code",
   "execution_count": null,
   "id": "35ca8951-61da-4200-afc1-1dfbc87e621b",
   "metadata": {
    "tags": []
   },
   "outputs": [],
   "source": [
    "coforms={}\n",
    "for (c1,c2) in it.combinations_with_replacement(cols,2):\n",
    "    if c1 not in coforms: coforms[c1]={}\n",
    "    coforms[c1][c2]=dfSource[[c1,c2]].dropna().count()[0]\n",
    "    if c2 not in coforms: coforms[c2]={}\n",
    "    coforms[c2][c1]=dfSource[[c1,c2]].dropna().count()[0]"
   ]
  },
  {
   "cell_type": "code",
   "execution_count": null,
   "id": "5d195a95-e8d8-4c2a-ab69-404206755ea1",
   "metadata": {
    "tags": []
   },
   "outputs": [],
   "source": [
    "sortCols={}\n",
    "for k,v in coforms.iteritems():\n",
    "    for kk,vv in v.iteritems():\n",
    "        if k==kk:\n",
    "            sortCols[k]=vv\n",
    "# sortCols"
   ]
  },
  {
   "cell_type": "code",
   "execution_count": null,
   "id": "9cb9cf60-3aca-41a3-b443-0c91744820c9",
   "metadata": {
    "tags": []
   },
   "outputs": [],
   "source": [
    "hmCols=sorted(sortCols, key=sortCols.get, reverse=True)"
   ]
  },
  {
   "cell_type": "code",
   "execution_count": null,
   "id": "67110605-2dcf-4fc1-a025-26230f36aac9",
   "metadata": {
    "tags": []
   },
   "outputs": [],
   "source": [
    "colsCompletL4L=hmCols\n",
    "%store colsCompletL4L"
   ]
  },
  {
   "cell_type": "code",
   "execution_count": null,
   "id": "57be00d4-306f-4675-a986-8a792d00c4eb",
   "metadata": {
    "tags": []
   },
   "outputs": [],
   "source": [
    "dfCoforms=pd.DataFrame(coforms)\n",
    "dfCoforms=dfCoforms[hmCols].reindex(hmCols)"
   ]
  },
  {
   "cell_type": "code",
   "execution_count": null,
   "id": "27cbc775-9052-460b-acb0-79b388e0f088",
   "metadata": {
    "tags": []
   },
   "outputs": [],
   "source": [
    "sns.set_style(\"white\")\n",
    "sns.set(rc={'figure.figsize':(50,40)})\n",
    "ax=sns.heatmap(dfCoforms,annot=True,linewidth=.5,cmap=\"coolwarm\",fmt=\"d\")\n",
    "ax.xaxis.tick_top()"
   ]
  },
  {
   "cell_type": "code",
   "execution_count": null,
   "id": "9b0cb972-230e-485c-bcaa-99401a5e6230",
   "metadata": {
    "tags": []
   },
   "outputs": [],
   "source": [
    "ax.get_figure().savefig(repL4L+'HM-%s.pdf'%fName.split(\".\")[0])  "
   ]
  },
  {
   "cell_type": "code",
   "execution_count": null,
   "id": "4e2b5f8d-3ef8-4160-a8c1-dd10b6a881c7",
   "metadata": {},
   "outputs": [],
   "source": [
    "dfCoformsNorm=pd.DataFrame(coforms)\n",
    "dfCoformsNorm=dfCoformsNorm[colsCompletL4L].reindex(colsCompletL4L)"
   ]
  },
  {
   "cell_type": "code",
   "execution_count": null,
   "id": "dcd0f430-e418-49c9-99df-9626bc79a318",
   "metadata": {},
   "outputs": [],
   "source": [
    "ax=sns.heatmap(dfCoformsNorm,annot=True,linewidth=.5,cmap=\"coolwarm\",fmt=\"d\")\n",
    "ax.xaxis.tick_top()"
   ]
  },
  {
   "cell_type": "code",
   "execution_count": null,
   "id": "aee46cdb-da17-4ddb-a771-e3c78c9a5f03",
   "metadata": {
    "tags": []
   },
   "outputs": [],
   "source": [
    "ax.get_figure().savefig(repL4L+'HM-%s-Norm.pdf'%fName.split(\".\")[0])  "
   ]
  }
 ],
 "metadata": {
  "kernelspec": {
   "display_name": "Python 2.7",
   "language": "python",
   "name": "py2"
  },
  "language_info": {
   "codemirror_mode": {
    "name": "ipython",
    "version": 2
   },
   "file_extension": ".py",
   "mimetype": "text/x-python",
   "name": "python",
   "nbconvert_exporter": "python",
   "pygments_lexer": "ipython2",
   "version": "2.7.16"
  }
 },
 "nbformat": 4,
 "nbformat_minor": 5
}
