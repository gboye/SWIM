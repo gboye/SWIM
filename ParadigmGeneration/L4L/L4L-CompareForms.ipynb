{
 "cells": [
  {
   "cell_type": "code",
   "execution_count": 1,
   "id": "61025614-b591-478f-91b2-d51d55deb761",
   "metadata": {
    "tags": []
   },
   "outputs": [],
   "source": [
    "import pandas as pd\n",
    "import numpy as np\n",
    "import re,pyperclip"
   ]
  },
  {
   "cell_type": "code",
   "execution_count": 2,
   "id": "b07d48b6-aa14-4440-bef8-e07643ec17ef",
   "metadata": {
    "tags": []
   },
   "outputs": [],
   "source": [
    "repL4L=\"/Users/gilles/ownCloud/Recherche/Boye/HDR/Data/L4L/\"\n",
    "repIMM21=repL4L+\"IMM21/\"\n",
    "fSwim=repIMM21+\"IMM21-00-X-paradigmes-Swim1.csv\"\n",
    "fSwim=repIMM21+\"IMM21-00-X-paradigmes-Swim1-StemSpace.csv\"\n",
    "fSwim=repIMM21+\"IMM21-00-X-paradigmes-Swim2.csv\"\n",
    "fSwim=repIMM21+\"IMM21-00-X-paradigmes-Swim2-StemSpace.csv\"\n",
    "fSwim=repIMM21+\"IMM21-00-X-Morphomes-Swim1.csv\"\n",
    "fSwim=repIMM21+\"IMM21-00-X-Morphomes-Swim1-StemSpace.csv\"\n",
    "fSwim=repIMM21+\"IMM21-00-X-Morphomes-Swim2.csv\"\n",
    "fSwim=repIMM21+\"IMM21-00-X-Morphomes-Swim2-StemSpace.csv\"\n",
    "# fSwim=repIMM21+\"IMM21-01-X-paradigmes-Swim1.csv\"\n",
    "# fSwim=repIMM21+\"IMM21-01-X-paradigmes-Swim1-StemSpace.csv\"\n",
    "# fSwim=repIMM21+\"IMM21-01-X-paradigmes-Swim2.csv\"\n",
    "# fSwim=repIMM21+\"IMM21-01-X-paradigmes-Swim2-StemSpace.csv\"\n",
    "# fSwim=repIMM21+\"IMM21-01-X-Morphomes-Swim1.csv\"\n",
    "# fSwim=repIMM21+\"IMM21-01-X-Morphomes-Swim1-StemSpace.csv\"\n",
    "# fSwim=repIMM21+\"IMM21-01-X-Morphomes-Swim2.csv\"\n",
    "# fSwim=repIMM21+\"IMM21-01-X-Morphomes-Swim2-StemSpace.csv\"\n",
    "fControl=repL4L+\"vlexique-Sampa.csv\"\n",
    "# fControl=repIMM21+\"IMM21-02-X-paradigmes.csv\""
   ]
  },
  {
   "cell_type": "code",
   "execution_count": 3,
   "id": "cf15b964-718c-482f-9afb-ca79a21811be",
   "metadata": {
    "tags": []
   },
   "outputs": [],
   "source": [
    "dfSwim=pd.read_csv(fSwim,sep=\";\",encoding=\"utf8\")\n",
    "dfControl=pd.read_csv(fControl,sep=\";\",encoding=\"utf8\")"
   ]
  },
  {
   "cell_type": "code",
   "execution_count": 4,
   "id": "118e6736-7704-4c51-9af3-4d921ebc6ac0",
   "metadata": {
    "tags": []
   },
   "outputs": [],
   "source": [
    "cols=dfControl.columns.tolist()[2:]\n",
    "# cols"
   ]
  },
  {
   "cell_type": "code",
   "execution_count": 5,
   "id": "87503209-38cc-4ce6-8dce-244e95720122",
   "metadata": {
    "tags": []
   },
   "outputs": [],
   "source": [
    "neutralisationsNORD=(u\"6û\",u\"9ê\")\n",
    "neutralisationsSUD=(u\"e2o\",u\"E9O\")\n",
    "neutralisations=neutralisationsSUD\n",
    "\n",
    "bdlexiqueIn = unicode(u\"èò\"+neutralisations[0])\n",
    "bdlexiqueNum = [ord(char) for char in bdlexiqueIn]\n",
    "neutreOut = unicode(u\"EO\"+neutralisations[1])\n",
    "neutralise = dict(zip(bdlexiqueNum, neutreOut))"
   ]
  },
  {
   "cell_type": "code",
   "execution_count": 6,
   "id": "33889b33-0f66-4f13-8cc8-8c63463cbc06",
   "metadata": {
    "tags": []
   },
   "outputs": [],
   "source": [
    "def recoder(chaine,table=neutralise):\n",
    "    if type(chaine)==str:\n",
    "        temp=unicode(chaine.decode('utf8')).translate(table)\n",
    "        result=temp.encode('utf8')\n",
    "    elif type(chaine)==unicode:\n",
    "        result=chaine.translate(table)\n",
    "    else:\n",
    "        result=chaine\n",
    "    return result"
   ]
  },
  {
   "cell_type": "code",
   "execution_count": 7,
   "id": "d97af559-0f6f-4943-92e3-267a8a567614",
   "metadata": {
    "tags": []
   },
   "outputs": [],
   "source": [
    "dierese={\"j\":\"ij\", \"w\":\"uw\",\"H\":\"yH\",\"i\":\"ij\",\"u\":\"uw\",\"y\":\"yH\"}"
   ]
  },
  {
   "cell_type": "raw",
   "id": "a4cb1647-e88e-463e-a59b-1fd59658f6f0",
   "metadata": {
    "tags": []
   },
   "source": [
    "def checkFrench(prononciation):\n",
    "    if prononciation and not pd.isnull(prononciation):\n",
    "        result=recoder(prononciation)\n",
    "        m=re.match(ur\"^.*([^ieèEaOouy926êôâ])[jwH]$\",result)\n",
    "        if m:\n",
    "            print (\"pb avec un glide final\", [prononciation])\n",
    "        m=re.match(ur\"(.*[ptkbdgfsSvzZ][rl])([jwH])(.*)\",result)\n",
    "        if m:\n",
    "            n=re.search(ur\"[ptkbdgfsSvzZ][rl](wa|Hi|wê)\",result)\n",
    "            if not n:\n",
    "                glide=m.group(2)\n",
    "                result=m.group(1)+dierese[glide]+m.group(3)\n",
    "        m=re.match(ur\"(.*)([iuy])([ieEaOouy].*)\",result)\n",
    "        if m:\n",
    "            glide=m.group(2)\n",
    "            result=m.group(1)+dierese[glide]+m.group(3)\n",
    "    else:\n",
    "        result=prononciation\n",
    "    return result"
   ]
  },
  {
   "cell_type": "code",
   "execution_count": 8,
   "id": "b8274d27-0f06-42a9-8ae8-fe3564f7467b",
   "metadata": {},
   "outputs": [],
   "source": [
    "def checkFrench(prononciation):\n",
    "    glide2voyelle={\"j\":\"i\",\"w\":\"u\",\"H\":\"y\"}\n",
    "    if prononciation:\n",
    "        if \",\" in prononciation:\n",
    "            prononciations=prononciation.split(\",\")\n",
    "            setPrononciations=set()\n",
    "            for element in prononciations:\n",
    "                setPrononciations.add(checkFrench(element))\n",
    "            result=\",\".join(list(setPrononciations))\n",
    "        else:\n",
    "            result=recoder(prononciation)\n",
    "            result=result.replace(\"Jj\",\"J\")\n",
    "            m=re.match(ur\"^(.*[^ieèEaOouy926êôâ])([jwH])$\",result)\n",
    "            if m:\n",
    "                print (\"pb avec un glide final\", prononciation)\n",
    "                voyelle=glide2voyelle[m.group(2)]\n",
    "                result=m.group(1)+voyelle\n",
    "            m=re.match(ur\"(.*[ptkbdgfsSvzZ][rl])([jwH])(.*)\",result)\n",
    "            if m:\n",
    "                n=re.search(ur\"[ptkbdgfsSvzZ][rl](wa|Hi|wê)\",result)\n",
    "                if not n:\n",
    "                    glide=m.group(2)\n",
    "                    result=m.group(1)+dierese[glide]+m.group(3)\n",
    "            m=re.match(ur\"(.*)([iuy])([ieEaOouyêâô].*)\",result)\n",
    "            if m:\n",
    "                glide=m.group(2)\n",
    "                result=m.group(1)+dierese[glide]+m.group(3)\n",
    "            result=result.replace(\"jj\",\"ij\")\n",
    "    else:\n",
    "        result=prononciation\n",
    "    return result"
   ]
  },
  {
   "cell_type": "code",
   "execution_count": 9,
   "id": "d3f6ec7b-a452-4b76-92b3-e7e924b8d664",
   "metadata": {
    "tags": []
   },
   "outputs": [
    {
     "name": "stdout",
     "output_type": "stream",
     "text": [
      "aliJE\n"
     ]
    }
   ],
   "source": [
    "print checkFrench(u\"aliJje\")"
   ]
  },
  {
   "cell_type": "code",
   "execution_count": 10,
   "id": "3d25d1be-0dc5-4350-ac36-745df97416c1",
   "metadata": {
    "tags": []
   },
   "outputs": [],
   "source": [
    "equals={}\n",
    "differents={}\n",
    "missings={}\n",
    "\n",
    "def normalise(forme):\n",
    "    result=recoder(forme)\n",
    "    result=checkFrench(result)\n",
    "    return result        \n",
    "\n",
    "def compare(row):\n",
    "    def compareForms(f1,f2):\n",
    "        if normalise(f1)==normalise(f2):\n",
    "            lEquals[c]=(f1,f2)\n",
    "        else:\n",
    "            lDifferents[c]=(f1,f2)\n",
    "        return\n",
    "\n",
    "    \n",
    "    lexeme=row.lexeme\n",
    "    if lexeme in dfSwim[\"lexeme\"].tolist():\n",
    "        lEquals=equals[lexeme]={}\n",
    "        lDifferents=differents[lexeme]={}\n",
    "        lMissings=missings[lexeme]={}\n",
    "        swimRow=dfSwim[dfSwim.lexeme.str.contains(\"^\"+lexeme+\"$\")]\n",
    "        for c in cols:\n",
    "            swimRowC=swimRow[c].values[0]\n",
    "            if row[c]==row[c]:\n",
    "                if swimRowC==swimRowC:\n",
    "                    compareForms(row[c],swimRowC)\n",
    "                else:\n",
    "                    lMissings[c]=(row[c],swimRowC)\n",
    "        return (lexeme,len(lEquals),len(lDifferents),len(lMissings))\n",
    "    return (lexeme,np.nan,np.nan,np.nan)"
   ]
  },
  {
   "cell_type": "code",
   "execution_count": 11,
   "id": "fee0c660-f616-46b0-9e27-2985a897f2da",
   "metadata": {},
   "outputs": [],
   "source": [
    "dfResults=pd.DataFrame([[l,e,d,m] for l,e,d,m in dfControl.apply(compare,axis=1).values], columns=\"lexeme equal different missing\".split(\" \"))"
   ]
  },
  {
   "cell_type": "code",
   "execution_count": 12,
   "id": "71b327f2-fcfa-4cf7-bf49-7a6c2075ba71",
   "metadata": {
    "tags": []
   },
   "outputs": [
    {
     "data": {
      "text/plain": [
       "214979.0"
      ]
     },
     "execution_count": 12,
     "metadata": {},
     "output_type": "execute_result"
    }
   ],
   "source": [
    "nbForms=dfResults[\"equal different missing\".split(\" \")].sum().sum()\n",
    "nbForms"
   ]
  },
  {
   "cell_type": "code",
   "execution_count": 13,
   "id": "543577cc-aaab-4c04-889b-33e773780251",
   "metadata": {
    "tags": []
   },
   "outputs": [
    {
     "name": "stdout",
     "output_type": "stream",
     "text": [
      "IMM21-00-X-Morphomes-Swim2-StemSpace.csv vs vlexique-Sampa.csv\n",
      "formes identiques : 175503 => 81.6%\n",
      "formes manquantes : 37545 => 17.5%\n",
      "formes différentes : 1931 => 0.9%\n"
     ]
    }
   ],
   "source": [
    "print fSwim.split(\"/\")[-1],\"vs\",fControl.split(\"/\")[-1]\n",
    "# Paradigmes-Swim1: 43\n",
    "# Paradigmes-Swim2: 92\n",
    "# Morphomes-Swim1: 42\n",
    "# Morphomes-Swim2: 92\n",
    "ajustementsManuels=0\n",
    "nbEqual=int(dfResults[\"equal\"].sum()+ajustementsManuels)\n",
    "nbDifferent=int(dfResults[\"different\"].sum()-ajustementsManuels)\n",
    "nbMissing=int(dfResults[\"missing\"].sum())\n",
    "print \"formes identiques :\",nbEqual,\"=> %2.1f%%\"%round(nbEqual/nbForms*100,1)\n",
    "print \"formes manquantes :\",nbMissing,\"=> %2.1f%%\"%round(nbMissing/nbForms*100,1)\n",
    "print \"formes différentes :\",nbDifferent,\"=> %2.1f%%\"%round(nbDifferent/nbForms*100,1)\n"
   ]
  },
  {
   "cell_type": "code",
   "execution_count": 14,
   "id": "bf483b6d-0014-4c4e-91e7-96299ae86fa4",
   "metadata": {
    "tags": []
   },
   "outputs": [
    {
     "data": {
      "text/plain": [
       "lexeme       5250\n",
       "equal        4315\n",
       "different    4315\n",
       "missing      4315\n",
       "dtype: int64"
      ]
     },
     "execution_count": 14,
     "metadata": {},
     "output_type": "execute_result"
    }
   ],
   "source": [
    "dfResults.count()"
   ]
  },
  {
   "cell_type": "code",
   "execution_count": 15,
   "id": "bd1be0a3-baf9-48fa-a21f-7a814e2b2a1d",
   "metadata": {
    "tags": []
   },
   "outputs": [],
   "source": [
    "tMissings=[]\n",
    "for k,v in missings.iteritems():\n",
    "    for kk,vv in v.iteritems():\n",
    "        tMissings.append(\"\\t\".join([k,kk,vv[0]]))\n",
    "pyperclip.copy(\"\\n\".join(tMissings))"
   ]
  },
  {
   "cell_type": "code",
   "execution_count": 16,
   "id": "9ba214ba-9901-4157-a060-148b79841b21",
   "metadata": {
    "tags": []
   },
   "outputs": [],
   "source": [
    "dfDiff=pd.DataFrame.from_dict(differents).T"
   ]
  },
  {
   "cell_type": "code",
   "execution_count": 17,
   "id": "da01039d-02d4-4e08-9f82-165d31c0449b",
   "metadata": {
    "tags": []
   },
   "outputs": [
    {
     "name": "stdout",
     "output_type": "stream",
     "text": [
      "IMM21-00-X-Morphomes-Swim2-StemSpace.csv vs vlexique-Sampa.csv\n",
      "formes identiques : 175665 => 81.7%\n",
      "formes manquantes : 37707 => 17.5%\n",
      "formes différentes : 1769 => 0.8%\n",
      "précision : 99.0%\n",
      "rappel : 82.3%\n"
     ]
    }
   ],
   "source": [
    "nbEqualCorr=nbEqual\n",
    "nbDifferentCorr=nbDifferent\n",
    "nbMissingCorr=nbMissing\n",
    "\n",
    "for k,v in differents.iteritems():\n",
    "    for kk,vv in v.iteritems():\n",
    "        if \",\" in vv[0] or \",\" in vv[1]:\n",
    "            set1=set(vv[0].split(\",\"))\n",
    "            set2=set(vv[1].split(\",\"))\n",
    "            sEquals12=set1&set2\n",
    "            equals12=\",\".join(sEquals12)\n",
    "            sMissings12=set1-set2\n",
    "            missings12=\",\".join(sMissings12)\n",
    "            sDifferents12=set2-set1\n",
    "            differents12=\",\".join(sDifferents12)\n",
    "            # print \",\".join([k,kk,\"=\",equals12,u\"Ø\",missings12,u\"≠\",differents12])\n",
    "            nbEqualCorr+=len(sEquals12)\n",
    "            nbDifferentCorr-=len(sEquals12)\n",
    "            nbMissingCorr+=len(sMissings12)\n",
    "print fSwim.split(\"/\")[-1],\"vs\",fControl.split(\"/\")[-1]\n",
    "print \"formes identiques :\",nbEqualCorr,\"=> %2.1f%%\"%round(nbEqualCorr/nbForms*100,1)\n",
    "print \"formes manquantes :\",nbMissingCorr,\"=> %2.1f%%\"%round(nbMissingCorr/nbForms*100,1)\n",
    "print \"formes différentes :\",nbDifferentCorr,\"=> %2.1f%%\"%round(nbDifferentCorr/nbForms*100,1)\n",
    "print \"précision : %2.1f%%\"%(float(nbEqualCorr)/(nbEqualCorr+nbDifferentCorr)*100)\n",
    "print \"rappel : %2.1f%%\"%(float(nbEqualCorr)/(nbEqualCorr+nbMissingCorr)*100)\n"
   ]
  },
  {
   "cell_type": "code",
   "execution_count": null,
   "id": "9b43707b-b477-4d1b-b58d-a42543d728c2",
   "metadata": {},
   "outputs": [],
   "source": []
  }
 ],
 "metadata": {
  "kernelspec": {
   "display_name": "Python 2.7",
   "language": "python",
   "name": "py2"
  },
  "language_info": {
   "codemirror_mode": {
    "name": "ipython",
    "version": 2
   },
   "file_extension": ".py",
   "mimetype": "text/x-python",
   "name": "python",
   "nbconvert_exporter": "python",
   "pygments_lexer": "ipython2",
   "version": "2.7.16"
  }
 },
 "nbformat": 4,
 "nbformat_minor": 5
}
