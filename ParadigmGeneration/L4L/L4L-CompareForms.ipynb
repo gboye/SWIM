{
 "cells": [
  {
   "cell_type": "code",
   "execution_count": 1,
   "id": "61025614-b591-478f-91b2-d51d55deb761",
   "metadata": {
    "tags": []
   },
   "outputs": [],
   "source": [
    "import pandas as pd\n",
    "import numpy as np\n",
    "import re,pyperclip"
   ]
  },
  {
   "cell_type": "code",
   "execution_count": 2,
   "id": "b07d48b6-aa14-4440-bef8-e07643ec17ef",
   "metadata": {
    "tags": []
   },
   "outputs": [],
   "source": [
    "repL4L=\"/Users/gilles/ownCloud/Recherche/Boye/HDR/Data/L4L/IMM21/\"\n",
    "fSwim=repL4L+\"IMM21-00-X-paradigmes-Swim1.csv\"\n",
    "fSwim=repL4L+\"IMM21-00-X-paradigmes-Swim2.csv\"\n",
    "fSwim=repL4L+\"IMM21-00-X-Morphomes-Swim1.csv\"\n",
    "fSwim=repL4L+\"IMM21-00-X-Morphomes-Swim2.csv\"\n",
    "fControl=repL4L+\"IMM21-02-X-paradigmes.csv\""
   ]
  },
  {
   "cell_type": "code",
   "execution_count": 3,
   "id": "cf15b964-718c-482f-9afb-ca79a21811be",
   "metadata": {
    "tags": []
   },
   "outputs": [],
   "source": [
    "dfSwim=pd.read_csv(fSwim,sep=\";\",encoding=\"utf8\")\n",
    "dfControl=pd.read_csv(fControl,sep=\";\",encoding=\"utf8\")"
   ]
  },
  {
   "cell_type": "code",
   "execution_count": 4,
   "id": "118e6736-7704-4c51-9af3-4d921ebc6ac0",
   "metadata": {
    "tags": []
   },
   "outputs": [],
   "source": [
    "cols=dfControl.columns.tolist()[2:]\n",
    "# cols"
   ]
  },
  {
   "cell_type": "code",
   "execution_count": 5,
   "id": "87503209-38cc-4ce6-8dce-244e95720122",
   "metadata": {
    "tags": []
   },
   "outputs": [],
   "source": [
    "neutralisationsNORD=(u\"6û\",u\"9ê\")\n",
    "neutralisationsSUD=(u\"e2o\",u\"E9O\")\n",
    "neutralisations=neutralisationsSUD\n",
    "\n",
    "bdlexiqueIn = unicode(u\"èò\"+neutralisations[0])\n",
    "bdlexiqueNum = [ord(char) for char in bdlexiqueIn]\n",
    "neutreOut = unicode(u\"EO\"+neutralisations[1])\n",
    "neutralise = dict(zip(bdlexiqueNum, neutreOut))"
   ]
  },
  {
   "cell_type": "code",
   "execution_count": 6,
   "id": "33889b33-0f66-4f13-8cc8-8c63463cbc06",
   "metadata": {
    "tags": []
   },
   "outputs": [],
   "source": [
    "def recoder(chaine,table=neutralise):\n",
    "    if type(chaine)==str:\n",
    "        temp=unicode(chaine.decode('utf8')).translate(table)\n",
    "        result=temp.encode('utf8')\n",
    "    elif type(chaine)==unicode:\n",
    "        result=chaine.translate(table)\n",
    "    else:\n",
    "        result=chaine\n",
    "    return result"
   ]
  },
  {
   "cell_type": "code",
   "execution_count": 7,
   "id": "d97af559-0f6f-4943-92e3-267a8a567614",
   "metadata": {
    "tags": []
   },
   "outputs": [],
   "source": [
    "dierese={\"j\":\"ij\", \"w\":\"uw\",\"H\":\"yH\",\"i\":\"ij\",\"u\":\"uw\",\"y\":\"yH\"}"
   ]
  },
  {
   "cell_type": "code",
   "execution_count": 8,
   "id": "064b6401-355e-4616-842d-51ddb5327a41",
   "metadata": {
    "tags": []
   },
   "outputs": [],
   "source": [
    "def checkFrench(prononciation):\n",
    "    if prononciation and not pd.isnull(prononciation):\n",
    "        result=recoder(prononciation)\n",
    "        m=re.match(ur\"^.*([^ieèEaOouy926êôâ])[jwH]$\",result)\n",
    "        if m:\n",
    "            print (\"pb avec un glide final\", [prononciation])\n",
    "        m=re.match(ur\"(.*[ptkbdgfsSvzZ][rl])([jwH])(.*)\",result)\n",
    "        if m:\n",
    "            n=re.search(ur\"[ptkbdgfsSvzZ][rl](wa|Hi|wê)\",result)\n",
    "            if not n:\n",
    "                glide=m.group(2)\n",
    "                result=m.group(1)+dierese[glide]+m.group(3)\n",
    "        m=re.match(ur\"(.*)([iuy])([ieEaOouy].*)\",result)\n",
    "        if m:\n",
    "            glide=m.group(2)\n",
    "            result=m.group(1)+dierese[glide]+m.group(3)\n",
    "    else:\n",
    "        result=prononciation\n",
    "    return result"
   ]
  },
  {
   "cell_type": "code",
   "execution_count": 9,
   "id": "3d25d1be-0dc5-4350-ac36-745df97416c1",
   "metadata": {
    "tags": []
   },
   "outputs": [],
   "source": [
    "equals={}\n",
    "differents={}\n",
    "missings={}\n",
    "\n",
    "def normalise(forme):\n",
    "    result=recoder(forme)\n",
    "    result=checkFrench(result)\n",
    "    return result\n",
    "\n",
    "def compare(row):\n",
    "    lexeme=row.lexeme\n",
    "    if lexeme in dfSwim[\"lexeme\"].tolist():\n",
    "        lEquals=equals[lexeme]={}\n",
    "        lDifferents=differents[lexeme]={}\n",
    "        lMissings=missings[lexeme]={}\n",
    "        swimRow=dfSwim[dfSwim.lexeme.str.contains(\"^\"+lexeme+\"$\")]\n",
    "        for c in cols:\n",
    "            swimRowC=swimRow[c].values[0]\n",
    "            if row[c]==row[c]:\n",
    "                if swimRowC==swimRowC:\n",
    "                    if normalise(row[c])==normalise(swimRowC):\n",
    "                        lEquals[c]=(row[c],swimRowC)\n",
    "                    else:\n",
    "                        lDifferents[c]=(row[c],swimRowC)\n",
    "                else:\n",
    "                    lMissings[c]=(row[c],swimRowC)\n",
    "        return (lexeme,len(lEquals),len(lDifferents),len(lMissings))\n",
    "    return (lexeme,np.nan,np.nan,np.nan)"
   ]
  },
  {
   "cell_type": "code",
   "execution_count": 10,
   "id": "fee0c660-f616-46b0-9e27-2985a897f2da",
   "metadata": {},
   "outputs": [],
   "source": [
    "dfResults=pd.DataFrame([[l,e,d,m] for l,e,d,m in dfControl.apply(compare,axis=1).values], columns=\"lexeme equal different missing\".split(\" \"))"
   ]
  },
  {
   "cell_type": "code",
   "execution_count": 11,
   "id": "71b327f2-fcfa-4cf7-bf49-7a6c2075ba71",
   "metadata": {
    "tags": []
   },
   "outputs": [
    {
     "data": {
      "text/plain": [
       "45042.0"
      ]
     },
     "execution_count": 11,
     "metadata": {},
     "output_type": "execute_result"
    }
   ],
   "source": [
    "nbForms=dfResults[\"equal different missing\".split(\" \")].sum().sum()\n",
    "nbForms"
   ]
  },
  {
   "cell_type": "code",
   "execution_count": 12,
   "id": "543577cc-aaab-4c04-889b-33e773780251",
   "metadata": {
    "tags": []
   },
   "outputs": [
    {
     "name": "stdout",
     "output_type": "stream",
     "text": [
      "IMM21-00-X-Morphomes-Swim2.csv\n",
      "formes identiques : 43142 => 95.8%\n",
      "formes manquantes : 1731 => 3.8%\n",
      "formes différentes : 169 => 0.4%\n"
     ]
    }
   ],
   "source": [
    "print fSwim.split(\"/\")[-1]\n",
    "# Paradigmes-Swim1: 43\n",
    "# Paradigmes-Swim2: 92\n",
    "# Morphomes-Swim1: 42\n",
    "# Morphomes-Swim2: 92\n",
    "ajustementsManuels=42\n",
    "nbEqual=int(dfResults[\"equal\"].sum()+ajustementsManuels)\n",
    "nbDifferent=int(dfResults[\"different\"].sum()-ajustementsManuels)\n",
    "nbMissing=int(dfResults[\"missing\"].sum())\n",
    "print \"formes identiques :\",nbEqual,\"=> %2.1f%%\"%round(nbEqual/nbForms*100,1)\n",
    "print \"formes manquantes :\",nbMissing,\"=> %2.1f%%\"%round(nbMissing/nbForms*100,1)\n",
    "print \"formes différentes :\",nbDifferent,\"=> %2.1f%%\"%round(nbDifferent/nbForms*100,1)\n"
   ]
  },
  {
   "cell_type": "code",
   "execution_count": 13,
   "id": "bf483b6d-0014-4c4e-91e7-96299ae86fa4",
   "metadata": {
    "tags": []
   },
   "outputs": [
    {
     "data": {
      "text/plain": [
       "lexeme       6368\n",
       "equal        4746\n",
       "different    4746\n",
       "missing      4746\n",
       "dtype: int64"
      ]
     },
     "execution_count": 13,
     "metadata": {},
     "output_type": "execute_result"
    }
   ],
   "source": [
    "dfResults.count()"
   ]
  },
  {
   "cell_type": "code",
   "execution_count": 14,
   "id": "bd1be0a3-baf9-48fa-a21f-7a814e2b2a1d",
   "metadata": {
    "tags": []
   },
   "outputs": [],
   "source": [
    "tMissings=[]\n",
    "for k,v in missings.iteritems():\n",
    "    for kk,vv in v.iteritems():\n",
    "        tMissings.append(\"\\t\".join([k,kk,vv[0]]))\n",
    "pyperclip.copy(\"\\n\".join(tMissings))"
   ]
  },
  {
   "cell_type": "code",
   "execution_count": 15,
   "id": "9ba214ba-9901-4157-a060-148b79841b21",
   "metadata": {
    "tags": []
   },
   "outputs": [],
   "source": [
    "dfDiff=pd.DataFrame.from_dict(differents).T"
   ]
  },
  {
   "cell_type": "code",
   "execution_count": 16,
   "id": "da01039d-02d4-4e08-9f82-165d31c0449b",
   "metadata": {
    "tags": []
   },
   "outputs": [
    {
     "name": "stdout",
     "output_type": "stream",
     "text": [
      "débrayer\tpi3P\tdEbrE\tdEbrE,dEbrEj\n",
      "répugner\tii2P\trEpyJe\trEpyJje\n",
      "reclassifier\tpi1P\tr6klasifjô\tr6klasifisô\n",
      "reclassifier\tpi3P\tr6klasifi\tr6klasifis\n",
      "reclassifier\tppFS\tr6klasifje\tr6klasifi\n",
      "contresigner\tii2P\tkôtr6siJe\tkôtr6siJje\n",
      "aligner\tii2P\taliJe\taliJje\n",
      "aligner\tps2P\taliJe\taliJje\n",
      "sous-payer\tpi1S\tsupE\tsupEj\n",
      "sous-payer\tpi3P\tsupE\tsupEj\n",
      "sous-payer\tpi3S\tsupE\tsupEj\n",
      "nantir\tii2P\tnâtisje\tnâtje\n",
      "rayer\tpi1S\trE\trE,rEj\n",
      "rayer\tpI2S\trE\trE,rEj\n",
      "rayer\tpi3P\trE\trE,rEj\n",
      "assigner\tii2P\tasiJe\tasiJje\n",
      "imprégner\tii2P\têprEJe\têprEJje\n",
      "embarrer\tinf\tâbae\tâbaer\n",
      "embarrer\tpi2S\tâba\tâbae\n",
      "cosigner\tii2P\tkOsiJe\tkOsiJje\n",
      "décoller\tis1P\tdEkOlasjô\tdEkOle\n",
      "prévoir\tai3P\tprEvir\tprEvyr\n",
      "valiser\tai3S\tvliz\tvliza\n",
      "désennuyer\tfi3S\tdEzânHira\tdEzânHij6ra\n",
      "désennuyer\tpi3P\tdEzânHi\tdEzânHij\n",
      "désennuyer\tpi3S\tdEzânHi\tdEzânHij\n",
      "souligner\tii2P\tsuliJe\tsuliJje\n",
      "admirer\tis1P\tadmirasjô\tadmire\n",
      "rougeoyer\tpi3P\truZwa\truZwaj\n",
      "rougeoyer\tpi2S\truZwa\truZwaj\n",
      "rougeoyer\tpi3S\truZwa\truZwaj\n",
      "grogner\tii2P\tgrOJe\tgrOJje\n",
      "friter\tii1S\tfrit\tfritE\n",
      "friter\tii3P\tfrit\tfritE\n",
      "pagayer\tpi1S\tpagE\tpagE,pagEj\n",
      "pagayer\tpI2S\tpagE\tpagE,pagEj\n",
      "ressayer\tpc1S\trEsErE\trEsEj6rE\n",
      "ressayer\tfi3S\trEsEra\trEsEj6ra\n",
      "ressayer\tfi3P\trEsErô\trEsEj6rô\n",
      "ressayer\tfi1P\trEsErô\trEsEj6rô\n",
      "ressayer\tfi1S\trEsErE\trEsEj6rE\n",
      "ressayer\tpi1S\trEsE\trEsEj\n",
      "ressayer\tpI2S\trEsE\trEsEj\n",
      "ressayer\tfi2S\trEsEra\trEsEj6ra\n",
      "ressayer\tpi3S\trEsE\trEsEj\n",
      "dédire\tps1S\tdEdiz\tdEdis\n",
      "dédire\tps2S\tdEdiz\tdEdis\n",
      "dédire\tppFS\tdEdit\tdEdi\n",
      "dédire\tppFP\tdEdit\tdEdi\n",
      "dédire\tpI2P\tdEdize\tdEdise\n",
      "soufrer\tpc2P\tsufr6rje\tsufrirje\n",
      "ébrouer\tai3S\tEbruwa\tEbruti\n",
      "ébrouer\tii3S\tEbruwE\tEbrutE\n",
      "vibrer\tis1P\tvibrasjô\tvibre\n",
      "agenouiller\tii1P\taZ6nujô\taZ6nujjô\n",
      "surseoir\tpi1S\tsyrswa\tsyrsje\n",
      "surseoir\tpI2S\tsyrswa\tsyrsje\n",
      "surseoir\tpi3S\tsyrswa\tsyrsje\n",
      "converser\tis1P\tkôvErsasjô\tkôvErse\n",
      "écrouer\tfi3S\tEkrura\tEkruura\n",
      "écrouer\tpP\tEkruâ\tEkruwâ\n",
      "venir\tis1P\tvêsjô\tv6ny\n",
      "déblayer\tpI2S\tdEblE\tdEblE,dEblEj\n",
      "déblayer\tpi3S\tdEblE\tdEblE,dEblEj\n",
      "devoir\tis1P\tdysjô\tdy\n",
      "défrayer\tpi3P\tdEfrE\tdEfrEj\n",
      "défrayer\tpc2S\tdEfrErE\tdEfrEj6rE\n",
      "défrayer\tpi3S\tdEfrE\tdEfrEj\n",
      "souffleter\tppMS\tsufl6te\tsuflEte\n",
      "embrayer\tpi1S\tâbrE\tâbrEj\n",
      "embrayer\tpi2S\tâbrE\tâbrEj\n",
      "embrayer\tpI2S\tâbrE\tâbrEj\n",
      "embrayer\tpi3P\tâbrE\tâbrEj\n",
      "embrayer\tpi3S\tâbrE\tâbrEj\n",
      "confire\tfi2S\tkôfira\tkôfidra\n",
      "reboire\tpI2P\tr6byve\tr6bwaje\n",
      "reboire\tps2S\tr6bwav\tr6bwa\n",
      "reboire\tii3S\tr6byvE\tr6bwajE\n",
      "reboire\tps3S\tr6bwav\tr6bwa\n",
      "reboire\tpI1P\tr6byvô\tr6bwajô\n",
      "reboire\tpi2P\tr6byve\tr6bwaje\n",
      "reboire\tpi3P\tr6bwav\tr6bwa\n",
      "reboire\tps1S\tr6bwav\tr6bwa\n",
      "cogner\tii2P\tkOJe\tkOJje\n",
      "cogner\tii1P\tkOJô\tkOJjô\n",
      "marqueter\tppMS\tmark6te\tmarkEte\n",
      "marqueter\tinf\tmark6te\tmarkEte\n",
      "marqueter\tppFS\tmark6te\tmarkEte\n",
      "rasseoir\tps3S\traswa\trasEj\n",
      "rasseoir\tpc1S\traswarE\trasjErE\n",
      "rasseoir\tps2S\traswa\trasEj\n",
      "rasseoir\tfi1S\traswarE\trasjErE\n",
      "éviscérer\tis1P\tEvisErasjô\tEvisEre\n",
      "sérier\tpi1P\tsErjô\tsErijô\n",
      "sérier\tpi2P\tsErje\tsErije\n",
      "expatrier\tpI2S\tpatri\tpatrij\n",
      "expatrier\tfi3S\tpatrira\tpatrij6ra\n",
      "expatrier\tpi1S\tpatri\tpatrij\n",
      "expatrier\tpi2S\tpatri\tpatrij\n",
      "expatrier\tfi2P\tpatrire\tpatrij6re\n",
      "expatrier\tpi3P\tpatri\tpatrij\n",
      "expatrier\tpi3S\tpatri\tpatrij\n",
      "monnayer\tpi3P\tmonE\tmonE,monEj\n",
      "monnayer\tpI2S\tmonE\tmonE,monEj\n",
      "surligner\tii2P\tsyrliJe\tsyrliJje\n",
      "lorgner\tii2P\tlOrJe\tlOrJje\n",
      "remordre\tppMS\tr6mOrdy\tr6mOre\n",
      "remordre\tinf\tr6mOrdr\tr6mOre\n",
      "cligner\tii2P\tkliJe\tkliJje\n",
      "égayer\tpi1S\tegE\tegE,egEj\n",
      "égayer\tpI2S\tegE\tegE,egEj\n",
      "égayer\tpi3P\tegE\tegE,egEj\n",
      "souiller\tii1P\tsujô\tsujjô\n",
      "engluer\tpi2S\tâgly\tâglyy\n",
      "engluer\tpP\tâglyâ\tâglyHâ\n",
      "engluer\tpi3S\tâgly\tâglyy\n",
      "engluer\tpI2S\tâgly\tâglyy\n",
      "engluer\tfi1S\tâglyrE\tâglyyrE\n",
      "résigner\tii2P\trEziJe\trEziJje\n",
      "faire\tis1P\tfisjô\tfEt\n",
      "haler\tpi3P\tal\tvô\n",
      "haler\tpI2S\tal\tva\n",
      "haler\tpi3S\tal\tva\n",
      "aiguiller\tii1P\tEgHijô\tEgHijjô\n",
      "réapproprier\tpi1S\treaprOpriji\treaprOpri\n",
      "réapproprier\tpI2S\treaprOpriji\treaprOpri\n",
      "réapproprier\tpi3P\treaprOpriji\treaprOpri\n",
      "réapproprier\tpc2S\treaprOprijirE\treaprOprirE\n",
      "réapproprier\tpi3S\treaprOpriji\treaprOpri\n",
      "médire\tii1S\tmEdizE\tmEdisE\n",
      "médire\tps2S\tmEdiz\tmEdis\n",
      "médire\tpP\tmEdizâ\tmEdisâ\n",
      "médire\tii3S\tmEdizE\tmEdisE\n",
      "médire\tps3S\tmEdiz\tmEdis\n",
      "médire\tii3P\tmEdizE\tmEdisE\n",
      "médire\tpi2P\tmEdize\tmEdise\n",
      "remettre\tis1P\tr6misjô\tr6miz\n",
      "raire\tppMS\trE\trEje\n",
      "raire\tinf\trEr\trEje\n",
      "débouillir\tps3S\tdEbuj\tdEbut\n",
      "débouillir\tps1S\tdEbuj\tdEbut\n",
      "dépourvoir\tai3S\tdEpurvy\tdEpurvi\n",
      "relayer\tpI2S\tr6lE\tr6lE,r6lEj\n",
      "huer\tfi3S\tyra\tyyra\n",
      "huer\tfi3P\tyrô\tyyrô\n",
      "huer\tpi1P\tyô\tyHô\n",
      "huer\tpI1P\tyô\tyHô\n",
      "enrayer\tpi1S\târE\târE,ârEj\n",
      "enrayer\tpI2S\târE\târE,ârEj\n",
      "resservir\tfi3S\tr6sErvira\tr6sErvra\n",
      "savoir\tis1P\tsysjô\tsy\n",
      "rechigner\tii2P\tr6SiJe\tr6SiJje\n",
      "consigner\tii2P\tkôsiJe\tkôsiJje\n",
      "conchier\tppMS\tkôSje\tkôSi\n",
      "conchier\tinf\tkôSje\tkôSir\n",
      "conchier\tppMP\tkôSje\tkôSi\n",
      "conchier\tpi3P\tkôSi\tkôSis\n",
      "conchier\tpi2P\tkôSje\tkôSise\n",
      "appesantir\tpi3P\tap6zâtis\tap6zât\n",
      "appesantir\tii1S\tap6zâtisE\tap6zâtE\n",
      "appesantir\tpI2S\tap6zâti\tap6zâ\n",
      "appesantir\tpi3S\tap6zâti\tap6zâ\n",
      "remplier\tinf\trâplije\trâplijir\n",
      "défaillir\tfi2P\tdEfajire\tdEfaj6re\n",
      "émettre\tis1P\tEmisjô\tEmiz\n",
      "biller\tii1P\tbijô\tbijjô\n",
      "ondoyer\tii3S\tôdwajE\tôd6vE\n",
      "ondoyer\tppMS\tôdwaje\tôdy\n",
      "ondoyer\tpP\tôdwajâ\tôd6vâ\n",
      "ondoyer\tpi3P\tôdwa\tôdwav\n",
      "recueillir\tii2P\tr6k2je\tr6k2jje\n",
      "égratigner\tii2P\tEgratiJe\tEgratiJje\n",
      "dédaigner\tii2P\tdEdEJe\tdEdEJje\n",
      "admettre\tis1P\tadmisjô\tadmiz\n",
      "accuser\tis1P\takyzasjô\takyze\n",
      "grever\tii3S\tgr6vE\tgrEvE\n",
      "grever\tppMS\tgr6ve\tgrEve\n",
      "grever\tinf\tgr6ve\tgrEve\n",
      "grever\tppFS\tgr6ve\tgrEve\n",
      "transmettre\tis1P\ttrâsmisjô\ttrâsmiz\n",
      "saillir\tii3S\tsajE\tsajisE\n",
      "saillir\tpi2S\tsaj\tsaji\n",
      "saillir\tpP\tsajâ\tsajisâ\n",
      "saillir\tpI2S\tsaj\tsaji\n",
      "gésir\tinf\tZEzir\tZir\n",
      "délayer\tpI2S\tdElE\tdElE,dElEj\n",
      "délayer\tpi3S\tdElE\tdElE,dElEj\n",
      "examiner\tis1P\tEgzaminasjô\tEgzamine\n",
      "décrier\tpi3P\tdEkri\tdEkrij\n",
      "décrier\tpc3P\tdEkrirE\tdEkrij6rE\n",
      "décrier\tpI2S\tdEkri\tdEkrij\n",
      "décrier\tpc2S\tdEkrirE\tdEkrij6rE\n",
      "décrier\tpi3S\tdEkri\tdEkrij\n",
      "guerroyer\tpi3P\tgErwa\tgErwaj\n",
      "guerroyer\tfi1P\tgErwarô\tgErwaj6rô\n",
      "guerroyer\tpi3S\tgErwa\tgErwaj\n",
      "chaîner\tinf\tSEne\tS6ne\n",
      "débarrer\tppFS\tdEbare\tdEbarti\n",
      "débarrer\tppFP\tdEbare\tdEbarti\n",
      "débarrer\tai3S\tdEbara\tdEbarti\n",
      "débarrer\tai2S\tdEbara\tdEbarti\n",
      "débarrer\tinf\tdEbare\tdEbartir\n",
      "débarrer\tpI2P\tdEbare\tdEbarte\n",
      "larmoyer\tpc3S\tlarmwarE\tlarmwaj6rE\n",
      "larmoyer\tfi3P\tlarmwarô\tlarmwaj6rô\n",
      "larmoyer\tpi3S\tlarmwa\tlarmwaj\n",
      "larmoyer\tpi2S\tlarmwa\tlarmwaj\n",
      "larmoyer\tpi1S\tlarmwa\tlarmwaj\n",
      "avoir\tis1P\tysjô\ty\n",
      "repentir\tis1P\tr6pâtisjô\tr6pâti\n",
      "baigner\tii2P\tbEJe\tbEJje\n"
     ]
    }
   ],
   "source": [
    "for k,v in differents.iteritems():\n",
    "    for kk,vv in v.iteritems():\n",
    "        print \"\\t\".join([k,kk,vv[0],vv[1]])\n",
    "        "
   ]
  },
  {
   "cell_type": "code",
   "execution_count": null,
   "id": "9b43707b-b477-4d1b-b58d-a42543d728c2",
   "metadata": {},
   "outputs": [],
   "source": []
  }
 ],
 "metadata": {
  "kernelspec": {
   "display_name": "Python 2.7",
   "language": "python",
   "name": "py2"
  },
  "language_info": {
   "codemirror_mode": {
    "name": "ipython",
    "version": 2
   },
   "file_extension": ".py",
   "mimetype": "text/x-python",
   "name": "python",
   "nbconvert_exporter": "python",
   "pygments_lexer": "ipython2",
   "version": "2.7.16"
  }
 },
 "nbformat": 4,
 "nbformat_minor": 5
}
