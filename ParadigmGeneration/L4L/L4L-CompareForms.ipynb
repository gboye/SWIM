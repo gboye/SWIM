{
 "cells": [
  {
   "cell_type": "code",
   "execution_count": 141,
   "id": "61025614-b591-478f-91b2-d51d55deb761",
   "metadata": {
    "tags": []
   },
   "outputs": [],
   "source": [
    "import pandas as pd\n",
    "import numpy as np\n",
    "import re,pyperclip\n",
    "import seaborn as sns\n",
    "import matplotlib.pyplot as plt\n",
    "sns.set_style(\"darkgrid\")\n",
    "sns.set_context(\"paper\", font_scale=1.5, rc={\"lines.linewidth\": 2.5})\n",
    "sns.set_palette(\"hls\")\n",
    "sns.set_color_codes(\"muted\")\n",
    "%matplotlib inline"
   ]
  },
  {
   "cell_type": "markdown",
   "id": "6d204e97-a3d5-40ce-8ad6-aa12e5ebb525",
   "metadata": {},
   "source": [
    "# Choix"
   ]
  },
  {
   "cell_type": "code",
   "execution_count": 142,
   "id": "b07d48b6-aa14-4440-bef8-e07643ec17ef",
   "metadata": {
    "tags": []
   },
   "outputs": [],
   "source": [
    "typeResults=\"Principaux\"\n",
    "# typeResults=\"Complets\"\n",
    "\n",
    "repL4L=\"/Users/gilles/ownCloud/Recherche/Boye/HDR/Data/L4L/\"\n",
    "repIMM21=repL4L+\"IMM21/\"\n",
    "fSwim=repIMM21+\"IMM21-00-X-paradigmes-Swim1.csv\"\n",
    "fSwim=repIMM21+\"IMM21-00-X-paradigmes-Swim1-StemSpace.csv\"\n",
    "fSwim=repIMM21+\"IMM21-00-X-paradigmes-Swim2.csv\"\n",
    "fSwim=repIMM21+\"IMM21-00-X-paradigmes-Swim2-StemSpace.csv\"\n",
    "fSwim=repIMM21+\"IMM21-00-X-Morphomes-Swim1.csv\"\n",
    "fSwim=repIMM21+\"IMM21-00-X-Morphomes-Swim1-StemSpace.csv\"\n",
    "fSwim=repIMM21+\"IMM21-00-X-Morphomes-Swim2.csv\"\n",
    "fSwim=repIMM21+\"IMM21-00-X-Morphomes-Swim2-StemSpace.csv\"\n",
    "# fSwim=repIMM21+\"IMM21-01-X-paradigmes-Swim1.csv\"\n",
    "# fSwim=repIMM21+\"IMM21-01-X-paradigmes-Swim1-StemSpace.csv\"\n",
    "# fSwim=repIMM21+\"IMM21-01-X-paradigmes-Swim2.csv\"\n",
    "# fSwim=repIMM21+\"IMM21-01-X-paradigmes-Swim2-StemSpace.csv\"\n",
    "# fSwim=repIMM21+\"IMM21-01-X-Morphomes-Swim1.csv\"\n",
    "# fSwim=repIMM21+\"IMM21-01-X-Morphomes-Swim1-StemSpace.csv\"\n",
    "# fSwim=repIMM21+\"IMM21-01-X-Morphomes-Swim2.csv\"\n",
    "# fSwim=repIMM21+\"IMM21-01-X-Morphomes-Swim2-StemSpace.csv\"\n",
    "fSwim=repIMM21+\"IMM21-02-X-paradigmes-Swim1.csv\"\n",
    "fSwim=repIMM21+\"IMM21-02-X-paradigmes-Swim1-StemSpace.csv\"\n",
    "fSwim=repIMM21+\"IMM21-02-X-paradigmes-Swim2.csv\"\n",
    "fSwim=repIMM21+\"IMM21-02-X-paradigmes-Swim2-StemSpace.csv\"\n",
    "fSwim=repIMM21+\"IMM21-02-X-Morphomes-Swim1.csv\"\n",
    "fSwim=repIMM21+\"IMM21-02-X-Morphomes-Swim1-StemSpace.csv\"\n",
    "fSwim=repIMM21+\"IMM21-02-X-Morphomes-Swim2.csv\"\n",
    "fSwim=repIMM21+\"IMM21-02-X-Morphomes-Swim2-StemSpace.csv\"\n",
    "# fSwim=repIMM21+\"IMM21-00-X-paradigmes-Max.csv\"\n",
    "# fSwim=repIMM21+\"IMM21-00-X-paradigmes-InterMax.csv\"\n",
    "# fControl=repL4L+\"vlexique-Sampa.csv\"\n",
    "# fControl=repIMM21+\"IMM21-00-X-paradigmes.csv\"\n",
    "fControl=repIMM21+\"IMM21-01-X-paradigmes.csv\"\n",
    "# fControl=repIMM21+\"IMM21-02-X-paradigmes.csv\"\n"
   ]
  },
  {
   "cell_type": "code",
   "execution_count": 143,
   "id": "cf15b964-718c-482f-9afb-ca79a21811be",
   "metadata": {
    "tags": []
   },
   "outputs": [],
   "source": [
    "dfSwim=pd.read_csv(fSwim,sep=\";\",encoding=\"utf8\")\n",
    "dfControl=pd.read_csv(fControl,sep=\";\",encoding=\"utf8\")"
   ]
  },
  {
   "cell_type": "code",
   "execution_count": 144,
   "id": "948a0902-e26d-45eb-9dac-0a2784cdab56",
   "metadata": {},
   "outputs": [
    {
     "name": "stdout",
     "output_type": "stream",
     "text": [
      "103623\n",
      "6433\n"
     ]
    }
   ],
   "source": [
    "print dfControl.iloc[:,2:].count().sum()\n",
    "print len(dfControl)"
   ]
  },
  {
   "cell_type": "code",
   "execution_count": 145,
   "id": "118e6736-7704-4c51-9af3-4d921ebc6ac0",
   "metadata": {
    "tags": []
   },
   "outputs": [],
   "source": [
    "%store -r ordStemCells\n",
    "cols=dfControl.columns.tolist()[2:]\n",
    "if typeResults==\"Principaux\":\n",
    "    cols=[c for c in cols if not (\"ai\" in c or \"is\" in c)]\n",
    "    ordStemCells=[c for c in ordStemCells if c in cols]\n",
    "# cols"
   ]
  },
  {
   "cell_type": "code",
   "execution_count": 146,
   "id": "87503209-38cc-4ce6-8dce-244e95720122",
   "metadata": {
    "tags": []
   },
   "outputs": [],
   "source": [
    "neutralisationsNORD=(u\"6û\",u\"9ê\")\n",
    "neutralisationsSUD=(u\"e2o\",u\"E9O\")\n",
    "neutralisations=neutralisationsSUD\n",
    "\n",
    "bdlexiqueIn = unicode(u\"èò\"+neutralisations[0])\n",
    "bdlexiqueNum = [ord(char) for char in bdlexiqueIn]\n",
    "neutreOut = unicode(u\"EO\"+neutralisations[1])\n",
    "neutralise = dict(zip(bdlexiqueNum, neutreOut))"
   ]
  },
  {
   "cell_type": "code",
   "execution_count": 147,
   "id": "33889b33-0f66-4f13-8cc8-8c63463cbc06",
   "metadata": {
    "tags": []
   },
   "outputs": [],
   "source": [
    "def recoder(chaine,table=neutralise):\n",
    "    if type(chaine)==str:\n",
    "        temp=unicode(chaine.decode('utf8')).translate(table)\n",
    "        result=temp.encode('utf8')\n",
    "    elif type(chaine)==unicode:\n",
    "        result=chaine.translate(table)\n",
    "    else:\n",
    "        result=chaine\n",
    "    return result"
   ]
  },
  {
   "cell_type": "code",
   "execution_count": 148,
   "id": "d97af559-0f6f-4943-92e3-267a8a567614",
   "metadata": {
    "tags": []
   },
   "outputs": [],
   "source": [
    "dierese={\"j\":\"ij\", \"w\":\"uw\",\"H\":\"yH\",\"i\":\"ij\",\"u\":\"uw\",\"y\":\"yH\"}"
   ]
  },
  {
   "cell_type": "raw",
   "id": "a4cb1647-e88e-463e-a59b-1fd59658f6f0",
   "metadata": {
    "tags": []
   },
   "source": [
    "def checkFrench(prononciation):\n",
    "    if prononciation and not pd.isnull(prononciation):\n",
    "        result=recoder(prononciation)\n",
    "        m=re.match(ur\"^.*([^ieèEaOouy926êôâ])[jwH]$\",result)\n",
    "        if m:\n",
    "            print (\"pb avec un glide final\", [prononciation])\n",
    "        m=re.match(ur\"(.*[ptkbdgfsSvzZ][rl])([jwH])(.*)\",result)\n",
    "        if m:\n",
    "            n=re.search(ur\"[ptkbdgfsSvzZ][rl](wa|Hi|wê)\",result)\n",
    "            if not n:\n",
    "                glide=m.group(2)\n",
    "                result=m.group(1)+dierese[glide]+m.group(3)\n",
    "        m=re.match(ur\"(.*)([iuy])([ieEaOouy].*)\",result)\n",
    "        if m:\n",
    "            glide=m.group(2)\n",
    "            result=m.group(1)+dierese[glide]+m.group(3)\n",
    "    else:\n",
    "        result=prononciation\n",
    "    return result"
   ]
  },
  {
   "cell_type": "code",
   "execution_count": 149,
   "id": "b8274d27-0f06-42a9-8ae8-fe3564f7467b",
   "metadata": {},
   "outputs": [],
   "source": [
    "def checkFrench(prononciation):\n",
    "    glide2voyelle={\"j\":\"i\",\"w\":\"u\",\"H\":\"y\"}\n",
    "    if prononciation:\n",
    "        if \",\" in prononciation:\n",
    "            prononciations=prononciation.split(\",\")\n",
    "            setPrononciations=set()\n",
    "            for element in prononciations:\n",
    "                setPrononciations.add(checkFrench(element))\n",
    "            result=\",\".join(list(setPrononciations))\n",
    "        else:\n",
    "            result=recoder(prononciation)\n",
    "            result=result.replace(\"Jj\",\"J\")\n",
    "            m=re.match(ur\"^(.*[^ieèEaOouy926êôâ])([jwH])$\",result)\n",
    "            if m:\n",
    "                # print (\"pb avec un glide final\", prononciation)\n",
    "                voyelle=glide2voyelle[m.group(2)]\n",
    "                result=m.group(1)+voyelle\n",
    "            m=re.match(ur\"(.*[ptkbdgfsSvzZ][rl])([jwH])(.*)\",result)\n",
    "            if m:\n",
    "                n=re.search(ur\"[ptkbdgfsSvzZ][rl](wa|Hi|wê)\",result)\n",
    "                if not n:\n",
    "                    glide=m.group(2)\n",
    "                    result=m.group(1)+dierese[glide]+m.group(3)\n",
    "            m=re.match(ur\"(.*)([iuy])([ieEaOouyêâô].*)\",result)\n",
    "            if m:\n",
    "                glide=m.group(2)\n",
    "                result=m.group(1)+dierese[glide]+m.group(3)\n",
    "            result=result.replace(\"jj\",\"ij\")\n",
    "    else:\n",
    "        result=prononciation\n",
    "    return result"
   ]
  },
  {
   "cell_type": "code",
   "execution_count": 150,
   "id": "d3f6ec7b-a452-4b76-92b3-e7e924b8d664",
   "metadata": {
    "tags": []
   },
   "outputs": [
    {
     "name": "stdout",
     "output_type": "stream",
     "text": [
      "aliJE\n"
     ]
    }
   ],
   "source": [
    "print checkFrench(u\"aliJje\")"
   ]
  },
  {
   "cell_type": "code",
   "execution_count": 151,
   "id": "3d25d1be-0dc5-4350-ac36-745df97416c1",
   "metadata": {
    "tags": []
   },
   "outputs": [],
   "source": [
    "equals={}\n",
    "differents={}\n",
    "missings={}\n",
    "\n",
    "def normalise(forme):\n",
    "    result=recoder(forme)\n",
    "    result=checkFrench(result)\n",
    "    return result        \n",
    "\n",
    "def compare(row):\n",
    "    def compareForms(f1,f2):\n",
    "        if normalise(f1)==normalise(f2):\n",
    "            lEquals[c]=(f1,f2)\n",
    "        else:\n",
    "            lDifferents[c]=(f1,f2)\n",
    "        return\n",
    "\n",
    "    \n",
    "    lexeme=row.lexeme\n",
    "    if lexeme in dfSwim[\"lexeme\"].tolist():\n",
    "        lEquals=equals[lexeme]={}\n",
    "        lDifferents=differents[lexeme]={}\n",
    "        lMissings=missings[lexeme]={}\n",
    "        swimRow=dfSwim[dfSwim.lexeme.str.contains(\"^\"+lexeme+\"$\")]\n",
    "        for c in cols:\n",
    "            swimRowC=swimRow[c].values[0]\n",
    "            if row[c]==row[c]:\n",
    "                if swimRowC==swimRowC:\n",
    "                    compareForms(row[c],swimRowC)\n",
    "                else:\n",
    "                    lMissings[c]=(row[c],swimRowC)\n",
    "        return (lexeme,len(lEquals),len(lDifferents),len(lMissings))\n",
    "    return (lexeme,np.nan,np.nan,np.nan)"
   ]
  },
  {
   "cell_type": "code",
   "execution_count": 152,
   "id": "fee0c660-f616-46b0-9e27-2985a897f2da",
   "metadata": {},
   "outputs": [],
   "source": [
    "dfResults=pd.DataFrame([[l,e,d,m] for l,e,d,m in dfControl.apply(compare,axis=1).values], columns=\"lexeme equal different missing\".split(\" \"))"
   ]
  },
  {
   "cell_type": "code",
   "execution_count": 153,
   "id": "71b327f2-fcfa-4cf7-bf49-7a6c2075ba71",
   "metadata": {
    "tags": []
   },
   "outputs": [
    {
     "data": {
      "text/plain": [
       "97542.0"
      ]
     },
     "execution_count": 153,
     "metadata": {},
     "output_type": "execute_result"
    }
   ],
   "source": [
    "nbForms=dfResults[\"equal different missing\".split(\" \")].sum().sum()\n",
    "nbForms"
   ]
  },
  {
   "cell_type": "code",
   "execution_count": 154,
   "id": "543577cc-aaab-4c04-889b-33e773780251",
   "metadata": {
    "tags": []
   },
   "outputs": [
    {
     "name": "stdout",
     "output_type": "stream",
     "text": [
      "Principaux IMM21-02-X-Morphomes-Swim2-StemSpace.csv vs IMM21-01-X-paradigmes.csv\n",
      "formes identiques : 93569 => 95.9%\n",
      "formes manquantes : 3821 => 3.9%\n",
      "formes différentes : 152 => 0.2%\n"
     ]
    }
   ],
   "source": [
    "print typeResults,fSwim.split(\"/\")[-1],\"vs\",fControl.split(\"/\")[-1]\n",
    "# Paradigmes-Swim1: 43\n",
    "# Paradigmes-Swim2: 92\n",
    "# Morphomes-Swim1: 42\n",
    "# Morphomes-Swim2: 92\n",
    "ajustementsManuels=0\n",
    "nbEqual=int(dfResults[\"equal\"].sum())\n",
    "nbDifferent=int(dfResults[\"different\"].sum())\n",
    "nbMissing=int(dfResults[\"missing\"].sum())\n",
    "print \"formes identiques :\",nbEqual,\"=> %2.1f%%\"%round(nbEqual/nbForms*100,1)\n",
    "print \"formes manquantes :\",nbMissing,\"=> %2.1f%%\"%round(nbMissing/nbForms*100,1)\n",
    "print \"formes différentes :\",nbDifferent,\"=> %2.1f%%\"%round(nbDifferent/nbForms*100,1)\n"
   ]
  },
  {
   "cell_type": "code",
   "execution_count": 155,
   "id": "bf483b6d-0014-4c4e-91e7-96299ae86fa4",
   "metadata": {
    "tags": []
   },
   "outputs": [
    {
     "data": {
      "text/plain": [
       "lexeme       6433\n",
       "equal        6368\n",
       "different    6368\n",
       "missing      6368\n",
       "dtype: int64"
      ]
     },
     "execution_count": 155,
     "metadata": {},
     "output_type": "execute_result"
    }
   ],
   "source": [
    "dfResults.count()"
   ]
  },
  {
   "cell_type": "code",
   "execution_count": 156,
   "id": "bd1be0a3-baf9-48fa-a21f-7a814e2b2a1d",
   "metadata": {
    "tags": []
   },
   "outputs": [],
   "source": [
    "tEquals=[]\n",
    "for k,v in equals.iteritems():\n",
    "    for kk,vv in v.iteritems():\n",
    "        tEquals.append(\"\\t\".join([k,kk,vv[0]]))\n",
    "pyperclip.copy(\"\\n\".join(tEquals))"
   ]
  },
  {
   "cell_type": "code",
   "execution_count": 157,
   "id": "3c5bbdde-6207-43a3-9d56-88146e35c20f",
   "metadata": {
    "tags": []
   },
   "outputs": [],
   "source": [
    "tMissings=[]\n",
    "for k,v in missings.iteritems():\n",
    "    for kk,vv in v.iteritems():\n",
    "        tMissings.append(\"\\t\".join([k,kk,vv[0]]))\n",
    "pyperclip.copy(\"\\n\".join(tMissings))"
   ]
  },
  {
   "cell_type": "code",
   "execution_count": 158,
   "id": "5b54a40b-dc7c-458c-9b4c-08be9aac93e4",
   "metadata": {
    "tags": []
   },
   "outputs": [
    {
     "data": {
      "text/html": [
       "<div>\n",
       "<style scoped>\n",
       "    .dataframe tbody tr th:only-of-type {\n",
       "        vertical-align: middle;\n",
       "    }\n",
       "\n",
       "    .dataframe tbody tr th {\n",
       "        vertical-align: top;\n",
       "    }\n",
       "\n",
       "    .dataframe thead th {\n",
       "        text-align: right;\n",
       "    }\n",
       "</style>\n",
       "<table border=\"1\" class=\"dataframe\">\n",
       "  <thead>\n",
       "    <tr style=\"text-align: right;\">\n",
       "      <th></th>\n",
       "      <th>pi1S</th>\n",
       "      <th>pi2S</th>\n",
       "      <th>pi3S</th>\n",
       "      <th>pi1P</th>\n",
       "      <th>pi2P</th>\n",
       "      <th>pi3P</th>\n",
       "      <th>ii1S</th>\n",
       "      <th>ii2S</th>\n",
       "      <th>ii3S</th>\n",
       "      <th>ii1P</th>\n",
       "      <th>...</th>\n",
       "      <th>ps3P</th>\n",
       "      <th>pI2S</th>\n",
       "      <th>pI1P</th>\n",
       "      <th>pI2P</th>\n",
       "      <th>inf</th>\n",
       "      <th>pP</th>\n",
       "      <th>ppMS</th>\n",
       "      <th>ppMP</th>\n",
       "      <th>ppFS</th>\n",
       "      <th>ppFP</th>\n",
       "    </tr>\n",
       "  </thead>\n",
       "  <tbody>\n",
       "    <tr>\n",
       "      <th>abaisser</th>\n",
       "      <td>NaN</td>\n",
       "      <td>NaN</td>\n",
       "      <td>NaN</td>\n",
       "      <td>NaN</td>\n",
       "      <td>NaN</td>\n",
       "      <td>NaN</td>\n",
       "      <td>NaN</td>\n",
       "      <td>NaN</td>\n",
       "      <td>NaN</td>\n",
       "      <td>NaN</td>\n",
       "      <td>...</td>\n",
       "      <td>NaN</td>\n",
       "      <td>NaN</td>\n",
       "      <td>NaN</td>\n",
       "      <td>NaN</td>\n",
       "      <td>NaN</td>\n",
       "      <td>NaN</td>\n",
       "      <td>NaN</td>\n",
       "      <td>NaN</td>\n",
       "      <td>NaN</td>\n",
       "      <td>NaN</td>\n",
       "    </tr>\n",
       "    <tr>\n",
       "      <th>abandonner</th>\n",
       "      <td>NaN</td>\n",
       "      <td>NaN</td>\n",
       "      <td>NaN</td>\n",
       "      <td>NaN</td>\n",
       "      <td>NaN</td>\n",
       "      <td>NaN</td>\n",
       "      <td>NaN</td>\n",
       "      <td>NaN</td>\n",
       "      <td>NaN</td>\n",
       "      <td>NaN</td>\n",
       "      <td>...</td>\n",
       "      <td>NaN</td>\n",
       "      <td>NaN</td>\n",
       "      <td>NaN</td>\n",
       "      <td>NaN</td>\n",
       "      <td>NaN</td>\n",
       "      <td>NaN</td>\n",
       "      <td>NaN</td>\n",
       "      <td>NaN</td>\n",
       "      <td>NaN</td>\n",
       "      <td>NaN</td>\n",
       "    </tr>\n",
       "    <tr>\n",
       "      <th>abasourdir</th>\n",
       "      <td>NaN</td>\n",
       "      <td>NaN</td>\n",
       "      <td>NaN</td>\n",
       "      <td>NaN</td>\n",
       "      <td>NaN</td>\n",
       "      <td>NaN</td>\n",
       "      <td>NaN</td>\n",
       "      <td>NaN</td>\n",
       "      <td>NaN</td>\n",
       "      <td>NaN</td>\n",
       "      <td>...</td>\n",
       "      <td>NaN</td>\n",
       "      <td>NaN</td>\n",
       "      <td>NaN</td>\n",
       "      <td>NaN</td>\n",
       "      <td>NaN</td>\n",
       "      <td>NaN</td>\n",
       "      <td>NaN</td>\n",
       "      <td>NaN</td>\n",
       "      <td>NaN</td>\n",
       "      <td>NaN</td>\n",
       "    </tr>\n",
       "    <tr>\n",
       "      <th>abattre</th>\n",
       "      <td>NaN</td>\n",
       "      <td>NaN</td>\n",
       "      <td>NaN</td>\n",
       "      <td>NaN</td>\n",
       "      <td>NaN</td>\n",
       "      <td>NaN</td>\n",
       "      <td>NaN</td>\n",
       "      <td>NaN</td>\n",
       "      <td>NaN</td>\n",
       "      <td>NaN</td>\n",
       "      <td>...</td>\n",
       "      <td>NaN</td>\n",
       "      <td>NaN</td>\n",
       "      <td>NaN</td>\n",
       "      <td>NaN</td>\n",
       "      <td>NaN</td>\n",
       "      <td>NaN</td>\n",
       "      <td>NaN</td>\n",
       "      <td>NaN</td>\n",
       "      <td>NaN</td>\n",
       "      <td>NaN</td>\n",
       "    </tr>\n",
       "    <tr>\n",
       "      <th>abdiquer</th>\n",
       "      <td>NaN</td>\n",
       "      <td>NaN</td>\n",
       "      <td>NaN</td>\n",
       "      <td>NaN</td>\n",
       "      <td>NaN</td>\n",
       "      <td>NaN</td>\n",
       "      <td>NaN</td>\n",
       "      <td>NaN</td>\n",
       "      <td>NaN</td>\n",
       "      <td>NaN</td>\n",
       "      <td>...</td>\n",
       "      <td>NaN</td>\n",
       "      <td>NaN</td>\n",
       "      <td>NaN</td>\n",
       "      <td>NaN</td>\n",
       "      <td>NaN</td>\n",
       "      <td>NaN</td>\n",
       "      <td>NaN</td>\n",
       "      <td>NaN</td>\n",
       "      <td>NaN</td>\n",
       "      <td>NaN</td>\n",
       "    </tr>\n",
       "  </tbody>\n",
       "</table>\n",
       "<p>5 rows × 39 columns</p>\n",
       "</div>"
      ],
      "text/plain": [
       "           pi1S pi2S pi3S pi1P pi2P pi3P ii1S ii2S ii3S ii1P  ... ps3P pI2S  \\\n",
       "abaisser    NaN  NaN  NaN  NaN  NaN  NaN  NaN  NaN  NaN  NaN  ...  NaN  NaN   \n",
       "abandonner  NaN  NaN  NaN  NaN  NaN  NaN  NaN  NaN  NaN  NaN  ...  NaN  NaN   \n",
       "abasourdir  NaN  NaN  NaN  NaN  NaN  NaN  NaN  NaN  NaN  NaN  ...  NaN  NaN   \n",
       "abattre     NaN  NaN  NaN  NaN  NaN  NaN  NaN  NaN  NaN  NaN  ...  NaN  NaN   \n",
       "abdiquer    NaN  NaN  NaN  NaN  NaN  NaN  NaN  NaN  NaN  NaN  ...  NaN  NaN   \n",
       "\n",
       "           pI1P pI2P  inf   pP ppMS ppMP ppFS ppFP  \n",
       "abaisser    NaN  NaN  NaN  NaN  NaN  NaN  NaN  NaN  \n",
       "abandonner  NaN  NaN  NaN  NaN  NaN  NaN  NaN  NaN  \n",
       "abasourdir  NaN  NaN  NaN  NaN  NaN  NaN  NaN  NaN  \n",
       "abattre     NaN  NaN  NaN  NaN  NaN  NaN  NaN  NaN  \n",
       "abdiquer    NaN  NaN  NaN  NaN  NaN  NaN  NaN  NaN  \n",
       "\n",
       "[5 rows x 39 columns]"
      ]
     },
     "execution_count": 158,
     "metadata": {},
     "output_type": "execute_result"
    }
   ],
   "source": [
    "dfDiff=pd.DataFrame.from_dict(differents).T\n",
    "for c in ordStemCells:\n",
    "    if c not in dfDiff.columns:\n",
    "        dfDiff[c]=np.NaN\n",
    "dfDiff=dfDiff[ordStemCells]\n",
    "dfDiff.to_pickle(fSwim.replace(\".csv\",\"-Diff-%s.pkl\"%typeResults))\n",
    "dfDiff.head()"
   ]
  },
  {
   "cell_type": "code",
   "execution_count": 159,
   "id": "9b43707b-b477-4d1b-b58d-a42543d728c2",
   "metadata": {},
   "outputs": [],
   "source": [
    "dfDiff.dropna(thresh=1).to_csv(fSwim.replace(\".csv\",\"-Diff-%s.csv\"%typeResults),encoding=\"utf8\",sep=\";\")"
   ]
  },
  {
   "cell_type": "code",
   "execution_count": 160,
   "id": "0961cffe-a722-4c8d-9e06-36d38b031808",
   "metadata": {},
   "outputs": [],
   "source": [
    "%store -r pltCellColors\n",
    "def colorerXTicks(gAX,fSize=12):\n",
    "    xlabels=gAX.get_xticklabels()\n",
    "    for xlabel in xlabels:\n",
    "        xtext=xlabel.get_text()\n",
    "        xlabel.set_backgroundcolor(pltCellColors[xtext])\n",
    "        xlabel.set_family(\"monospace\")"
   ]
  },
  {
   "cell_type": "code",
   "execution_count": 161,
   "id": "f80e4679-031b-4463-a04c-ac5e401405fa",
   "metadata": {
    "tags": []
   },
   "outputs": [
    {
     "data": {
      "image/png": "[encoded data removed]",
      "text/plain": [
       "<Figure size 1440x360 with 1 Axes>"
      ]
     },
     "metadata": {
      "needs_background": "light"
     },
     "output_type": "display_data"
    }
   ],
   "source": [
    "ax=dfDiff.count().plot(kind=\"bar\")\n",
    "# ax.set_xticklabels(ordStemCells)\n",
    "ax.set_title(\"Distribution des erreurs\")\n",
    "ax.set_xlabel(\"\\nCellules\")\n",
    "ax.set_ylabel(\"Nombre d'erreurs\")\n",
    "_=ax.set_ylim(0,500)\n",
    "colorerXTicks(ax,fSize=10)\n",
    "ax.figure.set_size_inches(20,5)\n",
    "plt.savefig(fSwim.replace(\".csv\",\"-ErrDist-%s.pdf\"%typeResults))"
   ]
  },
  {
   "cell_type": "code",
   "execution_count": 162,
   "id": "53e8a7d7-35a1-4da5-ae83-7ad51f288ced",
   "metadata": {},
   "outputs": [],
   "source": [
    "dfHyp0=pd.read_pickle(repIMM21+\"IMM21-00-X-paradigmes-Max-Diff.pkl\").count()\n",
    "dfHyp1=pd.read_pickle(repIMM21+\"IMM21-00-X-Morphomes-Swim2-StemSpace-Diff.pkl\").count()"
   ]
  },
  {
   "cell_type": "code",
   "execution_count": 163,
   "id": "1c3f744c-8b36-4940-9a91-3e1573e17003",
   "metadata": {},
   "outputs": [
    {
     "data": {
      "text/html": [
       "<div>\n",
       "<style scoped>\n",
       "    .dataframe tbody tr th:only-of-type {\n",
       "        vertical-align: middle;\n",
       "    }\n",
       "\n",
       "    .dataframe tbody tr th {\n",
       "        vertical-align: top;\n",
       "    }\n",
       "\n",
       "    .dataframe thead th {\n",
       "        text-align: right;\n",
       "    }\n",
       "</style>\n",
       "<table border=\"1\" class=\"dataframe\">\n",
       "  <thead>\n",
       "    <tr style=\"text-align: right;\">\n",
       "      <th></th>\n",
       "      <th>index</th>\n",
       "      <th>Vote majoritaire</th>\n",
       "      <th>Choix consensuel</th>\n",
       "    </tr>\n",
       "  </thead>\n",
       "  <tbody>\n",
       "    <tr>\n",
       "      <th>0</th>\n",
       "      <td>pi1S</td>\n",
       "      <td>74.0</td>\n",
       "      <td>46.0</td>\n",
       "    </tr>\n",
       "    <tr>\n",
       "      <th>1</th>\n",
       "      <td>pi2S</td>\n",
       "      <td>77.0</td>\n",
       "      <td>52.0</td>\n",
       "    </tr>\n",
       "    <tr>\n",
       "      <th>2</th>\n",
       "      <td>pi3S</td>\n",
       "      <td>61.0</td>\n",
       "      <td>52.0</td>\n",
       "    </tr>\n",
       "    <tr>\n",
       "      <th>3</th>\n",
       "      <td>pi1P</td>\n",
       "      <td>66.0</td>\n",
       "      <td>38.0</td>\n",
       "    </tr>\n",
       "    <tr>\n",
       "      <th>4</th>\n",
       "      <td>pi2P</td>\n",
       "      <td>73.0</td>\n",
       "      <td>48.0</td>\n",
       "    </tr>\n",
       "  </tbody>\n",
       "</table>\n",
       "</div>"
      ],
      "text/plain": [
       "  index  Vote majoritaire  Choix consensuel\n",
       "0  pi1S              74.0              46.0\n",
       "1  pi2S              77.0              52.0\n",
       "2  pi3S              61.0              52.0\n",
       "3  pi1P              66.0              38.0\n",
       "4  pi2P              73.0              48.0"
      ]
     },
     "execution_count": 163,
     "metadata": {},
     "output_type": "execute_result"
    }
   ],
   "source": [
    "df=dfHyp0[ordStemCells].to_frame()\n",
    "df.columns=[\"Vote majoritaire\"]\n",
    "df[\"Choix consensuel\"]=dfHyp1[ordStemCells].to_frame()\n",
    "df=df.reset_index()\n",
    "df.head()"
   ]
  },
  {
   "cell_type": "code",
   "execution_count": 164,
   "id": "9105143d-f814-4ee8-86b3-55963e04912d",
   "metadata": {},
   "outputs": [],
   "source": [
    "dfMelted = pd.melt(df, id_vars=['index'],value_vars=['Vote majoritaire','Choix consensuel'])\n",
    "dfMelted.columns=[\"case\",u\"Mode de sélection\",\"nombre\"]\n",
    "# dfMelted"
   ]
  },
  {
   "cell_type": "code",
   "execution_count": 165,
   "id": "94dbd4e9-f3d3-4976-b7f1-ba6c9b2f9faf",
   "metadata": {},
   "outputs": [
    {
     "data": {
      "image/png": "[encoded data removed]",
      "text/plain": [
       "<Figure size 1440x360 with 1 Axes>"
      ]
     },
     "metadata": {
      "needs_background": "light"
     },
     "output_type": "display_data"
    }
   ],
   "source": [
    "ax = sns.barplot(x=\"case\", y=\"nombre\", hue=u\"Mode de sélection\", data=dfMelted,linewidth=2)#,palette=[\"red\",\"green\"])\n",
    "ax.set_xlabel(\"\\nCases\")\n",
    "ax.set_ylabel(\"Nombre d'erreurs\")\n",
    "# ax.set_title(\"Distribution des erreurs en fonction des cases\")\n",
    "colorerXTicks(ax,fSize=10)\n",
    "ax.tick_params(axis='x', labelrotation=90)\n",
    "_=ax.set_ylim(0,500)\n",
    "# _=ax.set_xlim(\"inf\",\"is1P\")\n",
    "ax.figure.set_size_inches(20,5)\n",
    "plt.savefig(repIMM21+\"IMM21-00-DistErr-%s.pdf\"%typeResults,dpi=300, bbox_inches = \"tight\")\n"
   ]
  },
  {
   "cell_type": "code",
   "execution_count": 166,
   "id": "6ca7bfed-f4c3-482c-a999-24f2e799fcb4",
   "metadata": {
    "tags": []
   },
   "outputs": [],
   "source": [
    "nbEqualCorr=nbEqual\n",
    "nbDifferentCorr=nbDifferent\n",
    "nbMissingCorr=nbMissing\n",
    "\n",
    "for k,v in differents.iteritems():\n",
    "    for kk,vv in v.iteritems():\n",
    "        if \",\" in vv[0] or \",\" in vv[1]:\n",
    "            set1=set(vv[0].split(\",\"))\n",
    "            set2=set(vv[1].split(\",\"))\n",
    "            sEquals12=set1&set2\n",
    "            equals12=\",\".join(sEquals12)\n",
    "            sMissings12=set1-set2\n",
    "            missings12=\",\".join(sMissings12)\n",
    "            sDifferents12=set2-set1\n",
    "            differents12=\",\".join(sDifferents12)\n",
    "            # print \",\".join([k,kk,\"=\",equals12,u\"Ø\",missings12,u\"≠\",differents12])\n",
    "            nbEqualCorr+=len(sEquals12)\n",
    "            nbDifferentCorr-=len(sEquals12)\n",
    "            nbMissingCorr+=len(sMissings12)"
   ]
  },
  {
   "cell_type": "code",
   "execution_count": 167,
   "id": "3cfcf0e8-69b2-40a7-8684-a995faed21a7",
   "metadata": {
    "tags": []
   },
   "outputs": [
    {
     "name": "stdout",
     "output_type": "stream",
     "text": [
      "Principaux IMM21-02-X-Morphomes-Swim2-StemSpace.csv vs IMM21-01-X-paradigmes.csv\n",
      "formes identiques : 93573 => 95.9%\n",
      "formes manquantes : 3825 => 3.9%\n",
      "formes différentes : 148 => 0.2%\n",
      "précision : 99.8%\n",
      "rappel : 96.1%\n",
      "{'Complets': {}, 'Principaux': {'IMM21-01-X-paradigmes.csv': {'IMM21-02-X-Morphomes-Swim1-StemSpace.csv': {'missing': 7789, 'recall': 92.00964300369307, 'nb': 97542.0, 'equal': 89691, 'precision': 99.93092152908538, 'diff': 62}, 'IMM21-02-X-paradigmes-Swim1-StemSpace.csv': {'missing': 22087, 'recall': 77.35340257769484, 'nb': 97542.0, 'equal': 75442, 'precision': 99.98277118812537, 'diff': 13}, 'IMM21-02-X-paradigmes-Swim1.csv': {'missing': 25587, 'recall': 73.76687821032019, 'nb': 97542.0, 'equal': 71950, 'precision': 99.99305121256342, 'diff': 5}, 'IMM21-00-X-Morphomes-Swim1-StemSpace.csv': {'missing': 1704, 'recall': 98.16876585135194, 'nb': 93187.0, 'equal': 91348, 'precision': 99.85243159931353, 'diff': 135}, 'IMM21-00-X-Morphomes-Swim2-StemSpace.csv': {'missing': 700, 'recall': 99.24731182795699, 'nb': 93187.0, 'equal': 92300, 'precision': 99.79780942186468, 'diff': 187}, 'IMM21-00-X-Morphomes-Swim2.csv': {'missing': 1233, 'recall': 98.67466382896392, 'nb': 93187.0, 'equal': 91800, 'precision': 99.83252495813124, 'diff': 154}, 'IMM21-02-X-Morphomes-Swim2.csv': {'missing': 6834, 'recall': 92.98695701252988, 'nb': 97542.0, 'equal': 90613, 'precision': 99.88866106664904, 'diff': 101}, 'IMM21-00-X-paradigmes-Swim2-StemSpace.csv': {'missing': 1452, 'recall': 98.43874325283328, 'nb': 93187.0, 'equal': 91550, 'precision': 99.79833215239549, 'diff': 185}, 'IMM21-02-X-paradigmes-Swim2-StemSpace.csv': {'missing': 13052, 'recall': 86.60838873840598, 'nb': 97542.0, 'equal': 84412, 'precision': 99.90768138241212, 'diff': 78}, 'IMM21-00-X-Morphomes-Swim1.csv': {'missing': 3081, 'recall': 96.6896240504561, 'nb': 93187.0, 'equal': 89990, 'precision': 99.871262735001, 'diff': 116}, 'IMM21-00-X-paradigmes-Swim1.csv': {'missing': 5874, 'recall': 93.68780760385997, 'nb': 93187.0, 'equal': 87184, 'precision': 99.85225567784866, 'diff': 129}, 'IMM21-00-X-paradigmes-Swim1-StemSpace.csv': {'missing': 3073, 'recall': 96.69690650729841, 'nb': 93187.0, 'equal': 89961, 'precision': 99.83021506092284, 'diff': 153}, 'IMM21-02-X-Morphomes-Swim1.csv': {'missing': 12986, 'recall': 86.6836206277751, 'nb': 97542.0, 'equal': 84533, 'precision': 99.97279909172619, 'diff': 23}, 'IMM21-00-X-paradigmes-Swim2.csv': {'missing': 2401, 'recall': 97.41897339424885, 'nb': 93187.0, 'equal': 90624, 'precision': 99.82155839006013, 'diff': 162}, 'IMM21-02-X-Morphomes-Swim2-StemSpace.csv': {'missing': 3825, 'recall': 96.07281463685085, 'nb': 97542.0, 'equal': 93573, 'precision': 99.84208448480064, 'diff': 148}, 'IMM21-02-X-paradigmes-Swim2.csv': {'missing': 14969, 'recall': 84.64497466302853, 'nb': 97542.0, 'equal': 82517, 'precision': 99.93218122146465, 'diff': 56}}, 'vlexique-Sampa.csv': {'IMM21-02-X-paradigmes-Swim1-StemSpace.csv': {'missing': 58481, 'recall': 68.5266211365312, 'nb': 186452.0, 'equal': 127330, 'precision': 99.43771964076532, 'diff': 720}, 'IMM21-01-X-paradigmes-Swim1-StemSpace.csv': {'missing': 10360, 'recall': 94.4400616101281, 'nb': 187247.0, 'equal': 175973, 'precision': 99.37485882087192, 'diff': 1107}, 'IMM21-01-X-Morphomes-Swim2.csv': {'missing': 5623, 'recall': 96.9805180857462, 'nb': 187247.0, 'equal': 180601, 'precision': 99.36234595070422, 'diff': 1159}, 'IMM21-00-X-Morphomes-Swim2-StemSpace.csv': {'missing': 8514, 'recall': 94.74616329225624, 'nb': 163493.0, 'equal': 153539, 'precision': 98.96802887714323, 'diff': 1601}, 'IMM21-02-X-paradigmes-Swim2.csv': {'missing': 33495, 'recall': 81.93161037657987, 'nb': 186452.0, 'equal': 151884, 'precision': 99.21676476159992, 'diff': 1199}, 'IMM21-02-X-paradigmes-Swim2-StemSpace.csv': {'missing': 30320, 'recall': 83.63866929282572, 'nb': 186452.0, 'equal': 154995, 'precision': 99.1891822708016, 'diff': 1267}, 'IMM21-02-X-Morphomes-Swim1.csv': {'missing': 33321, 'recall': 82.05712254854447, 'nb': 186452.0, 'equal': 152385, 'precision': 99.40377954194092, 'diff': 914}, 'IMM21-02-X-Morphomes-Swim2-StemSpace.csv': {'missing': 12158, 'recall': 93.42700668760712, 'nb': 186452.0, 'equal': 172811, 'precision': 99.02187739946596, 'diff': 1707}, 'IMM21-01-X-paradigmes-Swim2-StemSpace.csv': {'missing': 7518, 'recall': 95.96388000085898, 'nb': 187247.0, 'equal': 178750, 'precision': 99.34750227873991, 'diff': 1174}, 'IMM21-01-X-paradigmes-Swim2.csv': {'missing': 8572, 'recall': 95.39864621859114, 'nb': 187247.0, 'equal': 177721, 'precision': 99.35763403589199, 'diff': 1149}, 'IMM21-00-X-paradigmes-Swim2.csv': {'missing': 16574, 'recall': 89.78370348453748, 'nb': 163493.0, 'equal': 145657, 'precision': 99.07156752050713, 'diff': 1365}, 'IMM21-01-X-Morphomes-Swim2-StemSpace.csv': {'missing': 5301, 'recall': 97.15466573629263, 'nb': 187247.0, 'equal': 181004, 'precision': 99.35993851896579, 'diff': 1166}, 'IMM21-00-X-Morphomes-Swim1.csv': {'missing': 18364, 'recall': 88.69399791906518, 'nb': 163493.0, 'equal': 144063, 'precision': 99.18142263101369, 'diff': 1189}, 'IMM21-02-X-Morphomes-Swim2.csv': {'missing': 17730, 'recall': 90.42263563881507, 'nb': 186452.0, 'equal': 167394, 'precision': 99.08312271002646, 'diff': 1549}, 'IMM21-01-X-Morphomes-Swim1-StemSpace.csv': {'missing': 7829, 'recall': 95.7991715315934, 'nb': 187247.0, 'equal': 178539, 'precision': 99.38600104652588, 'diff': 1103}, 'IMM21-00-X-Morphomes-Swim1-StemSpace.csv': {'missing': 13167, 'recall': 91.88994419601612, 'nb': 163493.0, 'equal': 149187, 'precision': 99.14206727893779, 'diff': 1291}, 'IMM21-01-X-Morphomes-Swim1.csv': {'missing': 9286, 'recall': 95.01842741957115, 'nb': 187247.0, 'equal': 177121, 'precision': 99.40342567233871, 'diff': 1063}, 'IMM21-01-X-paradigmes-Swim1.csv': {'missing': 13113, 'recall': 92.96448710451061, 'nb': 187247.0, 'equal': 173270, 'precision': 99.3942383809644, 'diff': 1056}, 'IMM21-00-X-Morphomes-Swim2.csv': {'missing': 10934, 'recall': 93.25594591927367, 'nb': 163493.0, 'equal': 151194, 'precision': 99.02412826491316, 'diff': 1490}, 'IMM21-00-X-paradigmes-Swim1.csv': {'missing': 29366, 'recall': 81.92572350037544, 'nb': 163493.0, 'equal': 133108, 'precision': 99.16929289317032, 'diff': 1115}, 'IMM21-00-X-paradigmes-Max.csv': {'missing': 8943, 'recall': 94.40376961778179, 'nb': 163493.0, 'equal': 150861, 'precision': 97.49321442419543, 'diff': 3879}, 'IMM21-02-X-Morphomes-Swim1-StemSpace.csv': {'missing': 21313, 'recall': 88.5082199684034, 'nb': 186452.0, 'equal': 164150, 'precision': 99.30789986327392, 'diff': 1144}, 'IMM21-02-X-paradigmes-Swim1.csv': {'missing': 65119, 'recall': 64.96624075319434, 'nb': 186452.0, 'equal': 120756, 'precision': 99.46296784396415, 'diff': 652}, 'IMM21-00-X-paradigmes-Swim2-StemSpace.csv': {'missing': 14781, 'recall': 90.88492846571287, 'nb': 163493.0, 'equal': 147379, 'precision': 99.03304707763846, 'diff': 1439}, 'IMM21-00-X-paradigmes-Swim1-StemSpace.csv': {'missing': 24127, 'recall': 85.13972123504087, 'nb': 163493.0, 'equal': 138232, 'precision': 99.11448586403952, 'diff': 1235}, 'IMM21-00-X-paradigmes-InterMax.csv': {'missing': 96300, 'recall': 40.439007193087704, 'nb': 163493.0, 'equal': 65383, 'precision': 97.04485409802001, 'diff': 1991}}}}\n"
     ]
    }
   ],
   "source": [
    "%store -r resultats\n",
    "lResultats=resultats[typeResults]\n",
    "nControl=fControl.split(\"/\")[-1]\n",
    "if nControl not in lResultats:\n",
    "    lResultats[nControl]={}\n",
    "nSwim=fSwim.split(\"/\")[-1]\n",
    "if nSwim not in lResultats[nControl]:\n",
    "    lResultats[nControl][nSwim]={}\n",
    "lRes=lResultats[nControl][nSwim]\n",
    "lRes[\"nb\"]=nbForms\n",
    "lRes[\"equal\"]=nbEqualCorr\n",
    "lRes[\"missing\"]=nbMissingCorr\n",
    "lRes[\"diff\"]=nbDifferentCorr\n",
    "lRes[\"precision\"]=float(nbEqualCorr)/(nbEqualCorr+nbDifferentCorr)*100\n",
    "lRes[\"recall\"]=float(nbEqualCorr)/(nbEqualCorr+nbMissingCorr)*100\n",
    "\n",
    "\n",
    "print typeResults,nSwim,\"vs\",nControl\n",
    "print \"formes identiques :\",nbEqualCorr,\"=> %2.1f%%\"%round(nbEqualCorr/nbForms*100,1)\n",
    "print \"formes manquantes :\",nbMissingCorr,\"=> %2.1f%%\"%round(nbMissingCorr/nbForms*100,1)\n",
    "print \"formes différentes :\",nbDifferentCorr,\"=> %2.1f%%\"%round(nbDifferentCorr/nbForms*100,1)\n",
    "print \"précision : %2.1f%%\"%(float(nbEqualCorr)/(nbEqualCorr+nbDifferentCorr)*100)\n",
    "print \"rappel : %2.1f%%\"%(float(nbEqualCorr)/(nbEqualCorr+nbMissingCorr)*100)\n",
    "\n",
    "print resultats"
   ]
  },
  {
   "cell_type": "code",
   "execution_count": 168,
   "id": "64b70280-1761-4475-9fd9-ea077273d514",
   "metadata": {
    "tags": []
   },
   "outputs": [
    {
     "name": "stdout",
     "output_type": "stream",
     "text": [
      "Stored 'resultats' (dict)\n"
     ]
    }
   ],
   "source": [
    "%store resultats"
   ]
  },
  {
   "cell_type": "markdown",
   "id": "ba38322b-7422-438d-bbbe-50a4ab974a9c",
   "metadata": {},
   "source": [
    "# Fin"
   ]
  },
  {
   "cell_type": "code",
   "execution_count": 178,
   "id": "40150eab-aad3-4fbe-80ad-6e6932f3de89",
   "metadata": {},
   "outputs": [
    {
     "data": {
      "text/html": [
       "<div>\n",
       "<style scoped>\n",
       "    .dataframe tbody tr th:only-of-type {\n",
       "        vertical-align: middle;\n",
       "    }\n",
       "\n",
       "    .dataframe tbody tr th {\n",
       "        vertical-align: top;\n",
       "    }\n",
       "\n",
       "    .dataframe thead th {\n",
       "        text-align: right;\n",
       "    }\n",
       "</style>\n",
       "<table border=\"1\" class=\"dataframe\">\n",
       "  <thead>\n",
       "    <tr style=\"text-align: right;\">\n",
       "      <th></th>\n",
       "      <th>diff</th>\n",
       "      <th>equal</th>\n",
       "      <th>missing</th>\n",
       "      <th>nb</th>\n",
       "      <th>precision</th>\n",
       "      <th>recall</th>\n",
       "    </tr>\n",
       "  </thead>\n",
       "  <tbody>\n",
       "    <tr>\n",
       "      <th>IMM21-00-X-Morphomes-Swim1-StemSpace.csv</th>\n",
       "      <td>1291.0</td>\n",
       "      <td>149187.0</td>\n",
       "      <td>13167.0</td>\n",
       "      <td>163493.0</td>\n",
       "      <td>99.142067</td>\n",
       "      <td>91.889944</td>\n",
       "    </tr>\n",
       "    <tr>\n",
       "      <th>IMM21-00-X-Morphomes-Swim1.csv</th>\n",
       "      <td>1189.0</td>\n",
       "      <td>144063.0</td>\n",
       "      <td>18364.0</td>\n",
       "      <td>163493.0</td>\n",
       "      <td>99.181423</td>\n",
       "      <td>88.693998</td>\n",
       "    </tr>\n",
       "    <tr>\n",
       "      <th>IMM21-00-X-Morphomes-Swim2-StemSpace.csv</th>\n",
       "      <td>1601.0</td>\n",
       "      <td>153539.0</td>\n",
       "      <td>8514.0</td>\n",
       "      <td>163493.0</td>\n",
       "      <td>98.968029</td>\n",
       "      <td>94.746163</td>\n",
       "    </tr>\n",
       "    <tr>\n",
       "      <th>IMM21-00-X-Morphomes-Swim2.csv</th>\n",
       "      <td>1490.0</td>\n",
       "      <td>151194.0</td>\n",
       "      <td>10934.0</td>\n",
       "      <td>163493.0</td>\n",
       "      <td>99.024128</td>\n",
       "      <td>93.255946</td>\n",
       "    </tr>\n",
       "    <tr>\n",
       "      <th>IMM21-00-X-paradigmes-InterMax.csv</th>\n",
       "      <td>1991.0</td>\n",
       "      <td>65383.0</td>\n",
       "      <td>96300.0</td>\n",
       "      <td>163493.0</td>\n",
       "      <td>97.044854</td>\n",
       "      <td>40.439007</td>\n",
       "    </tr>\n",
       "    <tr>\n",
       "      <th>IMM21-00-X-paradigmes-Max.csv</th>\n",
       "      <td>3879.0</td>\n",
       "      <td>150861.0</td>\n",
       "      <td>8943.0</td>\n",
       "      <td>163493.0</td>\n",
       "      <td>97.493214</td>\n",
       "      <td>94.403770</td>\n",
       "    </tr>\n",
       "    <tr>\n",
       "      <th>IMM21-00-X-paradigmes-Swim1-StemSpace.csv</th>\n",
       "      <td>1235.0</td>\n",
       "      <td>138232.0</td>\n",
       "      <td>24127.0</td>\n",
       "      <td>163493.0</td>\n",
       "      <td>99.114486</td>\n",
       "      <td>85.139721</td>\n",
       "    </tr>\n",
       "    <tr>\n",
       "      <th>IMM21-00-X-paradigmes-Swim1.csv</th>\n",
       "      <td>1115.0</td>\n",
       "      <td>133108.0</td>\n",
       "      <td>29366.0</td>\n",
       "      <td>163493.0</td>\n",
       "      <td>99.169293</td>\n",
       "      <td>81.925724</td>\n",
       "    </tr>\n",
       "    <tr>\n",
       "      <th>IMM21-00-X-paradigmes-Swim2-StemSpace.csv</th>\n",
       "      <td>1439.0</td>\n",
       "      <td>147379.0</td>\n",
       "      <td>14781.0</td>\n",
       "      <td>163493.0</td>\n",
       "      <td>99.033047</td>\n",
       "      <td>90.884928</td>\n",
       "    </tr>\n",
       "    <tr>\n",
       "      <th>IMM21-00-X-paradigmes-Swim2.csv</th>\n",
       "      <td>1365.0</td>\n",
       "      <td>145657.0</td>\n",
       "      <td>16574.0</td>\n",
       "      <td>163493.0</td>\n",
       "      <td>99.071568</td>\n",
       "      <td>89.783703</td>\n",
       "    </tr>\n",
       "    <tr>\n",
       "      <th>IMM21-01-X-Morphomes-Swim1-StemSpace.csv</th>\n",
       "      <td>1103.0</td>\n",
       "      <td>178539.0</td>\n",
       "      <td>7829.0</td>\n",
       "      <td>187247.0</td>\n",
       "      <td>99.386001</td>\n",
       "      <td>95.799172</td>\n",
       "    </tr>\n",
       "    <tr>\n",
       "      <th>IMM21-01-X-Morphomes-Swim1.csv</th>\n",
       "      <td>1063.0</td>\n",
       "      <td>177121.0</td>\n",
       "      <td>9286.0</td>\n",
       "      <td>187247.0</td>\n",
       "      <td>99.403426</td>\n",
       "      <td>95.018427</td>\n",
       "    </tr>\n",
       "    <tr>\n",
       "      <th>IMM21-01-X-Morphomes-Swim2-StemSpace.csv</th>\n",
       "      <td>1166.0</td>\n",
       "      <td>181004.0</td>\n",
       "      <td>5301.0</td>\n",
       "      <td>187247.0</td>\n",
       "      <td>99.359939</td>\n",
       "      <td>97.154666</td>\n",
       "    </tr>\n",
       "    <tr>\n",
       "      <th>IMM21-01-X-Morphomes-Swim2.csv</th>\n",
       "      <td>1159.0</td>\n",
       "      <td>180601.0</td>\n",
       "      <td>5623.0</td>\n",
       "      <td>187247.0</td>\n",
       "      <td>99.362346</td>\n",
       "      <td>96.980518</td>\n",
       "    </tr>\n",
       "    <tr>\n",
       "      <th>IMM21-01-X-paradigmes-Swim1-StemSpace.csv</th>\n",
       "      <td>1107.0</td>\n",
       "      <td>175973.0</td>\n",
       "      <td>10360.0</td>\n",
       "      <td>187247.0</td>\n",
       "      <td>99.374859</td>\n",
       "      <td>94.440062</td>\n",
       "    </tr>\n",
       "    <tr>\n",
       "      <th>IMM21-01-X-paradigmes-Swim1.csv</th>\n",
       "      <td>1056.0</td>\n",
       "      <td>173270.0</td>\n",
       "      <td>13113.0</td>\n",
       "      <td>187247.0</td>\n",
       "      <td>99.394238</td>\n",
       "      <td>92.964487</td>\n",
       "    </tr>\n",
       "    <tr>\n",
       "      <th>IMM21-01-X-paradigmes-Swim2-StemSpace.csv</th>\n",
       "      <td>1174.0</td>\n",
       "      <td>178750.0</td>\n",
       "      <td>7518.0</td>\n",
       "      <td>187247.0</td>\n",
       "      <td>99.347502</td>\n",
       "      <td>95.963880</td>\n",
       "    </tr>\n",
       "    <tr>\n",
       "      <th>IMM21-01-X-paradigmes-Swim2.csv</th>\n",
       "      <td>1149.0</td>\n",
       "      <td>177721.0</td>\n",
       "      <td>8572.0</td>\n",
       "      <td>187247.0</td>\n",
       "      <td>99.357634</td>\n",
       "      <td>95.398646</td>\n",
       "    </tr>\n",
       "    <tr>\n",
       "      <th>IMM21-02-X-Morphomes-Swim1-StemSpace.csv</th>\n",
       "      <td>1144.0</td>\n",
       "      <td>164150.0</td>\n",
       "      <td>21313.0</td>\n",
       "      <td>186452.0</td>\n",
       "      <td>99.307900</td>\n",
       "      <td>88.508220</td>\n",
       "    </tr>\n",
       "    <tr>\n",
       "      <th>IMM21-02-X-Morphomes-Swim1.csv</th>\n",
       "      <td>914.0</td>\n",
       "      <td>152385.0</td>\n",
       "      <td>33321.0</td>\n",
       "      <td>186452.0</td>\n",
       "      <td>99.403780</td>\n",
       "      <td>82.057123</td>\n",
       "    </tr>\n",
       "    <tr>\n",
       "      <th>IMM21-02-X-Morphomes-Swim2-StemSpace.csv</th>\n",
       "      <td>1707.0</td>\n",
       "      <td>172811.0</td>\n",
       "      <td>12158.0</td>\n",
       "      <td>186452.0</td>\n",
       "      <td>99.021877</td>\n",
       "      <td>93.427007</td>\n",
       "    </tr>\n",
       "    <tr>\n",
       "      <th>IMM21-02-X-Morphomes-Swim2.csv</th>\n",
       "      <td>1549.0</td>\n",
       "      <td>167394.0</td>\n",
       "      <td>17730.0</td>\n",
       "      <td>186452.0</td>\n",
       "      <td>99.083123</td>\n",
       "      <td>90.422636</td>\n",
       "    </tr>\n",
       "    <tr>\n",
       "      <th>IMM21-02-X-paradigmes-Swim1-StemSpace.csv</th>\n",
       "      <td>720.0</td>\n",
       "      <td>127330.0</td>\n",
       "      <td>58481.0</td>\n",
       "      <td>186452.0</td>\n",
       "      <td>99.437720</td>\n",
       "      <td>68.526621</td>\n",
       "    </tr>\n",
       "    <tr>\n",
       "      <th>IMM21-02-X-paradigmes-Swim1.csv</th>\n",
       "      <td>652.0</td>\n",
       "      <td>120756.0</td>\n",
       "      <td>65119.0</td>\n",
       "      <td>186452.0</td>\n",
       "      <td>99.462968</td>\n",
       "      <td>64.966241</td>\n",
       "    </tr>\n",
       "    <tr>\n",
       "      <th>IMM21-02-X-paradigmes-Swim2-StemSpace.csv</th>\n",
       "      <td>1267.0</td>\n",
       "      <td>154995.0</td>\n",
       "      <td>30320.0</td>\n",
       "      <td>186452.0</td>\n",
       "      <td>99.189182</td>\n",
       "      <td>83.638669</td>\n",
       "    </tr>\n",
       "    <tr>\n",
       "      <th>IMM21-02-X-paradigmes-Swim2.csv</th>\n",
       "      <td>1199.0</td>\n",
       "      <td>151884.0</td>\n",
       "      <td>33495.0</td>\n",
       "      <td>186452.0</td>\n",
       "      <td>99.216765</td>\n",
       "      <td>81.931610</td>\n",
       "    </tr>\n",
       "  </tbody>\n",
       "</table>\n",
       "</div>"
      ],
      "text/plain": [
       "                                             diff     equal  missing  \\\n",
       "IMM21-00-X-Morphomes-Swim1-StemSpace.csv   1291.0  149187.0  13167.0   \n",
       "IMM21-00-X-Morphomes-Swim1.csv             1189.0  144063.0  18364.0   \n",
       "IMM21-00-X-Morphomes-Swim2-StemSpace.csv   1601.0  153539.0   8514.0   \n",
       "IMM21-00-X-Morphomes-Swim2.csv             1490.0  151194.0  10934.0   \n",
       "IMM21-00-X-paradigmes-InterMax.csv         1991.0   65383.0  96300.0   \n",
       "IMM21-00-X-paradigmes-Max.csv              3879.0  150861.0   8943.0   \n",
       "IMM21-00-X-paradigmes-Swim1-StemSpace.csv  1235.0  138232.0  24127.0   \n",
       "IMM21-00-X-paradigmes-Swim1.csv            1115.0  133108.0  29366.0   \n",
       "IMM21-00-X-paradigmes-Swim2-StemSpace.csv  1439.0  147379.0  14781.0   \n",
       "IMM21-00-X-paradigmes-Swim2.csv            1365.0  145657.0  16574.0   \n",
       "IMM21-01-X-Morphomes-Swim1-StemSpace.csv   1103.0  178539.0   7829.0   \n",
       "IMM21-01-X-Morphomes-Swim1.csv             1063.0  177121.0   9286.0   \n",
       "IMM21-01-X-Morphomes-Swim2-StemSpace.csv   1166.0  181004.0   5301.0   \n",
       "IMM21-01-X-Morphomes-Swim2.csv             1159.0  180601.0   5623.0   \n",
       "IMM21-01-X-paradigmes-Swim1-StemSpace.csv  1107.0  175973.0  10360.0   \n",
       "IMM21-01-X-paradigmes-Swim1.csv            1056.0  173270.0  13113.0   \n",
       "IMM21-01-X-paradigmes-Swim2-StemSpace.csv  1174.0  178750.0   7518.0   \n",
       "IMM21-01-X-paradigmes-Swim2.csv            1149.0  177721.0   8572.0   \n",
       "IMM21-02-X-Morphomes-Swim1-StemSpace.csv   1144.0  164150.0  21313.0   \n",
       "IMM21-02-X-Morphomes-Swim1.csv              914.0  152385.0  33321.0   \n",
       "IMM21-02-X-Morphomes-Swim2-StemSpace.csv   1707.0  172811.0  12158.0   \n",
       "IMM21-02-X-Morphomes-Swim2.csv             1549.0  167394.0  17730.0   \n",
       "IMM21-02-X-paradigmes-Swim1-StemSpace.csv   720.0  127330.0  58481.0   \n",
       "IMM21-02-X-paradigmes-Swim1.csv             652.0  120756.0  65119.0   \n",
       "IMM21-02-X-paradigmes-Swim2-StemSpace.csv  1267.0  154995.0  30320.0   \n",
       "IMM21-02-X-paradigmes-Swim2.csv            1199.0  151884.0  33495.0   \n",
       "\n",
       "                                                 nb  precision     recall  \n",
       "IMM21-00-X-Morphomes-Swim1-StemSpace.csv   163493.0  99.142067  91.889944  \n",
       "IMM21-00-X-Morphomes-Swim1.csv             163493.0  99.181423  88.693998  \n",
       "IMM21-00-X-Morphomes-Swim2-StemSpace.csv   163493.0  98.968029  94.746163  \n",
       "IMM21-00-X-Morphomes-Swim2.csv             163493.0  99.024128  93.255946  \n",
       "IMM21-00-X-paradigmes-InterMax.csv         163493.0  97.044854  40.439007  \n",
       "IMM21-00-X-paradigmes-Max.csv              163493.0  97.493214  94.403770  \n",
       "IMM21-00-X-paradigmes-Swim1-StemSpace.csv  163493.0  99.114486  85.139721  \n",
       "IMM21-00-X-paradigmes-Swim1.csv            163493.0  99.169293  81.925724  \n",
       "IMM21-00-X-paradigmes-Swim2-StemSpace.csv  163493.0  99.033047  90.884928  \n",
       "IMM21-00-X-paradigmes-Swim2.csv            163493.0  99.071568  89.783703  \n",
       "IMM21-01-X-Morphomes-Swim1-StemSpace.csv   187247.0  99.386001  95.799172  \n",
       "IMM21-01-X-Morphomes-Swim1.csv             187247.0  99.403426  95.018427  \n",
       "IMM21-01-X-Morphomes-Swim2-StemSpace.csv   187247.0  99.359939  97.154666  \n",
       "IMM21-01-X-Morphomes-Swim2.csv             187247.0  99.362346  96.980518  \n",
       "IMM21-01-X-paradigmes-Swim1-StemSpace.csv  187247.0  99.374859  94.440062  \n",
       "IMM21-01-X-paradigmes-Swim1.csv            187247.0  99.394238  92.964487  \n",
       "IMM21-01-X-paradigmes-Swim2-StemSpace.csv  187247.0  99.347502  95.963880  \n",
       "IMM21-01-X-paradigmes-Swim2.csv            187247.0  99.357634  95.398646  \n",
       "IMM21-02-X-Morphomes-Swim1-StemSpace.csv   186452.0  99.307900  88.508220  \n",
       "IMM21-02-X-Morphomes-Swim1.csv             186452.0  99.403780  82.057123  \n",
       "IMM21-02-X-Morphomes-Swim2-StemSpace.csv   186452.0  99.021877  93.427007  \n",
       "IMM21-02-X-Morphomes-Swim2.csv             186452.0  99.083123  90.422636  \n",
       "IMM21-02-X-paradigmes-Swim1-StemSpace.csv  186452.0  99.437720  68.526621  \n",
       "IMM21-02-X-paradigmes-Swim1.csv            186452.0  99.462968  64.966241  \n",
       "IMM21-02-X-paradigmes-Swim2-StemSpace.csv  186452.0  99.189182  83.638669  \n",
       "IMM21-02-X-paradigmes-Swim2.csv            186452.0  99.216765  81.931610  "
      ]
     },
     "execution_count": 178,
     "metadata": {},
     "output_type": "execute_result"
    }
   ],
   "source": [
    "pd.DataFrame(resultats[\"Principaux\"][\"vlexique-Sampa.csv\"]).T#.to_csv(repIMM21+\"ComparaisonsPrincipales.csv\",sep=\"\\t\")"
   ]
  }
 ],
 "metadata": {
  "kernelspec": {
   "display_name": "Python 2.7",
   "language": "python",
   "name": "py2"
  },
  "language_info": {
   "codemirror_mode": {
    "name": "ipython",
    "version": 2
   },
   "file_extension": ".py",
   "mimetype": "text/x-python",
   "name": "python",
   "nbconvert_exporter": "python",
   "pygments_lexer": "ipython2",
   "version": "2.7.16"
  }
 },
 "nbformat": 4,
 "nbformat_minor": 5
}
