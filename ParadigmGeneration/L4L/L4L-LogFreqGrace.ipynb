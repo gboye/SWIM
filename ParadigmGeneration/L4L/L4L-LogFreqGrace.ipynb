{
 "cells": [
  {
   "cell_type": "markdown",
   "id": "82b417db-1063-44eb-b877-6ae2f9db3a6b",
   "metadata": {},
   "source": [
    "# logs de fréquences de L4L et infogram vers Grace"
   ]
  },
  {
   "cell_type": "code",
   "execution_count": 65,
   "id": "4e2b6546-5e95-4d7f-a6c1-78705238c5ae",
   "metadata": {},
   "outputs": [],
   "source": [
    "import pandas as pd\n",
    "import numpy as np\n",
    "import re,pyperclip,math"
   ]
  },
  {
   "cell_type": "code",
   "execution_count": 1,
   "id": "db8cff82-f927-4ca1-978b-f59f2bc74d54",
   "metadata": {},
   "outputs": [],
   "source": [
    "repL4L=\"/Users/gilles/ownCloud/Recherche/Boye/HDR/Data/L4L/\"\n",
    "repIMM21=repL4L+\"IMM21/\""
   ]
  },
  {
   "cell_type": "code",
   "execution_count": null,
   "id": "147f9442-9a6e-458c-9800-7d8162a6a615",
   "metadata": {},
   "outputs": [],
   "source": [
    "fL4L=\"Lexique4linguists_MOT_VER.tsv\"\n",
    "dfL4L=pd.read_csv(repL4L+fL4L,sep=\"\\t\",encoding=\"utf8\")"
   ]
  },
  {
   "cell_type": "code",
   "execution_count": 16,
   "id": "d0fc2819-172e-47ea-bbf7-8ccb76697bb4",
   "metadata": {},
   "outputs": [],
   "source": [
    "cols=pd.unique(dfL4L.INFOGRAM).tolist()"
   ]
  },
  {
   "cell_type": "code",
   "execution_count": 47,
   "id": "18c26546-8e24-44de-bd3c-d27aad32c6ed",
   "metadata": {},
   "outputs": [
    {
     "data": {
      "text/plain": [
       "{u'cnd:pre:1p': u'pc1P',\n",
       " u'cnd:pre:1s': u'pc1S',\n",
       " u'cnd:pre:2p': u'pc2P',\n",
       " u'cnd:pre:2s': u'pc2S',\n",
       " u'cnd:pre:3p': u'pc3P',\n",
       " u'cnd:pre:3s': u'pc3S',\n",
       " u'imp:pre:1p': u'pI1P',\n",
       " u'imp:pre:2p': u'pI2P',\n",
       " u'imp:pre:2s': u'pI2S',\n",
       " u'imp:pre:3s': u'pI3S',\n",
       " u'ind:fut:1p': u'fi1P',\n",
       " u'ind:fut:1s': u'fi1S',\n",
       " u'ind:fut:2p': u'fi2P',\n",
       " u'ind:fut:2s': u'fi2S',\n",
       " u'ind:fut:3p': u'fi3P',\n",
       " u'ind:fut:3s': u'fi3S',\n",
       " u'ind:imp:1p': u'ii1P',\n",
       " u'ind:imp:1s': u'ii1S',\n",
       " u'ind:imp:2p': u'ii2P',\n",
       " u'ind:imp:2s': u'ii2S',\n",
       " u'ind:imp:3p': u'ii3P',\n",
       " u'ind:imp:3s': u'ii3S',\n",
       " u'ind:pas:1p': u'ai1P',\n",
       " u'ind:pas:1s': u'ai1S',\n",
       " u'ind:pas:2p': u'ai2P',\n",
       " u'ind:pas:2s': u'ai2S',\n",
       " u'ind:pas:3p': u'ai3P',\n",
       " u'ind:pas:3s': u'ai3S',\n",
       " u'ind:pre:1p': u'pi1P',\n",
       " u'ind:pre:1s': u'pi1S',\n",
       " u'ind:pre:2p': u'pi2P',\n",
       " u'ind:pre:2s': u'pi2S',\n",
       " u'ind:pre:3p': u'pi3P',\n",
       " u'ind:pre:3s': u'pi3S',\n",
       " 'inf': 'inf',\n",
       " u'par:pas:fp': u'ppFP',\n",
       " u'par:pas:fs': u'ppFS',\n",
       " u'par:pas:mp': u'ppMP',\n",
       " u'par:pas:ms': u'ppMS',\n",
       " 'par:pre': 'pP',\n",
       " u'sub:imp:1p': u'is1P',\n",
       " u'sub:imp:1s': u'is1S',\n",
       " u'sub:imp:2p': u'is2P',\n",
       " u'sub:imp:2s': u'is2S',\n",
       " u'sub:imp:3p': u'is3P',\n",
       " u'sub:imp:3s': u'is3S',\n",
       " u'sub:pre:1p': u'ps1P',\n",
       " u'sub:pre:1s': u'ps1S',\n",
       " u'sub:pre:2p': u'ps2P',\n",
       " u'sub:pre:2s': u'ps2S',\n",
       " u'sub:pre:3p': u'ps3P',\n",
       " u'sub:pre:3s': u'ps3S'}"
      ]
     },
     "execution_count": 47,
     "metadata": {},
     "output_type": "execute_result"
    }
   ],
   "source": [
    "wMap={}\n",
    "mapT={\"ind:fut:\":\"fi\",\"cnd:pre:\":\"pc\",\"ind:pas:\":\"ai\",\"ind:pre:\":\"pi\",\"ind:imp:\":\"ii\",\"imp:pre:\":\"pI\",\"sub:pre:\":\"ps\",\"sub:imp:\":\"is\",\"par:pas:\":\"pp\"}\n",
    "mapCols={c:c for c in cols}\n",
    "for c in mapCols:\n",
    "    if c==c:\n",
    "        # print c, [mapCols[c]]\n",
    "        m=re.match(ur\"^(.*:)([\\dmf][ps])$\",mapCols[c])\n",
    "        if m:\n",
    "            if m.group(1) in mapT:\n",
    "                mapCols[c]=mapT[m.group(1)]+m.group(2).upper()\n",
    "                gMap[c]=mapT[m.group(1)]+m.group(2).upper()\n",
    "            else:\n",
    "                wMap[c]=mapCols[c]\n",
    "        else:\n",
    "            wMap[c]=mapCols[c]\n",
    "gMap[\"inf\"]=\"inf\"\n",
    "gMap[\"par:pre\"]=\"pP\"\n",
    "del wMap[\"inf\"]\n",
    "del wMap[\"par:pre\"]\n",
    "gMap"
   ]
  },
  {
   "cell_type": "code",
   "execution_count": 52,
   "id": "21d231f3-6b97-4d18-9955-72bb18492048",
   "metadata": {},
   "outputs": [],
   "source": [
    "dfL4L[dfL4L.INFOGRAM.isin(wMap)].to_excel(repL4L+\"L4L-PB-Infogram.xlsx\")"
   ]
  },
  {
   "cell_type": "code",
   "execution_count": 59,
   "id": "0b7529fa-b0f6-4b0f-b6fb-e13b13fd5b99",
   "metadata": {},
   "outputs": [],
   "source": [
    "dfIMM21=dfL4L[dfL4L.INFOGRAM.isin(gMap)].reset_index()\n",
    "del dfIMM21[\"index\"]"
   ]
  },
  {
   "cell_type": "code",
   "execution_count": 75,
   "id": "841d1a0f-e6b0-4dff-b8b4-c443f8b5ddc9",
   "metadata": {},
   "outputs": [],
   "source": [
    "dfIMM21[\"grace\"]=dfIMM21.INFOGRAM.apply(lambda x: gMap[x])\n",
    "dfIMM21[\"log\"]=dfIMM21.FREQUENCE.apply(lambda x: math.log(x+1,10))"
   ]
  },
  {
   "cell_type": "code",
   "execution_count": 83,
   "id": "c97d25ff-4a34-4c43-94f9-017cb8950c66",
   "metadata": {},
   "outputs": [],
   "source": [
    "dfOut=dfIMM21[\"LEMME grace FREQUENCE log\".split(\" \")]\n",
    "dfOut.columns=\"lemme infover freq freqlog\".split(\" \")\n",
    "dfOut.to_excel(repIMM21+\"L4L-Frequences.xlsx\")"
   ]
  }
 ],
 "metadata": {
  "kernelspec": {
   "display_name": "Python 2.7",
   "language": "python",
   "name": "py2"
  },
  "language_info": {
   "codemirror_mode": {
    "name": "ipython",
    "version": 2
   },
   "file_extension": ".py",
   "mimetype": "text/x-python",
   "name": "python",
   "nbconvert_exporter": "python",
   "pygments_lexer": "ipython2",
   "version": "2.7.16"
  }
 },
 "nbformat": 4,
 "nbformat_minor": 5
}
