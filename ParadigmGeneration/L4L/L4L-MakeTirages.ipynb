{
 "cells": [
  {
   "cell_type": "code",
   "execution_count": 17,
   "id": "90466c14-a90a-4883-9faa-8f677e5fd70c",
   "metadata": {},
   "outputs": [],
   "source": [
    "import glob\n",
    "import pandas as pd"
   ]
  },
  {
   "cell_type": "code",
   "execution_count": 18,
   "id": "ea73f8ea-b762-46bd-936c-381b4b40a8c4",
   "metadata": {},
   "outputs": [],
   "source": [
    "listeTirages=glob.glob(\"/Volumes/BroadExt/ownCloud/Recherche/Boye/HDR/Data/Longitudinales/Longitudinal*00*F3663.pkl\")"
   ]
  },
  {
   "cell_type": "code",
   "execution_count": 19,
   "id": "9e5804ed-1092-4bdd-a577-49f58ce67e12",
   "metadata": {},
   "outputs": [],
   "source": [
    "dfExemple=pd.read_pickle(listeTirages[0])\n",
    "colsTirages=dfExemple.columns.tolist()"
   ]
  },
  {
   "cell_type": "code",
   "execution_count": 20,
   "id": "68506324-fa42-4b88-a7bd-699e534773ce",
   "metadata": {},
   "outputs": [],
   "source": [
    "repL4L=\"/Users/gilles/ownCloud/Recherche/Boye/HDR/Data/L4L/\"\n",
    "fL4L=\"L4L-paradigmes.csv\"\n",
    "df=pd.read_csv(repL4L+fL4L,sep=\";\",encoding=\"utf8\")\n",
    "cols=df.columns.tolist()[2:]\n",
    "# cols"
   ]
  },
  {
   "cell_type": "code",
   "execution_count": 21,
   "id": "968e80cc-9c36-458a-a9db-9b427c8ae633",
   "metadata": {},
   "outputs": [],
   "source": [
    "def makeTuples(row):\n",
    "    for c in cols:\n",
    "        if row[c]==row[c]:\n",
    "            if \",\" in row[c]:\n",
    "                for overab in row[c].split(\",\"):\n",
    "                    tuples.append((row[\"lexeme\"],overab,row[\"lexeme\"],1,c,1,1))\n",
    "            else:\n",
    "                tuples.append((row[\"lexeme\"],row[c],row[\"lexeme\"],1,c,1,1))\n",
    "    return"
   ]
  },
  {
   "cell_type": "code",
   "execution_count": 22,
   "id": "cd4bd6b0-6593-4a7e-86cc-c8ab7f4c3ee3",
   "metadata": {},
   "outputs": [],
   "source": [
    "tuples=[]\n",
    "_=df.apply(makeTuples,axis=1)\n",
    "# tuples"
   ]
  },
  {
   "cell_type": "code",
   "execution_count": 23,
   "id": "0d126946-8ff3-4f0f-bd51-89297962f565",
   "metadata": {},
   "outputs": [],
   "source": [
    "dfTirages=pd.DataFrame(tuples, columns=colsTirages)"
   ]
  },
  {
   "cell_type": "code",
   "execution_count": 24,
   "id": "6e60cf6a-fa4e-4937-abb2-31a62400c8e7",
   "metadata": {},
   "outputs": [],
   "source": [
    "dfTirages.to_pickle(repL4L+fL4L.replace(\".csv\",\".pkl\"))"
   ]
  }
 ],
 "metadata": {
  "kernelspec": {
   "display_name": "Python 2.7",
   "language": "python",
   "name": "py2"
  },
  "language_info": {
   "codemirror_mode": {
    "name": "ipython",
    "version": 2
   },
   "file_extension": ".py",
   "mimetype": "text/x-python",
   "name": "python",
   "nbconvert_exporter": "python",
   "pygments_lexer": "ipython2",
   "version": "2.7.16"
  }
 },
 "nbformat": 4,
 "nbformat_minor": 5
}
