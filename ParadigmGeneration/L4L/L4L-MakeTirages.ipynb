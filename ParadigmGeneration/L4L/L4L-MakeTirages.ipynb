{
 "cells": [
  {
   "cell_type": "markdown",
   "id": "23680585-bdeb-474a-a114-903c470bb4fe",
   "metadata": {},
   "source": [
    "# Faire les fichiers de tirages.pkl\n",
    "\n",
    "Ce script fabrique un fichier de tirage PKL à partir de paradigmes CSV. Il donne à chaque forme une fréquence et un nombre de tirages de 1 pour qu'elle soit prise en compte par Swim. La fréquence réelle n'est gérée ni en entrée ni en sortie.\n",
    "\n",
    "Les colonnes des fichiers tirages sont différentes pour les fichiers de *paradigmes* morphosyntaxiques et de *morphomes* :\n",
    "- paradigmes :\n",
    "    - ortho\n",
    "    - phono\n",
    "    - lexeme\n",
    "    - freq\n",
    "    - case\n",
    "    - freqcum\n",
    "    - tir1\n",
    "\n",
    "- morphomes : \n",
    "    - lexeme\n",
    "    - phono\n",
    "    - case\n",
    "    - morphome\n",
    "    - freq\n",
    "    - tir1"
   ]
  },
  {
   "cell_type": "code",
   "execution_count": 1,
   "id": "90466c14-a90a-4883-9faa-8f677e5fd70c",
   "metadata": {},
   "outputs": [],
   "source": [
    "import glob,yaml\n",
    "import pandas as pd"
   ]
  },
  {
   "cell_type": "code",
   "execution_count": 2,
   "id": "ea73f8ea-b762-46bd-936c-381b4b40a8c4",
   "metadata": {},
   "outputs": [],
   "source": [
    "listeTirages=glob.glob(\"/Volumes/BroadExt/ownCloud/Recherche/Boye/HDR/Data/Longitudinales/Longitudinal*00*F3663.pkl\")\n",
    "listeTiragesMorphomes=glob.glob(\"/Volumes/BroadExt/ownCloud/Recherche/Boye/HDR/Data/Longitudinales/Longitudinal*00*F3663*Morphomes.pkl\")"
   ]
  },
  {
   "cell_type": "raw",
   "id": "7e3fb168-57a2-4b84-b1a4-f67742633e74",
   "metadata": {},
   "source": [
    "dfExemple=pd.read_pickle(listeTirages[0])\n",
    "colsTirages=dfExemple.columns.tolist()\n",
    "colsTirages"
   ]
  },
  {
   "cell_type": "code",
   "execution_count": 3,
   "id": "d26d410f-5d32-4622-87a8-07a3dccc625f",
   "metadata": {},
   "outputs": [],
   "source": [
    "repL4L=\"/Users/gilles/ownCloud/Recherche/Boye/HDR/Data/L4L/\"\n",
    "fL4L=\"L4L-paradigmes-tail-omp-sampa.csv\""
   ]
  },
  {
   "cell_type": "code",
   "execution_count": 4,
   "id": "8a79d883-cf8b-460c-bc5e-ed9c4f2a1a35",
   "metadata": {
    "tags": []
   },
   "outputs": [],
   "source": [
    "df=pd.read_csv(repL4L+fL4L,sep=\";\",encoding=\"utf8\")\n",
    "cols=df.columns.tolist()[2:]"
   ]
  },
  {
   "cell_type": "code",
   "execution_count": 5,
   "id": "360fc30f-6ebc-4b2f-ba6d-71afa51d0fc1",
   "metadata": {},
   "outputs": [],
   "source": [
    "if \"omp\" in fL4L:\n",
    "    dfExemple=pd.read_pickle(listeTiragesMorphomes[0])\n",
    "    colsTirages=dfExemple.columns.tolist()\n",
    "    fMorphomes=fL4L.replace(\".csv\",\".yaml\")\n",
    "    bMorphomes=True\n",
    "    with open(repL4L+fMorphomes,\"r\") as inFile:\n",
    "        syncretismes=yaml.safe_load(inFile)\n",
    "else:\n",
    "    dfExemple=pd.read_pickle(listeTirages[0])\n",
    "    colsTirages=dfExemple.columns.tolist()    \n",
    "    bMorphomes=False"
   ]
  },
  {
   "cell_type": "code",
   "execution_count": 6,
   "id": "db7edd8d-9935-4fc7-a9f2-0073780c580d",
   "metadata": {
    "tags": []
   },
   "outputs": [
    {
     "data": {
      "text/plain": [
       "{u'ai1P': [u'ai1P'],\n",
       " u'ai1S': [u'ai1S'],\n",
       " u'ai2P': [u'ai2P'],\n",
       " u'ai3P': [u'ai3P'],\n",
       " u'fi2P': [u'fi2P'],\n",
       " 'fi3P': ['fi3P', 'fi1P'],\n",
       " 'fi3S': ['fi2S', 'fi3S'],\n",
       " u'ii1P': [u'ii1P'],\n",
       " u'ii2P': [u'ii2P'],\n",
       " 'ii3S': ['ii1S', 'ii3S', 'ii2S', 'ii3P'],\n",
       " u'inf': [u'inf'],\n",
       " u'is1P': [u'is1P'],\n",
       " u'is2P': [u'is2P'],\n",
       " 'is3P': ['is3P', 'is2S', 'is1S'],\n",
       " 'is3S': ['is3S', 'ai3S', 'ai2S'],\n",
       " u'pI1P': [u'pI1P'],\n",
       " u'pI2P': [u'pI2P'],\n",
       " u'pP': [u'pP'],\n",
       " u'pc1P': [u'pc1P'],\n",
       " u'pc2P': [u'pc2P'],\n",
       " 'pc3S': ['pc2S', 'pc3S', 'pc3P', 'pc1S', 'fi1S'],\n",
       " u'pi1P': [u'pi1P'],\n",
       " u'pi2P': [u'pi2P'],\n",
       " 'pi3S': ['pi3S', 'pi1S', 'pI2S', 'pi2S'],\n",
       " 'ppFS': ['ppFS', 'ppFP'],\n",
       " u'ppMP': [u'ppMP'],\n",
       " 'ppMS': ['ppMS', 'ppMP'],\n",
       " u'ps1P': [u'ps1P'],\n",
       " u'ps2P': [u'ps2P'],\n",
       " 'ps3P': ['ps3P', 'ps2S', 'ps3S', 'pi3P', 'ps1S']}"
      ]
     },
     "execution_count": 6,
     "metadata": {},
     "output_type": "execute_result"
    }
   ],
   "source": [
    "for c in cols:\n",
    "    if c not in syncretismes:\n",
    "        syncretismes[c]=[c]\n",
    "syncretismes"
   ]
  },
  {
   "cell_type": "code",
   "execution_count": 7,
   "id": "968e80cc-9c36-458a-a9db-9b427c8ae633",
   "metadata": {},
   "outputs": [],
   "source": [
    "def makeTuples(row):\n",
    "    if bMorphomes:\n",
    "        for c in cols:\n",
    "            if row[c]==row[c]:\n",
    "                cc=\"/\".join(syncretismes[c])\n",
    "                if \",\" in row[c]:\n",
    "                    for overab in row[c].split(\",\"):\n",
    "                        tuples.append((row[\"lexeme\"],overab,c,cc,1,1))\n",
    "                else:\n",
    "                    tuples.append((row[\"lexeme\"],row[c],c,cc,1,1))        \n",
    "    else:\n",
    "        for c in cols:\n",
    "            if row[c]==row[c]:\n",
    "                if \",\" in row[c]:\n",
    "                    for overab in row[c].split(\",\"):\n",
    "                        tuples.append((row[\"lexeme\"],overab,row[\"lexeme\"],1,c,1,1))\n",
    "                else:\n",
    "                    tuples.append((row[\"lexeme\"],row[c],row[\"lexeme\"],1,c,1,1))\n",
    "    return"
   ]
  },
  {
   "cell_type": "code",
   "execution_count": 8,
   "id": "cd4bd6b0-6593-4a7e-86cc-c8ab7f4c3ee3",
   "metadata": {},
   "outputs": [],
   "source": [
    "tuples=[]\n",
    "_=df.apply(makeTuples,axis=1)\n",
    "# tuples"
   ]
  },
  {
   "cell_type": "code",
   "execution_count": 9,
   "id": "0d126946-8ff3-4f0f-bd51-89297962f565",
   "metadata": {},
   "outputs": [],
   "source": [
    "dfTirages=pd.DataFrame(tuples, columns=colsTirages)"
   ]
  },
  {
   "cell_type": "code",
   "execution_count": 10,
   "id": "6e60cf6a-fa4e-4937-abb2-31a62400c8e7",
   "metadata": {},
   "outputs": [],
   "source": [
    "dfTirages.to_pickle(repL4L+fL4L.replace(\".csv\",\".pkl\"))"
   ]
  },
  {
   "cell_type": "code",
   "execution_count": 11,
   "id": "0b880abf-9299-4d0d-abe0-c58c68001db9",
   "metadata": {
    "tags": []
   },
   "outputs": [
    {
     "data": {
      "text/html": [
       "<div>\n",
       "<style scoped>\n",
       "    .dataframe tbody tr th:only-of-type {\n",
       "        vertical-align: middle;\n",
       "    }\n",
       "\n",
       "    .dataframe tbody tr th {\n",
       "        vertical-align: top;\n",
       "    }\n",
       "\n",
       "    .dataframe thead th {\n",
       "        text-align: right;\n",
       "    }\n",
       "</style>\n",
       "<table border=\"1\" class=\"dataframe\">\n",
       "  <thead>\n",
       "    <tr style=\"text-align: right;\">\n",
       "      <th></th>\n",
       "      <th>lexeme</th>\n",
       "      <th>phono</th>\n",
       "      <th>case</th>\n",
       "      <th>morphome</th>\n",
       "      <th>freq</th>\n",
       "      <th>tir1</th>\n",
       "    </tr>\n",
       "  </thead>\n",
       "  <tbody>\n",
       "    <tr>\n",
       "      <th>0</th>\n",
       "      <td>gauchir</td>\n",
       "      <td>gOSir</td>\n",
       "      <td>inf</td>\n",
       "      <td>inf</td>\n",
       "      <td>1</td>\n",
       "      <td>1</td>\n",
       "    </tr>\n",
       "    <tr>\n",
       "      <th>1</th>\n",
       "      <td>gauchir</td>\n",
       "      <td>gOSi</td>\n",
       "      <td>ppMP</td>\n",
       "      <td>ppMP</td>\n",
       "      <td>1</td>\n",
       "      <td>1</td>\n",
       "    </tr>\n",
       "    <tr>\n",
       "      <th>2</th>\n",
       "      <td>gauchir</td>\n",
       "      <td>gOSi</td>\n",
       "      <td>ppMS</td>\n",
       "      <td>ppMS/ppMP</td>\n",
       "      <td>1</td>\n",
       "      <td>1</td>\n",
       "    </tr>\n",
       "    <tr>\n",
       "      <th>3</th>\n",
       "      <td>gauchir</td>\n",
       "      <td>gOSi</td>\n",
       "      <td>ppFS</td>\n",
       "      <td>ppFS/ppFP</td>\n",
       "      <td>1</td>\n",
       "      <td>1</td>\n",
       "    </tr>\n",
       "    <tr>\n",
       "      <th>4</th>\n",
       "      <td>gauchir</td>\n",
       "      <td>gOSi</td>\n",
       "      <td>pi3S</td>\n",
       "      <td>pi3S/pi1S/pI2S/pi2S</td>\n",
       "      <td>1</td>\n",
       "      <td>1</td>\n",
       "    </tr>\n",
       "  </tbody>\n",
       "</table>\n",
       "</div>"
      ],
      "text/plain": [
       "    lexeme  phono  case             morphome  freq  tir1\n",
       "0  gauchir  gOSir   inf                  inf     1     1\n",
       "1  gauchir   gOSi  ppMP                 ppMP     1     1\n",
       "2  gauchir   gOSi  ppMS            ppMS/ppMP     1     1\n",
       "3  gauchir   gOSi  ppFS            ppFS/ppFP     1     1\n",
       "4  gauchir   gOSi  pi3S  pi3S/pi1S/pI2S/pi2S     1     1"
      ]
     },
     "execution_count": 11,
     "metadata": {},
     "output_type": "execute_result"
    }
   ],
   "source": [
    "dfTirages.head()"
   ]
  },
  {
   "cell_type": "code",
   "execution_count": null,
   "id": "715d2cfc-3bf2-4cd5-bc0c-94dec8987187",
   "metadata": {},
   "outputs": [],
   "source": []
  }
 ],
 "metadata": {
  "kernelspec": {
   "display_name": "Python 2.7",
   "language": "python",
   "name": "py2"
  },
  "language_info": {
   "codemirror_mode": {
    "name": "ipython",
    "version": 2
   },
   "file_extension": ".py",
   "mimetype": "text/x-python",
   "name": "python",
   "nbconvert_exporter": "python",
   "pygments_lexer": "ipython2",
   "version": "2.7.16"
  }
 },
 "nbformat": 4,
 "nbformat_minor": 5
}
