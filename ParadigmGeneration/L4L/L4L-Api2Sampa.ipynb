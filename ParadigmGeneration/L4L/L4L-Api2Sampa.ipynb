{
 "cells": [
  {
   "cell_type": "code",
   "execution_count": 27,
   "id": "bebec574-a675-4d47-852c-87d3a34024ac",
   "metadata": {},
   "outputs": [],
   "source": [
    "import pandas as pd\n",
    "import numpy as np\n",
    "import re"
   ]
  },
  {
   "cell_type": "markdown",
   "id": "40865467-ba52-4873-83f6-0c034bb7fccc",
   "metadata": {},
   "source": [
    "# Transcription API vers Sampa"
   ]
  },
  {
   "cell_type": "code",
   "execution_count": 28,
   "id": "78e0499b-edb9-4988-9f0b-ab65f072d84f",
   "metadata": {},
   "outputs": [],
   "source": [
    "repL4L=\"/Users/gilles/ownCloud/Recherche/Boye/HDR/Data/L4L/\"\n",
    "repIMM21=repL4L+\"IMM21/\"\n",
    "fL4L=repL4L+\"L4L-complet.csv\"\n",
    "fL4L=repL4L+\"L4L-paradigmes-tail-omp.csv\"\n",
    "bMapCols=False"
   ]
  },
  {
   "cell_type": "code",
   "execution_count": 29,
   "id": "15eebb1c-4db0-4b3e-83cd-39f1aa7f4208",
   "metadata": {},
   "outputs": [
    {
     "data": {
      "text/html": [
       "<div>\n",
       "<style scoped>\n",
       "    .dataframe tbody tr th:only-of-type {\n",
       "        vertical-align: middle;\n",
       "    }\n",
       "\n",
       "    .dataframe tbody tr th {\n",
       "        vertical-align: top;\n",
       "    }\n",
       "\n",
       "    .dataframe thead th {\n",
       "        text-align: right;\n",
       "    }\n",
       "</style>\n",
       "<table border=\"1\" class=\"dataframe\">\n",
       "  <thead>\n",
       "    <tr style=\"text-align: right;\">\n",
       "      <th></th>\n",
       "      <th>0</th>\n",
       "      <th>lexeme</th>\n",
       "      <th>pP</th>\n",
       "      <th>pI1P</th>\n",
       "      <th>ps1P</th>\n",
       "      <th>pc2P</th>\n",
       "      <th>inf</th>\n",
       "      <th>ai2P</th>\n",
       "      <th>is2P</th>\n",
       "      <th>pi1P</th>\n",
       "      <th>...</th>\n",
       "      <th>is1P</th>\n",
       "      <th>fi3S</th>\n",
       "      <th>pc3S</th>\n",
       "      <th>ppFS</th>\n",
       "      <th>fi3P</th>\n",
       "      <th>is3P</th>\n",
       "      <th>is3S</th>\n",
       "      <th>ii3S</th>\n",
       "      <th>ps3P</th>\n",
       "      <th>pi3S</th>\n",
       "    </tr>\n",
       "  </thead>\n",
       "  <tbody>\n",
       "    <tr>\n",
       "      <th>0</th>\n",
       "      <td>1</td>\n",
       "      <td>gauchir</td>\n",
       "      <td>NaN</td>\n",
       "      <td>NaN</td>\n",
       "      <td>NaN</td>\n",
       "      <td>NaN</td>\n",
       "      <td>gOʃir</td>\n",
       "      <td>NaN</td>\n",
       "      <td>NaN</td>\n",
       "      <td>NaN</td>\n",
       "      <td>...</td>\n",
       "      <td>NaN</td>\n",
       "      <td>NaN</td>\n",
       "      <td>NaN</td>\n",
       "      <td>gOʃi</td>\n",
       "      <td>NaN</td>\n",
       "      <td>NaN</td>\n",
       "      <td>NaN</td>\n",
       "      <td>NaN</td>\n",
       "      <td>NaN</td>\n",
       "      <td>gOʃi</td>\n",
       "    </tr>\n",
       "    <tr>\n",
       "      <th>1</th>\n",
       "      <td>2</td>\n",
       "      <td>évider</td>\n",
       "      <td>NaN</td>\n",
       "      <td>NaN</td>\n",
       "      <td>NaN</td>\n",
       "      <td>NaN</td>\n",
       "      <td>NaN</td>\n",
       "      <td>NaN</td>\n",
       "      <td>NaN</td>\n",
       "      <td>NaN</td>\n",
       "      <td>...</td>\n",
       "      <td>NaN</td>\n",
       "      <td>Evid6ra</td>\n",
       "      <td>NaN</td>\n",
       "      <td>Evide</td>\n",
       "      <td>Evid6rô</td>\n",
       "      <td>NaN</td>\n",
       "      <td>Evida</td>\n",
       "      <td>EvidE</td>\n",
       "      <td>Evid</td>\n",
       "      <td>Evid</td>\n",
       "    </tr>\n",
       "    <tr>\n",
       "      <th>2</th>\n",
       "      <td>3</td>\n",
       "      <td>réinstaller</td>\n",
       "      <td>NaN</td>\n",
       "      <td>rEêstalô</td>\n",
       "      <td>NaN</td>\n",
       "      <td>NaN</td>\n",
       "      <td>NaN</td>\n",
       "      <td>NaN</td>\n",
       "      <td>NaN</td>\n",
       "      <td>rEêstalô</td>\n",
       "      <td>...</td>\n",
       "      <td>NaN</td>\n",
       "      <td>rEêstal6ra</td>\n",
       "      <td>rEêstal6rE</td>\n",
       "      <td>rEêstale</td>\n",
       "      <td>rEêstal6rô</td>\n",
       "      <td>NaN</td>\n",
       "      <td>rEêstala</td>\n",
       "      <td>NaN</td>\n",
       "      <td>rEêstal</td>\n",
       "      <td>rEêstal</td>\n",
       "    </tr>\n",
       "    <tr>\n",
       "      <th>3</th>\n",
       "      <td>4</td>\n",
       "      <td>caner</td>\n",
       "      <td>NaN</td>\n",
       "      <td>kanô</td>\n",
       "      <td>NaN</td>\n",
       "      <td>NaN</td>\n",
       "      <td>NaN</td>\n",
       "      <td>NaN</td>\n",
       "      <td>NaN</td>\n",
       "      <td>kanô</td>\n",
       "      <td>...</td>\n",
       "      <td>NaN</td>\n",
       "      <td>NaN</td>\n",
       "      <td>NaN</td>\n",
       "      <td>kane</td>\n",
       "      <td>NaN</td>\n",
       "      <td>NaN</td>\n",
       "      <td>kana</td>\n",
       "      <td>NaN</td>\n",
       "      <td>kan</td>\n",
       "      <td>kan</td>\n",
       "    </tr>\n",
       "    <tr>\n",
       "      <th>4</th>\n",
       "      <td>5</td>\n",
       "      <td>tancer</td>\n",
       "      <td>NaN</td>\n",
       "      <td>NaN</td>\n",
       "      <td>NaN</td>\n",
       "      <td>NaN</td>\n",
       "      <td>NaN</td>\n",
       "      <td>NaN</td>\n",
       "      <td>NaN</td>\n",
       "      <td>NaN</td>\n",
       "      <td>...</td>\n",
       "      <td>NaN</td>\n",
       "      <td>NaN</td>\n",
       "      <td>NaN</td>\n",
       "      <td>tâse</td>\n",
       "      <td>NaN</td>\n",
       "      <td>NaN</td>\n",
       "      <td>NaN</td>\n",
       "      <td>NaN</td>\n",
       "      <td>NaN</td>\n",
       "      <td>tâs</td>\n",
       "    </tr>\n",
       "  </tbody>\n",
       "</table>\n",
       "<p>5 rows × 32 columns</p>\n",
       "</div>"
      ],
      "text/plain": [
       "   0       lexeme   pP      pI1P ps1P pc2P    inf ai2P is2P      pi1P  ...  \\\n",
       "0  1      gauchir  NaN       NaN  NaN  NaN  gOʃir  NaN  NaN       NaN  ...   \n",
       "1  2       évider  NaN       NaN  NaN  NaN    NaN  NaN  NaN       NaN  ...   \n",
       "2  3  réinstaller  NaN  rEêstalô  NaN  NaN    NaN  NaN  NaN  rEêstalô  ...   \n",
       "3  4        caner  NaN      kanô  NaN  NaN    NaN  NaN  NaN      kanô  ...   \n",
       "4  5       tancer  NaN       NaN  NaN  NaN    NaN  NaN  NaN       NaN  ...   \n",
       "\n",
       "  is1P        fi3S        pc3S      ppFS        fi3P is3P      is3S   ii3S  \\\n",
       "0  NaN         NaN         NaN      gOʃi         NaN  NaN       NaN    NaN   \n",
       "1  NaN     Evid6ra         NaN     Evide     Evid6rô  NaN     Evida  EvidE   \n",
       "2  NaN  rEêstal6ra  rEêstal6rE  rEêstale  rEêstal6rô  NaN  rEêstala    NaN   \n",
       "3  NaN         NaN         NaN      kane         NaN  NaN      kana    NaN   \n",
       "4  NaN         NaN         NaN      tâse         NaN  NaN       NaN    NaN   \n",
       "\n",
       "      ps3P     pi3S  \n",
       "0      NaN     gOʃi  \n",
       "1     Evid     Evid  \n",
       "2  rEêstal  rEêstal  \n",
       "3      kan      kan  \n",
       "4      NaN      tâs  \n",
       "\n",
       "[5 rows x 32 columns]"
      ]
     },
     "execution_count": 29,
     "metadata": {},
     "output_type": "execute_result"
    }
   ],
   "source": [
    "dfTotal=pd.read_csv(fL4L,sep=\";\")\n",
    "dfTotal.head()"
   ]
  },
  {
   "cell_type": "code",
   "execution_count": 30,
   "id": "a1a2ad34-d64e-427e-b038-35550a6db009",
   "metadata": {},
   "outputs": [
    {
     "name": "stdout",
     "output_type": "stream",
     "text": [
      "['0', 'lexeme', 'pP', 'pI1P', 'ps1P', 'pc2P', 'inf', 'ai2P', 'is2P', 'pi1P', 'ii1P', 'fi2P', 'pI2P', 'ps2P', 'pc1P', 'ai1P', 'ai1S', 'ai3P', 'ii2P', 'pi2P', 'ppMP', 'ppMS', 'is1P', 'fi3S', 'pc3S', 'ppFS', 'fi3P', 'is3P', 'is3S', 'ii3S', 'ps3P', 'pi3S']\n"
     ]
    }
   ],
   "source": [
    "cols=dfTotal.columns.tolist()\n",
    "print cols"
   ]
  },
  {
   "cell_type": "code",
   "execution_count": 31,
   "id": "b3e86d7c-0d3f-48cc-b17b-4d079f6be56a",
   "metadata": {},
   "outputs": [],
   "source": [
    "apiSampa={}\n",
    "apiSampa2={}\n",
    "api=u\"ʁəøØœɛɔɑɲʒɥʃɡŋ\"\n",
    "sampa=u\"r6229EOaJZHSgN\"\n",
    "apiSampa2[u\"ɑ̃\"]=u\"â\"\n",
    "apiSampa2[u\"ɛ̃\"]=u\"ê\"\n",
    "apiSampa2[u\"ɔ̃\"]=u\"ô\"\n",
    "apiSampa2[u\"œ̃\"]=u\"û\"\n",
    "for i,s in enumerate(api):\n",
    "    apiSampa[s]=sampa[i]"
   ]
  },
  {
   "cell_type": "code",
   "execution_count": 32,
   "id": "cfd9694b-a572-4c72-9c71-483658d70ac8",
   "metadata": {
    "tags": []
   },
   "outputs": [],
   "source": [
    "def api2sampa(row):\n",
    "    lexeme=row.lexeme\n",
    "    result=row\n",
    "    for c in cols[2:]:\n",
    "        if row[c]==row[c]:\n",
    "            if row[c]==\"#DEF#\" or row[c]==\"ABS\":\n",
    "                row[c]=np.nan\n",
    "                print lexeme,c\n",
    "            else:\n",
    "                result[c]=result[c].replace(\";\",\",\")\n",
    "                for s in apiSampa2:\n",
    "                    result[c]=result[c].replace(s.encode(\"utf8\"),apiSampa2[s].encode(\"utf8\"))\n",
    "                for s in apiSampa:\n",
    "                    result[c]=result[c].replace(s.encode(\"utf8\"),apiSampa[s].encode(\"utf8\"))\n",
    "    return result"
   ]
  },
  {
   "cell_type": "code",
   "execution_count": 33,
   "id": "e8d1cf88-d7f0-4ee7-b0e5-1dea5e51fdcb",
   "metadata": {
    "tags": []
   },
   "outputs": [],
   "source": [
    "dfTotal=dfTotal.apply(api2sampa,axis=1)"
   ]
  },
  {
   "cell_type": "markdown",
   "id": "ef3132ef-58e3-4ea5-82d1-f15190cb9a45",
   "metadata": {
    "tags": []
   },
   "source": [
    "# Noms des colonnes vers Grace"
   ]
  },
  {
   "cell_type": "code",
   "execution_count": 34,
   "id": "f51ffab9-49d7-48e6-8305-68ad8cb05f5d",
   "metadata": {},
   "outputs": [
    {
     "name": "stdout",
     "output_type": "stream",
     "text": [
      "['0', 'lexeme', 'pP', 'pI1P', 'ps1P', 'pc2P', 'inf', 'ai2P', 'is2P', 'pi1P', 'ii1P', 'fi2P', 'pI2P', 'ps2P', 'pc1P', 'ai1P', 'ai1S', 'ai3P', 'ii2P', 'pi2P', 'ppMP', 'ppMS', 'is1P', 'fi3S', 'pc3S', 'ppFS', 'fi3P', 'is3P', 'is3S', 'ii3S', 'ps3P', 'pi3S']\n",
      "30\n"
     ]
    }
   ],
   "source": [
    "cols=dfTotal.columns.tolist()\n",
    "print cols\n",
    "print len(cols)-2"
   ]
  },
  {
   "cell_type": "code",
   "execution_count": 35,
   "id": "2099bf1d-7296-4091-9dfe-165f01f7cae9",
   "metadata": {
    "tags": []
   },
   "outputs": [],
   "source": [
    "if bMapCols:\n",
    "    mapT={\"fut\":\"fi\",\"cond\":\"pc\",\"pst\":\"ai\",\"prs\":\"pi\",\"ipfv\":\"ii\",\"imp\":\"pI\",\"sbjv\":\"ps\"}\n",
    "    mapCols={c:c for c in cols}\n",
    "    mapCols[\"prs.ptcp\"]=\"pP\"\n",
    "    for c in mapCols:\n",
    "        m=re.split(ur\"\\.\",mapCols[c])\n",
    "        if len(m)==2:\n",
    "            mapCols[c]=mapT[m[0]]+m[1].replace(\"sg\",\"S\").replace(\"pl\",\"P\")\n",
    "        elif len(m)==3:\n",
    "            mapCols[c]=\"is\"+m[2].replace(\"sg\",\"S\").replace(\"pl\",\"P\")\n",
    "        elif len(m)==4:\n",
    "            mapCols[c]=\"pp\"+m[2].upper()+m[3].replace(\"sg\",\"S\").replace(\"pl\",\"P\")\n",
    "    mapCols"
   ]
  },
  {
   "cell_type": "code",
   "execution_count": 36,
   "id": "5fe69cc1-1ddf-484f-a7d9-f8f5c56268cb",
   "metadata": {},
   "outputs": [],
   "source": [
    "if bMapCols:\n",
    "    newCols=[mapCols[c] for c in cols]\n",
    "    dfTotal.columns=newCols"
   ]
  },
  {
   "cell_type": "code",
   "execution_count": 37,
   "id": "6b889229-05e0-4509-844e-220fc7c05896",
   "metadata": {},
   "outputs": [],
   "source": [
    "dfTotal.to_csv(fL4L.replace(\".csv\",\"-sampa.csv\"),encoding=\"utf8\",sep=\";\",index=None)"
   ]
  },
  {
   "cell_type": "code",
   "execution_count": 15,
   "id": "feefd0f2-6ba0-4b35-8a06-2ee22f5aaba2",
   "metadata": {},
   "outputs": [
    {
     "ename": "SyntaxError",
     "evalue": "invalid syntax (<ipython-input-15-953a8c719a5e>, line 1)",
     "output_type": "error",
     "traceback": [
      "\u001b[0;36m  File \u001b[0;32m\"<ipython-input-15-953a8c719a5e>\"\u001b[0;36m, line \u001b[0;32m1\u001b[0m\n\u001b[0;31m    if bMapCols: %store mapCols\u001b[0m\n\u001b[0m                 ^\u001b[0m\n\u001b[0;31mSyntaxError\u001b[0m\u001b[0;31m:\u001b[0m invalid syntax\n"
     ]
    }
   ],
   "source": [
    "if bMapCols: %store mapCols"
   ]
  },
  {
   "cell_type": "code",
   "execution_count": null,
   "id": "8abc2cff-e09b-4266-bbb5-feda5fea3919",
   "metadata": {},
   "outputs": [],
   "source": []
  }
 ],
 "metadata": {
  "kernelspec": {
   "display_name": "Python 2.7",
   "language": "python",
   "name": "py2"
  },
  "language_info": {
   "codemirror_mode": {
    "name": "ipython",
    "version": 2
   },
   "file_extension": ".py",
   "mimetype": "text/x-python",
   "name": "python",
   "nbconvert_exporter": "python",
   "pygments_lexer": "ipython2",
   "version": "2.7.16"
  }
 },
 "nbformat": 4,
 "nbformat_minor": 5
}
