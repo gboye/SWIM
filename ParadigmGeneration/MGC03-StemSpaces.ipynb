{
 "cells": [
  {
   "cell_type": "code",
   "execution_count": 1,
   "id": "2fadfdce-b8c9-4b26-a496-c601ff8bd3bc",
   "metadata": {
    "tags": []
   },
   "outputs": [],
   "source": [
    "import pickle,re\n",
    "import pandas as pd\n",
    "import numpy as np"
   ]
  },
  {
   "cell_type": "code",
   "execution_count": 2,
   "id": "f399295d-4921-4c1c-9d08-b9cd42cbb9d1",
   "metadata": {
    "tags": []
   },
   "outputs": [],
   "source": [
    "repFiles=\"/Users/gilles/ownCloud/Recherche/Boye/HDR/Data/L4L/IMM21/\"\n",
    "rulesFile=\"IMM21-00-X-Morphomes-Regles.pkl\"\n",
    "resultFile=\"IMM21-00-X-Morphomes-Swim2.csv\"\n",
    "fRules=repFiles+rulesFile\n",
    "percentThreshold=.1\n",
    "debug=False"
   ]
  },
  {
   "cell_type": "code",
   "execution_count": 3,
   "id": "b3ed9a1c-8a1a-48a3-a139-41b749db1f53",
   "metadata": {
    "tags": []
   },
   "outputs": [],
   "source": [
    "if \"Morphomes\" in rulesFile:\n",
    "    bMorphomes=True\n",
    "    tirageFile=rulesFile.replace(\"-Regles.pkl\",\".pkl\")\n",
    "    fTirage=repFiles+tirageFile\n",
    "    with open(fTirage, 'rb') as input:\n",
    "        dfTirages = pickle.load(input)\n",
    "    morphomeCases=dfTirages[[\"case\",\"morphome\"]].drop_duplicates().to_dict()\n",
    "    morphomeCases\n",
    "    casesMC=morphomeCases[\"case\"]\n",
    "    morphomesMC=morphomeCases[\"morphome\"]\n",
    "    dictMorphomeCases={}\n",
    "    for element in casesMC:\n",
    "        dictMorphomeCases[casesMC[element]]=morphomesMC[element].split(\"/\")\n",
    "else:\n",
    "    bMorphomes=False\n"
   ]
  },
  {
   "cell_type": "code",
   "execution_count": 4,
   "id": "f4a86031-8758-4d53-928b-63814c3b5fb8",
   "metadata": {
    "tags": []
   },
   "outputs": [
    {
     "data": {
      "text/plain": [
       "{u'ai1P': [u'ai1P'],\n",
       " u'ai1S': [u'ai1S'],\n",
       " u'ai2P': [u'ai2P'],\n",
       " u'ai3P': [u'ai3P'],\n",
       " u'ai3S': ['ai3S', 'ai2S', 'is3S'],\n",
       " u'fi2P': [u'fi2P'],\n",
       " u'fi3P': ['fi3P', 'fi1P'],\n",
       " u'fi3S': ['fi2S', 'fi3S'],\n",
       " u'ii1P': [u'ii1P'],\n",
       " u'ii2P': [u'ii2P'],\n",
       " u'ii3S': ['ii1S', 'ii3S', 'ii2S', 'ii3P'],\n",
       " u'inf': [u'inf'],\n",
       " u'is1P': [u'is1P'],\n",
       " u'is2P': [u'is2P'],\n",
       " u'is2S': ['is2S', 'is1S'],\n",
       " u'is3P': ['is3P', 'is1S'],\n",
       " u'pI1P': [u'pI1P'],\n",
       " u'pI2P': [u'pI2P'],\n",
       " u'pI2S': [u'pI2S'],\n",
       " u'pP': [u'pP'],\n",
       " u'pc1P': [u'pc1P'],\n",
       " u'pc2P': [u'pc2P'],\n",
       " u'pc3S': ['pc2S', 'pc3S', 'pc3P', 'pc1S', 'fi1S'],\n",
       " u'pi1P': [u'pi1P'],\n",
       " u'pi1S': [u'pi1S'],\n",
       " u'pi2P': [u'pi2P'],\n",
       " u'pi3P': [u'pi3P'],\n",
       " u'pi3S': ['pi2S', 'pi3S'],\n",
       " u'ppFS': ['ppFS', 'ppFP'],\n",
       " u'ppMS': ['ppMP', 'ppMS'],\n",
       " u'ps1P': [u'ps1P'],\n",
       " u'ps2P': [u'ps2P'],\n",
       " u'ps3S': ['ps3S', 'ps3P', 'ps2S', 'ps1S']}"
      ]
     },
     "execution_count": 4,
     "metadata": {},
     "output_type": "execute_result"
    }
   ],
   "source": [
    "dictMorphomeCases"
   ]
  },
  {
   "cell_type": "markdown",
   "id": "7a4d812f-e30c-4b6b-b4ef-312aed2decb3",
   "metadata": {
    "jp-MarkdownHeadingCollapsed": true,
    "tags": []
   },
   "source": [
    "#### paireClasses"
   ]
  },
  {
   "cell_type": "code",
   "execution_count": 5,
   "id": "0b65b27b-585e-4d14-8619-56799c6db7d3",
   "metadata": {
    "tags": []
   },
   "outputs": [],
   "source": [
    "class paireClasses:\n",
    "    def __init__(self,case1,case2):\n",
    "        self.case1=case1\n",
    "        self.case2=case2\n",
    "        self.nom=case1+\"-\"+case2\n",
    "        self.classes1=classesPaire(case1,case2)\n",
    "        self.classes2=classesPaire(case2,case1)\n",
    "\n",
    "    def ajouterPatron(self,n,patron,motif):\n",
    "        if n==1:\n",
    "            self.classes1.ajouterPatron(patron,motif)\n",
    "        elif n==2:\n",
    "            self.classes2.ajouterPatron(patron,motif)\n",
    "        else:\n",
    "            if debug: print (\"le numéro de forme n'est pas dans [1,2]\",n)\n",
    "\n",
    "    def ajouterPaire(self,forme1,forme2):\n",
    "        self.classes1.ajouterPaire(forme1,forme2)\n",
    "        self.classes2.ajouterPaire(forme2,forme1)\n",
    "        \n",
    "    def calculerClasses(self):\n",
    "        return(self.classes1,self.classes2)"
   ]
  },
  {
   "cell_type": "markdown",
   "id": "1a215f69-1fb9-4739-8e14-91484e428687",
   "metadata": {
    "jp-MarkdownHeadingCollapsed": true,
    "tags": []
   },
   "source": [
    "#### classesPaire"
   ]
  },
  {
   "cell_type": "code",
   "execution_count": 6,
   "id": "0722419a-945a-4d0e-839a-c14afe385829",
   "metadata": {
    "tags": []
   },
   "outputs": [],
   "source": [
    "class classesPaire:\n",
    "    '''\n",
    "    Gestion des patrons, des classes et des transformations\n",
    "    \n",
    "    ajouterPatron : ajoute un patron et son motif associé (MGL)\n",
    "    ajouterPaire : ajoute une paire de formes, calcule la classe de la forme1 et la règle sélectionnée\n",
    "    sortirForme : cacule les formes de sortie correspondant à la forme1 avec leurs coefficients respectifs\n",
    "    '''\n",
    "    def __init__(self,case1,case2):\n",
    "        self.case1=case1\n",
    "        self.case2=case2\n",
    "        self.nom=case1+\"-\"+case2\n",
    "        self.classe={}\n",
    "        self.nbClasse={}\n",
    "        self.patrons={}\n",
    "        self.entree={}\n",
    "        self.sortie={}\n",
    "        self.classeCF={}\n",
    "        self.nbClasseCF={}\n",
    "    \n",
    "    def ajouterPatron(self,patron,motif):\n",
    "        self.patrons[patron]=motif\n",
    "        (entree,sortie)=patron.split(\"-\")\n",
    "        self.entree[patron]=entree.replace(u\".\",u\"(.)\")\n",
    "        self.sortie[patron]=remplacementSortie(sortie)\n",
    "    \n",
    "    def ajouterPaire(self,forme1,forme2):\n",
    "        '''\n",
    "        on calcule la classe de la paire idClasseForme et la règle sélectionnée\n",
    "        on incrémente le compteur de la classe et celui de la règle sélectionnée à l'intérieur de la classe\n",
    "        '''\n",
    "        classeFormeCF=[]\n",
    "        regleFormeCF=\"\"\n",
    "        classeForme=[]\n",
    "        regleForme=\"\"\n",
    "        for patron in self.patrons:\n",
    "            filterF1=\".*\"+patron.split(\"-\")[0]+\"$\"\n",
    "            if re.match(filterF1,forme1):\n",
    "                classeFormeCF.append(patron)\n",
    "                if forme2==re.sub(self.entree[patron]+\"$\",self.sortie[patron],forme1):\n",
    "                    regleFormeCF=patron\n",
    "            filterF1=self.patrons[patron]\n",
    "            if re.match(filterF1,forme1):\n",
    "                classeForme.append(patron)\n",
    "                '''\n",
    "                le +\"$\" permet de forcer l'alignement à droite pour les transformations suffixales\n",
    "                '''\n",
    "                if forme2==re.sub(self.entree[patron]+\"$\",self.sortie[patron],forme1):\n",
    "                    regleForme=patron\n",
    "        idClasseFormeCF=\", \".join(classeFormeCF)\n",
    "        if not idClasseFormeCF in self.classeCF:\n",
    "            self.classeCF[idClasseFormeCF]={}\n",
    "            self.nbClasseCF[idClasseFormeCF]=0\n",
    "        if not regleFormeCF in self.classeCF[idClasseFormeCF]:\n",
    "            self.classeCF[idClasseFormeCF][regleFormeCF]=0\n",
    "        self.nbClasseCF[idClasseFormeCF]+=1\n",
    "        self.classeCF[idClasseFormeCF][regleFormeCF]+=1\n",
    "        \n",
    "        idClasseForme=\", \".join(classeForme)\n",
    "        if not idClasseForme in self.classe:\n",
    "            self.classe[idClasseForme]={}\n",
    "            self.nbClasse[idClasseForme]=0\n",
    "        if not regleForme in self.classe[idClasseForme]:\n",
    "            self.classe[idClasseForme][regleForme]=0\n",
    "        self.nbClasse[idClasseForme]+=1\n",
    "        self.classe[idClasseForme][regleForme]+=1\n",
    "\n",
    "    def sortirForme(self,forme,contextFree=True):\n",
    "        classeForme=[]\n",
    "        sortieForme={}\n",
    "        for patron in self.patrons:\n",
    "            if contextFree:\n",
    "                filterF1=\".*\"+patron.split(\"-\")[0]+\"$\"\n",
    "            else:\n",
    "                filterF1=self.patrons[patron]\n",
    "            # print filterF1,forme\n",
    "            if re.match(filterF1,forme):\n",
    "                classeForme.append(patron)\n",
    "        if classeForme:\n",
    "            idClasseForme=\", \".join(classeForme)\n",
    "            if contextFree:\n",
    "                nbClasse=self.nbClasseCF\n",
    "                classe=self.classeCF\n",
    "            else:\n",
    "                nbClasse=self.nbClasse\n",
    "                classe=self.classe\n",
    "            if idClasseForme in nbClasse:\n",
    "                nTotal=nbClasse[idClasseForme]\n",
    "                for patron in classe[idClasseForme]:\n",
    "                    sortie=re.sub(self.entree[patron]+\"$\",self.sortie[patron],forme)\n",
    "                    sortieForme[sortie]=float(classe[idClasseForme][patron])/nTotal\n",
    "            else:\n",
    "                if debug:\n",
    "                    print (forme)\n",
    "                    print (\"pas de classe\",idClasseForme)\n",
    "                    print (\"%.2f par forme de sortie\" % (float(1)/len(classeForme)))\n",
    "                nTotal=len(classeForme)\n",
    "                for patron in classeForme:\n",
    "                    sortie=re.sub(self.entree[patron]+\"$\",self.sortie[patron],forme)\n",
    "                    sortieForme[sortie]=float(1)/nTotal\n",
    "        else:\n",
    "            if debug:\n",
    "                print (forme) \n",
    "                print (\"pas de patron\")\n",
    "        return sortieForme\n",
    "        "
   ]
  },
  {
   "cell_type": "markdown",
   "id": "f2055d7a-9643-4061-bc9f-99e83abd4837",
   "metadata": {},
   "source": [
    "## Traitement"
   ]
  },
  {
   "cell_type": "code",
   "execution_count": 7,
   "id": "01c11ed2-7088-40c0-8b5f-5088353ca4a8",
   "metadata": {
    "tags": []
   },
   "outputs": [
    {
     "data": {
      "text/plain": [
       "480.3"
      ]
     },
     "execution_count": 7,
     "metadata": {},
     "output_type": "execute_result"
    }
   ],
   "source": [
    "dfSwim=pd.read_csv(repFiles+resultFile,sep=\";\",encoding=\"utf8\")\n",
    "dfStemSpaces=dfSwim.copy()\n",
    "nbLexemes=dfSwim.lexeme.count()\n",
    "threshold=percentThreshold*nbLexemes\n",
    "threshold\n"
   ]
  },
  {
   "cell_type": "code",
   "execution_count": 8,
   "id": "6b35ccf1-bbf7-4b0f-9b96-f40d6d63585d",
   "metadata": {
    "tags": []
   },
   "outputs": [],
   "source": [
    "with open(fRules, 'rb') as input:\n",
    "    regles = pickle.load(input)"
   ]
  },
  {
   "cell_type": "code",
   "execution_count": 9,
   "id": "3f375a94-b8bf-478a-b7ce-f861f5e78fe3",
   "metadata": {
    "tags": []
   },
   "outputs": [],
   "source": [
    "zeroEntropy=[]\n",
    "for paire in regles:\n",
    "    if paire[0]!=paire[1]:\n",
    "        pClasses=regles[paire].classe\n",
    "        bZero=True\n",
    "        nbExemples=0\n",
    "        for regle in pClasses:\n",
    "            if len(pClasses[regle])>1:\n",
    "                bZero=False\n",
    "                break\n",
    "            else:\n",
    "                for classe in pClasses[regle]:\n",
    "                    nbExemples+=pClasses[regle][classe]\n",
    "        if bZero and nbExemples>threshold:\n",
    "            zeroEntropy.append((paire,nbExemples))"
   ]
  },
  {
   "cell_type": "code",
   "execution_count": 10,
   "id": "0d39c6bf-daea-4f19-b2c6-780a1c3eef3b",
   "metadata": {
    "tags": []
   },
   "outputs": [
    {
     "data": {
      "text/plain": [
       "[((u'fi2P', u'pc3S'), 704),\n",
       " ((u'fi2P', u'fi3S'), 716),\n",
       " ((u'fi2P', u'fi3P'), 651),\n",
       " ((u'fi3P', u'pc3S'), 930),\n",
       " ((u'fi3P', u'fi2P'), 651),\n",
       " ((u'fi3P', u'fi3S'), 969),\n",
       " ((u'fi3S', u'fi2P'), 716),\n",
       " ((u'fi3S', u'pc3S'), 1312),\n",
       " ((u'fi3S', u'fi3P'), 969),\n",
       " ((u'ii3S', u'pI2P'), 1315),\n",
       " ((u'ii3S', u'pI1P'), 841),\n",
       " ((u'ii3S', u'pi2P'), 1095),\n",
       " ((u'ii3S', u'pP'), 1646),\n",
       " ((u'ii3S', u'pi1P'), 910),\n",
       " ((u'ii3S', u'ii2P'), 814),\n",
       " ((u'pI1P', u'ii3S'), 841),\n",
       " ((u'pI1P', u'pP'), 848),\n",
       " ((u'pI1P', u'ii2P'), 628),\n",
       " ((u'pI1P', u'pI2P'), 801),\n",
       " ((u'pI1P', u'pi1P'), 691),\n",
       " ((u'pI1P', u'pi2P'), 591),\n",
       " ((u'pI2P', u'ii3S'), 1315),\n",
       " ((u'pI2P', u'ii2P'), 687),\n",
       " ((u'pI2P', u'pi2P'), 999),\n",
       " ((u'pI2P', u'pP'), 1373),\n",
       " ((u'pI2P', u'pI1P'), 801),\n",
       " ((u'pI2P', u'pi1P'), 799),\n",
       " ((u'pP', u'pI2P'), 1373),\n",
       " ((u'pP', u'pi1P'), 927),\n",
       " ((u'pP', u'pI1P'), 848),\n",
       " ((u'pP', u'ii3S'), 1646),\n",
       " ((u'pP', u'ii2P'), 808),\n",
       " ((u'pP', u'pi2P'), 1084),\n",
       " ((u'pc3S', u'fi3P'), 930),\n",
       " ((u'pc3S', u'fi3S'), 1312),\n",
       " ((u'pc3S', u'fi2P'), 704),\n",
       " ((u'pi1P', u'ii2P'), 660),\n",
       " ((u'pi1P', u'pP'), 927),\n",
       " ((u'pi1P', u'pI1P'), 691),\n",
       " ((u'pi1P', u'pi2P'), 646),\n",
       " ((u'pi1P', u'ii3S'), 910),\n",
       " ((u'pi1P', u'pI2P'), 799),\n",
       " ((u'pi2P', u'pi1P'), 646),\n",
       " ((u'pi2P', u'ii3S'), 1095),\n",
       " ((u'pi2P', u'ii2P'), 557),\n",
       " ((u'pi2P', u'pP'), 1084),\n",
       " ((u'pi2P', u'pI1P'), 591),\n",
       " ((u'pi2P', u'pI2P'), 999),\n",
       " ((u'pi3P', u'ps3S'), 489),\n",
       " ((u'ppFS', u'ppMS'), 2680),\n",
       " ((u'ps3S', u'pi3P'), 489)]"
      ]
     },
     "execution_count": 10,
     "metadata": {},
     "output_type": "execute_result"
    }
   ],
   "source": [
    "sorted(zeroEntropy, key=lambda tup: tup[0][0])"
   ]
  },
  {
   "cell_type": "code",
   "execution_count": 11,
   "id": "321b55be-421f-4e8d-bce1-48acbb5ac5cd",
   "metadata": {
    "tags": []
   },
   "outputs": [],
   "source": [
    "def stemSpaceForm(rules,row,contextFree=False):\n",
    "    swimSortir=rules.sortirForme(row,contextFree)\n",
    "    if swimSortir:\n",
    "        result=swimSortir.keys()[0]\n",
    "    else:\n",
    "        result=np.nan\n",
    "    return result"
   ]
  },
  {
   "cell_type": "code",
   "execution_count": 12,
   "id": "67c390b8-7d09-4317-a164-5f9e1f19bf4e",
   "metadata": {
    "tags": []
   },
   "outputs": [
    {
     "data": {
      "text/plain": [
       "91"
      ]
     },
     "execution_count": 12,
     "metadata": {},
     "output_type": "execute_result"
    }
   ],
   "source": [
    "dfStemSpaces.loc[(dfStemSpaces[\"ii3P\"].notnull()) & (dfStemSpaces[\"pi2P\"].isnull()),\"ii3P\"].count()"
   ]
  },
  {
   "cell_type": "code",
   "execution_count": 13,
   "id": "87973b50-7d04-48c4-a9e3-6c13c779c884",
   "metadata": {
    "tags": []
   },
   "outputs": [
    {
     "name": "stdout",
     "output_type": "stream",
     "text": [
      "pP pI2P\n",
      "pI1P ii3S\n",
      "pI2P ii3S\n",
      "fi3S fi2P\n",
      "pc3S fi3P\n",
      "pI1P pP\n",
      "fi3S pc3S\n",
      "pi2P pi1P\n",
      "pi2P ii3S\n",
      "pP pi1P\n",
      "pi1P ii2P\n",
      "pi2P ii2P\n",
      "pI2P ii2P\n",
      "pI1P ii2P\n",
      "pi1P pP\n",
      "pI1P pI2P\n",
      "ii3S pI2P\n",
      "pP pI1P\n",
      "pI1P pi1P\n",
      "fi3P pc3S\n",
      "fi2P pc3S\n",
      "ps3S pi3P\n",
      "ii3S pI1P\n",
      "pI2P pi2P\n",
      "pI1P pi2P\n",
      "pi1P pI1P\n",
      "fi2P fi3S\n",
      "ii3S pi2P\n",
      "pi3P ps3S\n",
      "pI2P pP\n",
      "pi2P pP\n",
      "pi2P pI1P\n",
      "pi2P pI2P\n",
      "fi3S fi3P\n",
      "pi1P pi2P\n",
      "pc3S fi3S\n",
      "pc3S fi2P\n",
      "ii3S pP\n",
      "pP ii3S\n",
      "pP ii2P\n",
      "fi2P fi3P\n",
      "pi1P ii3S\n",
      "ii3S pi1P\n",
      "fi3P fi2P\n",
      "pI2P pI1P\n",
      "pI2P pi1P\n",
      "pi1P pI2P\n",
      "fi3P fi3S\n",
      "ii3S ii2P\n",
      "pP pi2P\n",
      "ppFS ppMS\n"
     ]
    },
    {
     "data": {
      "text/plain": [
       "1170"
      ]
     },
     "execution_count": 13,
     "metadata": {},
     "output_type": "execute_result"
    }
   ],
   "source": [
    "nbStemSpaceForms=0\n",
    "for (c1,c2),_ in zeroEntropy:\n",
    "    print c1,c2\n",
    "    nbStemSpaceForms+=dfStemSpaces.loc[(dfStemSpaces[c1].notnull()) & (dfStemSpaces[c2].isnull()),c1].count()\n",
    "    dfStemSpaces.loc[(dfStemSpaces[c1].notnull()) & (dfStemSpaces[c2].isnull()),c2]=dfStemSpaces.loc[(dfStemSpaces[c1].notnull()) & (dfStemSpaces[c2].isnull()),c1].apply(lambda x: stemSpaceForm(regles[c1,c2],x))\n",
    "nbStemSpaceForms"
   ]
  },
  {
   "cell_type": "code",
   "execution_count": 14,
   "id": "c8ab25c8-9a46-4ede-a25b-c6942a85af22",
   "metadata": {},
   "outputs": [
    {
     "name": "stdout",
     "output_type": "stream",
     "text": [
      "ai3S => ai2S\n",
      "ai3S => is3S\n",
      "is3P => is1S\n",
      "ps3S => ps3P\n",
      "ps3S => ps2S\n",
      "ps3S => ps1S\n",
      "ii3S => ii1S\n",
      "ii3S => ii2S\n",
      "ii3S => ii3P\n",
      "ppFS => ppFP\n",
      "is2S => is1S\n",
      "pi3S => pi2S\n",
      "ppMS => ppMP\n",
      "pc3S => pc2S\n",
      "pc3S => pc3P\n",
      "pc3S => pc1S\n",
      "pc3S => fi1S\n",
      "fi3S => fi2S\n",
      "fi3P => fi1P\n"
     ]
    }
   ],
   "source": [
    "if bMorphomes:\n",
    "    for c1 in dictMorphomeCases:\n",
    "        for c2 in dictMorphomeCases[c1]:\n",
    "            if c1!=c2:\n",
    "                print c1,\"=>\",c2\n",
    "                dfStemSpaces[c2]=dfStemSpaces[c1]\n",
    "    "
   ]
  },
  {
   "cell_type": "code",
   "execution_count": 15,
   "id": "a304ce06-f294-4898-beba-be745445cdd1",
   "metadata": {
    "tags": []
   },
   "outputs": [],
   "source": [
    "dfStemSpaces.to_csv(repFiles+resultFile.replace(\".csv\",\"-StemSpace.csv\"),index=None,sep=\";\",encoding=\"utf8\")"
   ]
  },
  {
   "cell_type": "code",
   "execution_count": null,
   "id": "422f3db6-cd0d-4fa4-9e0c-ba10c9dc66b6",
   "metadata": {},
   "outputs": [],
   "source": []
  }
 ],
 "metadata": {
  "kernelspec": {
   "display_name": "Python 2.7",
   "language": "python",
   "name": "py2"
  },
  "language_info": {
   "codemirror_mode": {
    "name": "ipython",
    "version": 2
   },
   "file_extension": ".py",
   "mimetype": "text/x-python",
   "name": "python",
   "nbconvert_exporter": "python",
   "pygments_lexer": "ipython2",
   "version": "2.7.16"
  }
 },
 "nbformat": 4,
 "nbformat_minor": 5
}
